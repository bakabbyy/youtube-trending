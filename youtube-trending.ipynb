{
 "cells": [
  {
   "cell_type": "markdown",
   "metadata": {},
   "source": [
    "# Trending YouTube Content Exploratory Data Analysis\n",
    "\n",
    "## Table of Contents\n",
    "<ul>\n",
    "<li><a href=\"#intro\">Introduction</a></li>\n",
    "<li><a href=\"#wrangling\">Data Wrangling</a></li>\n",
    "    <ul>\n",
    "    <li><a href=\"#assess\">Assess the data</a></li>\n",
    "        <ul>\n",
    "            <li><a href=\"#assess_sum\">Assessment summary</a></li>\n",
    "        </ul>\n",
    "    <li><a href=\"#clean\">Clean the data</a></li>\n",
    "        <ul>\n",
    "            <li><a href=\"clean_sum\">Cleaning summary</a></li>\n",
    "        </ul>\n",
    "    </ul>\n",
    "<li><a href=\"#eda\">Exploratory Data Analysis</a></li>\n",
    "<li><a href=\"#conclusions\">Conclusions</a></li>\n",
    "</ul>"
   ]
  },
  {
   "cell_type": "markdown",
   "metadata": {},
   "source": [
    "<a id='intro'></a>\n",
    "## Introduction\n",
    "The purpose of this analysis is to analyze the YouTube trending content in the US. Below are a few questions I am looking to answer:\n",
    "- What types of videos appear in trending content most often? How has that changed over time?\n",
    "- Are there particular days/times videos were posted that affect top video performance?\n",
    "- How long does it take for a video to become trending typically?\n",
    "- Is there a threshold for the amount of engagement/other statistic to become trending?\n",
    "- What creators have had the most success in consistently publishing trending video? Why is that?\n",
    "- Are there common themes in best practices (titles, descriptions, tags) amongst trending content?"
   ]
  },
  {
   "cell_type": "markdown",
   "metadata": {},
   "source": [
    "<a id='wrangling'></a>\n",
    "## Data Wrangling"
   ]
  },
  {
   "cell_type": "code",
   "execution_count": 27,
   "metadata": {},
   "outputs": [],
   "source": [
    "import numpy as np\n",
    "import pandas as pd\n",
    "import matplotlib.pyplot as plt\n",
    "import seaborn as sns\n",
    "import plotly.io as pio\n",
    "import plotly.express as px\n",
    "import plotly.graph_objects as go\n",
    "\n",
    "pio.templates.default = \"plotly_white\"\n",
    "%matplotlib inline"
   ]
  },
  {
   "cell_type": "code",
   "execution_count": 2,
   "metadata": {},
   "outputs": [],
   "source": [
    "# Read csv file of trending YouTube video data\n",
    "videos = pd.read_csv(r'/Users/baka_brooks/Documents/my-projects/youtube/datasets/USvideos.csv')"
   ]
  },
  {
   "cell_type": "code",
   "execution_count": 3,
   "metadata": {},
   "outputs": [],
   "source": [
    "# Read json file of US video categories\n",
    "import json\n",
    "from pandas.io.json import json_normalize\n",
    "\n",
    "data = pd.read_json(r\"/Users/baka_brooks/Documents/my-projects/youtube/datasets/US_category_id.json\")\n",
    "\n",
    "category_id = []\n",
    "category = []\n",
    "for item in data['items']:\n",
    "    category_id.append(item['id'])\n",
    "    category.append(item['snippet']['title'])\n",
    "    \n",
    "categories = pd.DataFrame(list(zip(category_id, category)), columns=['category_id', 'category'])\n",
    "categories['category_id'] = categories['category_id'].astype('int64')\n",
    "categories = categories.sort_values('category_id')"
   ]
  },
  {
   "cell_type": "markdown",
   "metadata": {},
   "source": [
    "<a id='assess'></a>\n",
    "### Assess the data"
   ]
  },
  {
   "cell_type": "code",
   "execution_count": 4,
   "metadata": {},
   "outputs": [
    {
     "data": {
      "text/html": [
       "<div>\n",
       "<style scoped>\n",
       "    .dataframe tbody tr th:only-of-type {\n",
       "        vertical-align: middle;\n",
       "    }\n",
       "\n",
       "    .dataframe tbody tr th {\n",
       "        vertical-align: top;\n",
       "    }\n",
       "\n",
       "    .dataframe thead th {\n",
       "        text-align: right;\n",
       "    }\n",
       "</style>\n",
       "<table border=\"1\" class=\"dataframe\">\n",
       "  <thead>\n",
       "    <tr style=\"text-align: right;\">\n",
       "      <th></th>\n",
       "      <th>video_id</th>\n",
       "      <th>trending_date</th>\n",
       "      <th>title</th>\n",
       "      <th>channel_title</th>\n",
       "      <th>category_id</th>\n",
       "      <th>publish_time</th>\n",
       "      <th>tags</th>\n",
       "      <th>views</th>\n",
       "      <th>likes</th>\n",
       "      <th>dislikes</th>\n",
       "      <th>comment_count</th>\n",
       "      <th>thumbnail_link</th>\n",
       "      <th>comments_disabled</th>\n",
       "      <th>ratings_disabled</th>\n",
       "      <th>video_error_or_removed</th>\n",
       "      <th>description</th>\n",
       "    </tr>\n",
       "  </thead>\n",
       "  <tbody>\n",
       "    <tr>\n",
       "      <th>0</th>\n",
       "      <td>2kyS6SvSYSE</td>\n",
       "      <td>17.14.11</td>\n",
       "      <td>WE WANT TO TALK ABOUT OUR MARRIAGE</td>\n",
       "      <td>CaseyNeistat</td>\n",
       "      <td>22</td>\n",
       "      <td>2017-11-13T17:13:01.000Z</td>\n",
       "      <td>SHANtell martin</td>\n",
       "      <td>748374</td>\n",
       "      <td>57527</td>\n",
       "      <td>2966</td>\n",
       "      <td>15954</td>\n",
       "      <td>https://i.ytimg.com/vi/2kyS6SvSYSE/default.jpg</td>\n",
       "      <td>False</td>\n",
       "      <td>False</td>\n",
       "      <td>False</td>\n",
       "      <td>SHANTELL'S CHANNEL - https://www.youtube.com/s...</td>\n",
       "    </tr>\n",
       "    <tr>\n",
       "      <th>1</th>\n",
       "      <td>1ZAPwfrtAFY</td>\n",
       "      <td>17.14.11</td>\n",
       "      <td>The Trump Presidency: Last Week Tonight with J...</td>\n",
       "      <td>LastWeekTonight</td>\n",
       "      <td>24</td>\n",
       "      <td>2017-11-13T07:30:00.000Z</td>\n",
       "      <td>last week tonight trump presidency|\"last week ...</td>\n",
       "      <td>2418783</td>\n",
       "      <td>97185</td>\n",
       "      <td>6146</td>\n",
       "      <td>12703</td>\n",
       "      <td>https://i.ytimg.com/vi/1ZAPwfrtAFY/default.jpg</td>\n",
       "      <td>False</td>\n",
       "      <td>False</td>\n",
       "      <td>False</td>\n",
       "      <td>One year after the presidential election, John...</td>\n",
       "    </tr>\n",
       "    <tr>\n",
       "      <th>2</th>\n",
       "      <td>5qpjK5DgCt4</td>\n",
       "      <td>17.14.11</td>\n",
       "      <td>Racist Superman | Rudy Mancuso, King Bach &amp; Le...</td>\n",
       "      <td>Rudy Mancuso</td>\n",
       "      <td>23</td>\n",
       "      <td>2017-11-12T19:05:24.000Z</td>\n",
       "      <td>racist superman|\"rudy\"|\"mancuso\"|\"king\"|\"bach\"...</td>\n",
       "      <td>3191434</td>\n",
       "      <td>146033</td>\n",
       "      <td>5339</td>\n",
       "      <td>8181</td>\n",
       "      <td>https://i.ytimg.com/vi/5qpjK5DgCt4/default.jpg</td>\n",
       "      <td>False</td>\n",
       "      <td>False</td>\n",
       "      <td>False</td>\n",
       "      <td>WATCH MY PREVIOUS VIDEO ▶ \\n\\nSUBSCRIBE ► http...</td>\n",
       "    </tr>\n",
       "    <tr>\n",
       "      <th>3</th>\n",
       "      <td>puqaWrEC7tY</td>\n",
       "      <td>17.14.11</td>\n",
       "      <td>Nickelback Lyrics: Real or Fake?</td>\n",
       "      <td>Good Mythical Morning</td>\n",
       "      <td>24</td>\n",
       "      <td>2017-11-13T11:00:04.000Z</td>\n",
       "      <td>rhett and link|\"gmm\"|\"good mythical morning\"|\"...</td>\n",
       "      <td>343168</td>\n",
       "      <td>10172</td>\n",
       "      <td>666</td>\n",
       "      <td>2146</td>\n",
       "      <td>https://i.ytimg.com/vi/puqaWrEC7tY/default.jpg</td>\n",
       "      <td>False</td>\n",
       "      <td>False</td>\n",
       "      <td>False</td>\n",
       "      <td>Today we find out if Link is a Nickelback amat...</td>\n",
       "    </tr>\n",
       "    <tr>\n",
       "      <th>4</th>\n",
       "      <td>d380meD0W0M</td>\n",
       "      <td>17.14.11</td>\n",
       "      <td>I Dare You: GOING BALD!?</td>\n",
       "      <td>nigahiga</td>\n",
       "      <td>24</td>\n",
       "      <td>2017-11-12T18:01:41.000Z</td>\n",
       "      <td>ryan|\"higa\"|\"higatv\"|\"nigahiga\"|\"i dare you\"|\"...</td>\n",
       "      <td>2095731</td>\n",
       "      <td>132235</td>\n",
       "      <td>1989</td>\n",
       "      <td>17518</td>\n",
       "      <td>https://i.ytimg.com/vi/d380meD0W0M/default.jpg</td>\n",
       "      <td>False</td>\n",
       "      <td>False</td>\n",
       "      <td>False</td>\n",
       "      <td>I know it's been a while since we did this sho...</td>\n",
       "    </tr>\n",
       "  </tbody>\n",
       "</table>\n",
       "</div>"
      ],
      "text/plain": [
       "      video_id trending_date  \\\n",
       "0  2kyS6SvSYSE      17.14.11   \n",
       "1  1ZAPwfrtAFY      17.14.11   \n",
       "2  5qpjK5DgCt4      17.14.11   \n",
       "3  puqaWrEC7tY      17.14.11   \n",
       "4  d380meD0W0M      17.14.11   \n",
       "\n",
       "                                               title          channel_title  \\\n",
       "0                 WE WANT TO TALK ABOUT OUR MARRIAGE           CaseyNeistat   \n",
       "1  The Trump Presidency: Last Week Tonight with J...        LastWeekTonight   \n",
       "2  Racist Superman | Rudy Mancuso, King Bach & Le...           Rudy Mancuso   \n",
       "3                   Nickelback Lyrics: Real or Fake?  Good Mythical Morning   \n",
       "4                           I Dare You: GOING BALD!?               nigahiga   \n",
       "\n",
       "   category_id              publish_time  \\\n",
       "0           22  2017-11-13T17:13:01.000Z   \n",
       "1           24  2017-11-13T07:30:00.000Z   \n",
       "2           23  2017-11-12T19:05:24.000Z   \n",
       "3           24  2017-11-13T11:00:04.000Z   \n",
       "4           24  2017-11-12T18:01:41.000Z   \n",
       "\n",
       "                                                tags    views   likes  \\\n",
       "0                                    SHANtell martin   748374   57527   \n",
       "1  last week tonight trump presidency|\"last week ...  2418783   97185   \n",
       "2  racist superman|\"rudy\"|\"mancuso\"|\"king\"|\"bach\"...  3191434  146033   \n",
       "3  rhett and link|\"gmm\"|\"good mythical morning\"|\"...   343168   10172   \n",
       "4  ryan|\"higa\"|\"higatv\"|\"nigahiga\"|\"i dare you\"|\"...  2095731  132235   \n",
       "\n",
       "   dislikes  comment_count                                  thumbnail_link  \\\n",
       "0      2966          15954  https://i.ytimg.com/vi/2kyS6SvSYSE/default.jpg   \n",
       "1      6146          12703  https://i.ytimg.com/vi/1ZAPwfrtAFY/default.jpg   \n",
       "2      5339           8181  https://i.ytimg.com/vi/5qpjK5DgCt4/default.jpg   \n",
       "3       666           2146  https://i.ytimg.com/vi/puqaWrEC7tY/default.jpg   \n",
       "4      1989          17518  https://i.ytimg.com/vi/d380meD0W0M/default.jpg   \n",
       "\n",
       "   comments_disabled  ratings_disabled  video_error_or_removed  \\\n",
       "0              False             False                   False   \n",
       "1              False             False                   False   \n",
       "2              False             False                   False   \n",
       "3              False             False                   False   \n",
       "4              False             False                   False   \n",
       "\n",
       "                                         description  \n",
       "0  SHANTELL'S CHANNEL - https://www.youtube.com/s...  \n",
       "1  One year after the presidential election, John...  \n",
       "2  WATCH MY PREVIOUS VIDEO ▶ \\n\\nSUBSCRIBE ► http...  \n",
       "3  Today we find out if Link is a Nickelback amat...  \n",
       "4  I know it's been a while since we did this sho...  "
      ]
     },
     "execution_count": 4,
     "metadata": {},
     "output_type": "execute_result"
    }
   ],
   "source": [
    "videos.head(5)"
   ]
  },
  {
   "cell_type": "markdown",
   "metadata": {},
   "source": [
    "- Tags separated by \"|\" character\n",
    "- Description also contains special characters\n",
    "- Trending date and published time columns are in different formats, and both are not the standard datetime format"
   ]
  },
  {
   "cell_type": "code",
   "execution_count": 5,
   "metadata": {},
   "outputs": [
    {
     "data": {
      "text/plain": [
       "(40949, 16)"
      ]
     },
     "execution_count": 5,
     "metadata": {},
     "output_type": "execute_result"
    }
   ],
   "source": [
    "videos.shape"
   ]
  },
  {
   "cell_type": "markdown",
   "metadata": {},
   "source": [
    "- There are 40,949 videos included in this dataset and 16 columns"
   ]
  },
  {
   "cell_type": "code",
   "execution_count": 6,
   "metadata": {},
   "outputs": [
    {
     "name": "stdout",
     "output_type": "stream",
     "text": [
      "<class 'pandas.core.frame.DataFrame'>\n",
      "RangeIndex: 40949 entries, 0 to 40948\n",
      "Data columns (total 16 columns):\n",
      " #   Column                  Non-Null Count  Dtype \n",
      "---  ------                  --------------  ----- \n",
      " 0   video_id                40949 non-null  object\n",
      " 1   trending_date           40949 non-null  object\n",
      " 2   title                   40949 non-null  object\n",
      " 3   channel_title           40949 non-null  object\n",
      " 4   category_id             40949 non-null  int64 \n",
      " 5   publish_time            40949 non-null  object\n",
      " 6   tags                    40949 non-null  object\n",
      " 7   views                   40949 non-null  int64 \n",
      " 8   likes                   40949 non-null  int64 \n",
      " 9   dislikes                40949 non-null  int64 \n",
      " 10  comment_count           40949 non-null  int64 \n",
      " 11  thumbnail_link          40949 non-null  object\n",
      " 12  comments_disabled       40949 non-null  bool  \n",
      " 13  ratings_disabled        40949 non-null  bool  \n",
      " 14  video_error_or_removed  40949 non-null  bool  \n",
      " 15  description             40379 non-null  object\n",
      "dtypes: bool(3), int64(5), object(8)\n",
      "memory usage: 4.2+ MB\n"
     ]
    }
   ],
   "source": [
    "videos.info()"
   ]
  },
  {
   "cell_type": "markdown",
   "metadata": {},
   "source": [
    "- There are some null descriptions"
   ]
  },
  {
   "cell_type": "code",
   "execution_count": 7,
   "metadata": {},
   "outputs": [
    {
     "data": {
      "text/plain": [
       "video_id                  object\n",
       "trending_date             object\n",
       "title                     object\n",
       "channel_title             object\n",
       "category_id                int64\n",
       "publish_time              object\n",
       "tags                      object\n",
       "views                      int64\n",
       "likes                      int64\n",
       "dislikes                   int64\n",
       "comment_count              int64\n",
       "thumbnail_link            object\n",
       "comments_disabled           bool\n",
       "ratings_disabled            bool\n",
       "video_error_or_removed      bool\n",
       "description               object\n",
       "dtype: object"
      ]
     },
     "execution_count": 7,
     "metadata": {},
     "output_type": "execute_result"
    }
   ],
   "source": [
    "videos.dtypes"
   ]
  },
  {
   "cell_type": "markdown",
   "metadata": {},
   "source": [
    "- Dates and times are read as strings"
   ]
  },
  {
   "cell_type": "code",
   "execution_count": 8,
   "metadata": {},
   "outputs": [
    {
     "data": {
      "text/plain": [
       "48"
      ]
     },
     "execution_count": 8,
     "metadata": {},
     "output_type": "execute_result"
    }
   ],
   "source": [
    "videos.duplicated().sum()"
   ]
  },
  {
   "cell_type": "markdown",
   "metadata": {},
   "source": [
    "- There are 48 duplicate rows in the dataset."
   ]
  },
  {
   "cell_type": "code",
   "execution_count": 9,
   "metadata": {},
   "outputs": [
    {
     "data": {
      "text/plain": [
       "6351"
      ]
     },
     "execution_count": 9,
     "metadata": {},
     "output_type": "execute_result"
    }
   ],
   "source": [
    "videos.video_id.nunique()"
   ]
  },
  {
   "cell_type": "markdown",
   "metadata": {},
   "source": [
    "- There are 40K+ rows in the dataset, but there are 6,351 unique videos featured."
   ]
  },
  {
   "cell_type": "code",
   "execution_count": 10,
   "metadata": {},
   "outputs": [
    {
     "data": {
      "text/plain": [
       "j4KvrAUjn6c    30\n",
       "QBL8IRJ5yHU    29\n",
       "NBSAQenU2Bk    29\n",
       "t4pRQ0jn23Q    29\n",
       "MAjY8mCTXWk    29\n",
       "Name: video_id, dtype: int64"
      ]
     },
     "execution_count": 10,
     "metadata": {},
     "output_type": "execute_result"
    }
   ],
   "source": [
    "videos.video_id.value_counts().head()"
   ]
  },
  {
   "cell_type": "markdown",
   "metadata": {},
   "source": [
    "- The most common `video_id` is \"j4KvrAUjn6c\". Let's examine these rows to see the differences between these rows."
   ]
  },
  {
   "cell_type": "code",
   "execution_count": 11,
   "metadata": {},
   "outputs": [
    {
     "data": {
      "text/html": [
       "<div>\n",
       "<style scoped>\n",
       "    .dataframe tbody tr th:only-of-type {\n",
       "        vertical-align: middle;\n",
       "    }\n",
       "\n",
       "    .dataframe tbody tr th {\n",
       "        vertical-align: top;\n",
       "    }\n",
       "\n",
       "    .dataframe thead th {\n",
       "        text-align: right;\n",
       "    }\n",
       "</style>\n",
       "<table border=\"1\" class=\"dataframe\">\n",
       "  <thead>\n",
       "    <tr style=\"text-align: right;\">\n",
       "      <th></th>\n",
       "      <th>video_id</th>\n",
       "      <th>trending_date</th>\n",
       "      <th>title</th>\n",
       "      <th>channel_title</th>\n",
       "      <th>category_id</th>\n",
       "      <th>publish_time</th>\n",
       "      <th>tags</th>\n",
       "      <th>views</th>\n",
       "      <th>likes</th>\n",
       "      <th>dislikes</th>\n",
       "      <th>comment_count</th>\n",
       "      <th>thumbnail_link</th>\n",
       "      <th>comments_disabled</th>\n",
       "      <th>ratings_disabled</th>\n",
       "      <th>video_error_or_removed</th>\n",
       "      <th>description</th>\n",
       "    </tr>\n",
       "  </thead>\n",
       "  <tbody>\n",
       "    <tr>\n",
       "      <th>34550</th>\n",
       "      <td>j4KvrAUjn6c</td>\n",
       "      <td>18.14.05</td>\n",
       "      <td>WE MADE OUR MOM CRY...HER DREAM CAME TRUE!</td>\n",
       "      <td>Lucas and Marcus</td>\n",
       "      <td>24</td>\n",
       "      <td>2018-05-13T18:03:56.000Z</td>\n",
       "      <td>Lucas and Marcus|\"Marcus and Lucas\"|\"Dobre\"|\"D...</td>\n",
       "      <td>2131702</td>\n",
       "      <td>54280</td>\n",
       "      <td>4696</td>\n",
       "      <td>10705</td>\n",
       "      <td>https://i.ytimg.com/vi/j4KvrAUjn6c/default.jpg</td>\n",
       "      <td>False</td>\n",
       "      <td>False</td>\n",
       "      <td>False</td>\n",
       "      <td>BEST MOM EVER! TIX ON SALE NOW!! https://www.d...</td>\n",
       "    </tr>\n",
       "    <tr>\n",
       "      <th>34752</th>\n",
       "      <td>j4KvrAUjn6c</td>\n",
       "      <td>18.15.05</td>\n",
       "      <td>WE MADE OUR MOM CRY...HER DREAM CAME TRUE!</td>\n",
       "      <td>Lucas and Marcus</td>\n",
       "      <td>24</td>\n",
       "      <td>2018-05-13T18:03:56.000Z</td>\n",
       "      <td>Lucas and Marcus|\"Marcus and Lucas\"|\"Dobre\"|\"D...</td>\n",
       "      <td>3906727</td>\n",
       "      <td>77378</td>\n",
       "      <td>12160</td>\n",
       "      <td>15874</td>\n",
       "      <td>https://i.ytimg.com/vi/j4KvrAUjn6c/default.jpg</td>\n",
       "      <td>False</td>\n",
       "      <td>False</td>\n",
       "      <td>False</td>\n",
       "      <td>BEST MOM EVER! WANT TO SEE US IN NYC &amp; NJ?!BUY...</td>\n",
       "    </tr>\n",
       "    <tr>\n",
       "      <th>34901</th>\n",
       "      <td>j4KvrAUjn6c</td>\n",
       "      <td>18.15.05</td>\n",
       "      <td>WE MADE OUR MOM CRY...HER DREAM CAME TRUE!</td>\n",
       "      <td>Lucas and Marcus</td>\n",
       "      <td>24</td>\n",
       "      <td>2018-05-13T18:03:56.000Z</td>\n",
       "      <td>Lucas and Marcus|\"Marcus and Lucas\"|\"Dobre\"|\"D...</td>\n",
       "      <td>3906727</td>\n",
       "      <td>77378</td>\n",
       "      <td>12160</td>\n",
       "      <td>15874</td>\n",
       "      <td>https://i.ytimg.com/vi/j4KvrAUjn6c/default.jpg</td>\n",
       "      <td>False</td>\n",
       "      <td>False</td>\n",
       "      <td>False</td>\n",
       "      <td>BEST MOM EVER! WANT TO SEE US IN NYC &amp; NJ?!BUY...</td>\n",
       "    </tr>\n",
       "    <tr>\n",
       "      <th>34966</th>\n",
       "      <td>j4KvrAUjn6c</td>\n",
       "      <td>18.16.05</td>\n",
       "      <td>WE MADE OUR MOM CRY...HER DREAM CAME TRUE!</td>\n",
       "      <td>Lucas and Marcus</td>\n",
       "      <td>24</td>\n",
       "      <td>2018-05-13T18:03:56.000Z</td>\n",
       "      <td>Lucas and Marcus|\"Marcus and Lucas\"|\"Dobre\"|\"D...</td>\n",
       "      <td>4862649</td>\n",
       "      <td>90451</td>\n",
       "      <td>14792</td>\n",
       "      <td>18035</td>\n",
       "      <td>https://i.ytimg.com/vi/j4KvrAUjn6c/default.jpg</td>\n",
       "      <td>False</td>\n",
       "      <td>False</td>\n",
       "      <td>False</td>\n",
       "      <td>BEST MOM EVER! WANT TO SEE US IN NYC &amp; NJ?!BUY...</td>\n",
       "    </tr>\n",
       "    <tr>\n",
       "      <th>35180</th>\n",
       "      <td>j4KvrAUjn6c</td>\n",
       "      <td>18.17.05</td>\n",
       "      <td>WE MADE OUR MOM CRY...HER DREAM CAME TRUE!</td>\n",
       "      <td>Lucas and Marcus</td>\n",
       "      <td>24</td>\n",
       "      <td>2018-05-13T18:03:56.000Z</td>\n",
       "      <td>Lucas and Marcus|\"Marcus and Lucas\"|\"Dobre\"|\"D...</td>\n",
       "      <td>5665445</td>\n",
       "      <td>101461</td>\n",
       "      <td>16170</td>\n",
       "      <td>19395</td>\n",
       "      <td>https://i.ytimg.com/vi/j4KvrAUjn6c/default.jpg</td>\n",
       "      <td>False</td>\n",
       "      <td>False</td>\n",
       "      <td>False</td>\n",
       "      <td>BEST MOM EVER! WANT TO SEE US IN NYC &amp; NJ?!BUY...</td>\n",
       "    </tr>\n",
       "    <tr>\n",
       "      <th>35396</th>\n",
       "      <td>j4KvrAUjn6c</td>\n",
       "      <td>18.18.05</td>\n",
       "      <td>WE MADE OUR MOM CRY...HER DREAM CAME TRUE!</td>\n",
       "      <td>Lucas and Marcus</td>\n",
       "      <td>24</td>\n",
       "      <td>2018-05-13T18:03:56.000Z</td>\n",
       "      <td>Lucas and Marcus|\"Marcus and Lucas\"|\"Dobre\"|\"D...</td>\n",
       "      <td>6290796</td>\n",
       "      <td>110373</td>\n",
       "      <td>17131</td>\n",
       "      <td>20365</td>\n",
       "      <td>https://i.ytimg.com/vi/j4KvrAUjn6c/default.jpg</td>\n",
       "      <td>False</td>\n",
       "      <td>False</td>\n",
       "      <td>False</td>\n",
       "      <td>BEST MOM EVER! WANT TO SEE US IN NYC &amp; NJ?!BUY...</td>\n",
       "    </tr>\n",
       "    <tr>\n",
       "      <th>35600</th>\n",
       "      <td>j4KvrAUjn6c</td>\n",
       "      <td>18.19.05</td>\n",
       "      <td>WE MADE OUR MOM CRY...HER DREAM CAME TRUE!</td>\n",
       "      <td>Lucas and Marcus</td>\n",
       "      <td>24</td>\n",
       "      <td>2018-05-13T18:03:56.000Z</td>\n",
       "      <td>Lucas and Marcus|\"Marcus and Lucas\"|\"Dobre\"|\"D...</td>\n",
       "      <td>6773604</td>\n",
       "      <td>116508</td>\n",
       "      <td>17787</td>\n",
       "      <td>20941</td>\n",
       "      <td>https://i.ytimg.com/vi/j4KvrAUjn6c/default.jpg</td>\n",
       "      <td>False</td>\n",
       "      <td>False</td>\n",
       "      <td>False</td>\n",
       "      <td>BEST MOM EVER! WANT TO SEE US IN NYC &amp; NJ?!BUY...</td>\n",
       "    </tr>\n",
       "    <tr>\n",
       "      <th>35804</th>\n",
       "      <td>j4KvrAUjn6c</td>\n",
       "      <td>18.20.05</td>\n",
       "      <td>WE MADE OUR MOM CRY...HER DREAM CAME TRUE!</td>\n",
       "      <td>Lucas and Marcus</td>\n",
       "      <td>24</td>\n",
       "      <td>2018-05-13T18:03:56.000Z</td>\n",
       "      <td>Lucas and Marcus|\"Marcus and Lucas\"|\"Dobre\"|\"D...</td>\n",
       "      <td>7204004</td>\n",
       "      <td>121673</td>\n",
       "      <td>18323</td>\n",
       "      <td>21459</td>\n",
       "      <td>https://i.ytimg.com/vi/j4KvrAUjn6c/default.jpg</td>\n",
       "      <td>False</td>\n",
       "      <td>False</td>\n",
       "      <td>False</td>\n",
       "      <td>BEST MOM EVER! WANT TO SEE US IN NYC &amp; NJ?!BUY...</td>\n",
       "    </tr>\n",
       "    <tr>\n",
       "      <th>36035</th>\n",
       "      <td>j4KvrAUjn6c</td>\n",
       "      <td>18.21.05</td>\n",
       "      <td>WE MADE OUR MOM CRY...HER DREAM CAME TRUE!</td>\n",
       "      <td>Lucas and Marcus</td>\n",
       "      <td>24</td>\n",
       "      <td>2018-05-13T18:03:56.000Z</td>\n",
       "      <td>Lucas and Marcus|\"Marcus and Lucas\"|\"Dobre\"|\"D...</td>\n",
       "      <td>7512530</td>\n",
       "      <td>125317</td>\n",
       "      <td>18633</td>\n",
       "      <td>21812</td>\n",
       "      <td>https://i.ytimg.com/vi/j4KvrAUjn6c/default.jpg</td>\n",
       "      <td>False</td>\n",
       "      <td>False</td>\n",
       "      <td>False</td>\n",
       "      <td>BEST MOM EVER! WANT TO SEE US IN NYC &amp; NJ?!BUY...</td>\n",
       "    </tr>\n",
       "    <tr>\n",
       "      <th>36245</th>\n",
       "      <td>j4KvrAUjn6c</td>\n",
       "      <td>18.22.05</td>\n",
       "      <td>WE MADE OUR MOM CRY...HER DREAM CAME TRUE!</td>\n",
       "      <td>Lucas and Marcus</td>\n",
       "      <td>24</td>\n",
       "      <td>2018-05-13T18:03:56.000Z</td>\n",
       "      <td>Lucas and Marcus|\"Marcus and Lucas\"|\"Dobre\"|\"D...</td>\n",
       "      <td>7740671</td>\n",
       "      <td>128377</td>\n",
       "      <td>18901</td>\n",
       "      <td>22052</td>\n",
       "      <td>https://i.ytimg.com/vi/j4KvrAUjn6c/default.jpg</td>\n",
       "      <td>False</td>\n",
       "      <td>False</td>\n",
       "      <td>False</td>\n",
       "      <td>BEST MOM EVER! WANT TO SEE US IN NYC &amp; NJ?!BUY...</td>\n",
       "    </tr>\n",
       "    <tr>\n",
       "      <th>36453</th>\n",
       "      <td>j4KvrAUjn6c</td>\n",
       "      <td>18.23.05</td>\n",
       "      <td>WE MADE OUR MOM CRY...HER DREAM CAME TRUE!</td>\n",
       "      <td>Lucas and Marcus</td>\n",
       "      <td>24</td>\n",
       "      <td>2018-05-13T18:03:56.000Z</td>\n",
       "      <td>Lucas and Marcus|\"Marcus and Lucas\"|\"Dobre\"|\"D...</td>\n",
       "      <td>7935926</td>\n",
       "      <td>130906</td>\n",
       "      <td>19082</td>\n",
       "      <td>22305</td>\n",
       "      <td>https://i.ytimg.com/vi/j4KvrAUjn6c/default.jpg</td>\n",
       "      <td>False</td>\n",
       "      <td>False</td>\n",
       "      <td>False</td>\n",
       "      <td>BEST MOM EVER! WANT TO SEE US IN NYC &amp; NJ?!BUY...</td>\n",
       "    </tr>\n",
       "    <tr>\n",
       "      <th>36661</th>\n",
       "      <td>j4KvrAUjn6c</td>\n",
       "      <td>18.24.05</td>\n",
       "      <td>WE MADE OUR MOM CRY...HER DREAM CAME TRUE!</td>\n",
       "      <td>Lucas and Marcus</td>\n",
       "      <td>24</td>\n",
       "      <td>2018-05-13T18:03:56.000Z</td>\n",
       "      <td>Lucas and Marcus|\"Marcus and Lucas\"|\"Dobre\"|\"D...</td>\n",
       "      <td>8111785</td>\n",
       "      <td>133189</td>\n",
       "      <td>19203</td>\n",
       "      <td>22499</td>\n",
       "      <td>https://i.ytimg.com/vi/j4KvrAUjn6c/default.jpg</td>\n",
       "      <td>False</td>\n",
       "      <td>False</td>\n",
       "      <td>False</td>\n",
       "      <td>BEST MOM EVER! WANT TO SEE US IN NYC &amp; NJ?!BUY...</td>\n",
       "    </tr>\n",
       "    <tr>\n",
       "      <th>36868</th>\n",
       "      <td>j4KvrAUjn6c</td>\n",
       "      <td>18.25.05</td>\n",
       "      <td>WE MADE OUR MOM CRY...HER DREAM CAME TRUE!</td>\n",
       "      <td>Lucas and Marcus</td>\n",
       "      <td>24</td>\n",
       "      <td>2018-05-13T18:03:56.000Z</td>\n",
       "      <td>Lucas and Marcus|\"Marcus and Lucas\"|\"Dobre\"|\"D...</td>\n",
       "      <td>8269671</td>\n",
       "      <td>135425</td>\n",
       "      <td>19324</td>\n",
       "      <td>22601</td>\n",
       "      <td>https://i.ytimg.com/vi/j4KvrAUjn6c/default.jpg</td>\n",
       "      <td>False</td>\n",
       "      <td>False</td>\n",
       "      <td>False</td>\n",
       "      <td>BEST MOM EVER! WANT TO SEE US IN NYC &amp; NJ?!BUY...</td>\n",
       "    </tr>\n",
       "    <tr>\n",
       "      <th>37080</th>\n",
       "      <td>j4KvrAUjn6c</td>\n",
       "      <td>18.26.05</td>\n",
       "      <td>WE MADE OUR MOM CRY...HER DREAM CAME TRUE!</td>\n",
       "      <td>Lucas and Marcus</td>\n",
       "      <td>24</td>\n",
       "      <td>2018-05-13T18:03:56.000Z</td>\n",
       "      <td>Lucas and Marcus|\"Marcus and Lucas\"|\"Dobre\"|\"D...</td>\n",
       "      <td>8447036</td>\n",
       "      <td>137831</td>\n",
       "      <td>19469</td>\n",
       "      <td>22788</td>\n",
       "      <td>https://i.ytimg.com/vi/j4KvrAUjn6c/default.jpg</td>\n",
       "      <td>False</td>\n",
       "      <td>False</td>\n",
       "      <td>False</td>\n",
       "      <td>BEST MOM EVER! WANT TO SEE US IN NYC &amp; NJ?!BUY...</td>\n",
       "    </tr>\n",
       "    <tr>\n",
       "      <th>37291</th>\n",
       "      <td>j4KvrAUjn6c</td>\n",
       "      <td>18.27.05</td>\n",
       "      <td>WE MADE OUR MOM CRY...HER DREAM CAME TRUE!</td>\n",
       "      <td>Lucas and Marcus</td>\n",
       "      <td>24</td>\n",
       "      <td>2018-05-13T18:03:56.000Z</td>\n",
       "      <td>Lucas and Marcus|\"Marcus and Lucas\"|\"Dobre\"|\"D...</td>\n",
       "      <td>8566954</td>\n",
       "      <td>139338</td>\n",
       "      <td>19559</td>\n",
       "      <td>22957</td>\n",
       "      <td>https://i.ytimg.com/vi/j4KvrAUjn6c/default.jpg</td>\n",
       "      <td>False</td>\n",
       "      <td>False</td>\n",
       "      <td>False</td>\n",
       "      <td>BEST MOM EVER! WANT TO SEE US IN NYC &amp; NJ?!BUY...</td>\n",
       "    </tr>\n",
       "    <tr>\n",
       "      <th>37493</th>\n",
       "      <td>j4KvrAUjn6c</td>\n",
       "      <td>18.28.05</td>\n",
       "      <td>WE MADE OUR MOM CRY...HER DREAM CAME TRUE!</td>\n",
       "      <td>Lucas and Marcus</td>\n",
       "      <td>24</td>\n",
       "      <td>2018-05-13T18:03:56.000Z</td>\n",
       "      <td>Lucas and Marcus|\"Marcus and Lucas\"|\"Dobre\"|\"D...</td>\n",
       "      <td>8696486</td>\n",
       "      <td>140940</td>\n",
       "      <td>19645</td>\n",
       "      <td>23104</td>\n",
       "      <td>https://i.ytimg.com/vi/j4KvrAUjn6c/default.jpg</td>\n",
       "      <td>False</td>\n",
       "      <td>False</td>\n",
       "      <td>False</td>\n",
       "      <td>BEST MOM EVER! WANT TO SEE US IN NYC &amp; NJ?!BUY...</td>\n",
       "    </tr>\n",
       "    <tr>\n",
       "      <th>37694</th>\n",
       "      <td>j4KvrAUjn6c</td>\n",
       "      <td>18.29.05</td>\n",
       "      <td>WE MADE OUR MOM CRY...HER DREAM CAME TRUE!</td>\n",
       "      <td>Lucas and Marcus</td>\n",
       "      <td>24</td>\n",
       "      <td>2018-05-13T18:03:56.000Z</td>\n",
       "      <td>Lucas and Marcus|\"Marcus and Lucas\"|\"Dobre\"|\"D...</td>\n",
       "      <td>8813246</td>\n",
       "      <td>142441</td>\n",
       "      <td>19706</td>\n",
       "      <td>23284</td>\n",
       "      <td>https://i.ytimg.com/vi/j4KvrAUjn6c/default.jpg</td>\n",
       "      <td>False</td>\n",
       "      <td>False</td>\n",
       "      <td>False</td>\n",
       "      <td>BEST MOM EVER! WANT TO SEE US IN NYC &amp; NJ?!BUY...</td>\n",
       "    </tr>\n",
       "    <tr>\n",
       "      <th>37899</th>\n",
       "      <td>j4KvrAUjn6c</td>\n",
       "      <td>18.30.05</td>\n",
       "      <td>WE MADE OUR MOM CRY...HER DREAM CAME TRUE!</td>\n",
       "      <td>Lucas and Marcus</td>\n",
       "      <td>24</td>\n",
       "      <td>2018-05-13T18:03:56.000Z</td>\n",
       "      <td>Lucas and Marcus|\"Marcus and Lucas\"|\"Dobre\"|\"D...</td>\n",
       "      <td>8919607</td>\n",
       "      <td>143957</td>\n",
       "      <td>19784</td>\n",
       "      <td>23431</td>\n",
       "      <td>https://i.ytimg.com/vi/j4KvrAUjn6c/default.jpg</td>\n",
       "      <td>False</td>\n",
       "      <td>False</td>\n",
       "      <td>False</td>\n",
       "      <td>BEST MOM EVER! WANT TO SEE US IN NYC &amp; NJ?!BUY...</td>\n",
       "    </tr>\n",
       "    <tr>\n",
       "      <th>38108</th>\n",
       "      <td>j4KvrAUjn6c</td>\n",
       "      <td>18.31.05</td>\n",
       "      <td>WE MADE OUR MOM CRY...HER DREAM CAME TRUE!</td>\n",
       "      <td>Lucas and Marcus</td>\n",
       "      <td>24</td>\n",
       "      <td>2018-05-13T18:03:56.000Z</td>\n",
       "      <td>Lucas and Marcus|\"Marcus and Lucas\"|\"Dobre\"|\"D...</td>\n",
       "      <td>9081270</td>\n",
       "      <td>146110</td>\n",
       "      <td>19887</td>\n",
       "      <td>23701</td>\n",
       "      <td>https://i.ytimg.com/vi/j4KvrAUjn6c/default.jpg</td>\n",
       "      <td>False</td>\n",
       "      <td>False</td>\n",
       "      <td>False</td>\n",
       "      <td>BEST MOM EVER! WANT TO SEE US IN NYC &amp; NJ?!BUY...</td>\n",
       "    </tr>\n",
       "    <tr>\n",
       "      <th>38307</th>\n",
       "      <td>j4KvrAUjn6c</td>\n",
       "      <td>18.01.06</td>\n",
       "      <td>WE MADE OUR MOM CRY...HER DREAM CAME TRUE!</td>\n",
       "      <td>Lucas and Marcus</td>\n",
       "      <td>24</td>\n",
       "      <td>2018-05-13T18:03:56.000Z</td>\n",
       "      <td>Lucas and Marcus|\"Marcus and Lucas\"|\"Dobre\"|\"D...</td>\n",
       "      <td>9146279</td>\n",
       "      <td>146847</td>\n",
       "      <td>19925</td>\n",
       "      <td>23760</td>\n",
       "      <td>https://i.ytimg.com/vi/j4KvrAUjn6c/default.jpg</td>\n",
       "      <td>False</td>\n",
       "      <td>False</td>\n",
       "      <td>False</td>\n",
       "      <td>BEST MOM EVER! WANT TO SEE US IN NYC &amp; NJ?!BUY...</td>\n",
       "    </tr>\n",
       "    <tr>\n",
       "      <th>38510</th>\n",
       "      <td>j4KvrAUjn6c</td>\n",
       "      <td>18.02.06</td>\n",
       "      <td>WE MADE OUR MOM CRY...HER DREAM CAME TRUE!</td>\n",
       "      <td>Lucas and Marcus</td>\n",
       "      <td>24</td>\n",
       "      <td>2018-05-13T18:03:56.000Z</td>\n",
       "      <td>Lucas and Marcus|\"Marcus and Lucas\"|\"Dobre\"|\"D...</td>\n",
       "      <td>9246304</td>\n",
       "      <td>148140</td>\n",
       "      <td>19980</td>\n",
       "      <td>23834</td>\n",
       "      <td>https://i.ytimg.com/vi/j4KvrAUjn6c/default.jpg</td>\n",
       "      <td>False</td>\n",
       "      <td>False</td>\n",
       "      <td>False</td>\n",
       "      <td>BEST MOM EVER! WANT TO SEE US IN NYC &amp; NJ?!BUY...</td>\n",
       "    </tr>\n",
       "    <tr>\n",
       "      <th>38715</th>\n",
       "      <td>j4KvrAUjn6c</td>\n",
       "      <td>18.03.06</td>\n",
       "      <td>WE MADE OUR MOM CRY...HER DREAM CAME TRUE!</td>\n",
       "      <td>Lucas and Marcus</td>\n",
       "      <td>24</td>\n",
       "      <td>2018-05-13T18:03:56.000Z</td>\n",
       "      <td>Lucas and Marcus|\"Marcus and Lucas\"|\"Dobre\"|\"D...</td>\n",
       "      <td>9353414</td>\n",
       "      <td>149538</td>\n",
       "      <td>20048</td>\n",
       "      <td>23982</td>\n",
       "      <td>https://i.ytimg.com/vi/j4KvrAUjn6c/default.jpg</td>\n",
       "      <td>False</td>\n",
       "      <td>False</td>\n",
       "      <td>False</td>\n",
       "      <td>BEST MOM EVER! WANT TO SEE US IN NYC &amp; NJ?!BUY...</td>\n",
       "    </tr>\n",
       "    <tr>\n",
       "      <th>38918</th>\n",
       "      <td>j4KvrAUjn6c</td>\n",
       "      <td>18.04.06</td>\n",
       "      <td>WE MADE OUR MOM CRY...HER DREAM CAME TRUE!</td>\n",
       "      <td>Lucas and Marcus</td>\n",
       "      <td>24</td>\n",
       "      <td>2018-05-13T18:03:56.000Z</td>\n",
       "      <td>Lucas and Marcus|\"Marcus and Lucas\"|\"Dobre\"|\"D...</td>\n",
       "      <td>9469242</td>\n",
       "      <td>151029</td>\n",
       "      <td>20123</td>\n",
       "      <td>24167</td>\n",
       "      <td>https://i.ytimg.com/vi/j4KvrAUjn6c/default.jpg</td>\n",
       "      <td>False</td>\n",
       "      <td>False</td>\n",
       "      <td>False</td>\n",
       "      <td>BEST MOM EVER! WANT TO SEE US IN NYC &amp; NJ?!BUY...</td>\n",
       "    </tr>\n",
       "    <tr>\n",
       "      <th>39122</th>\n",
       "      <td>j4KvrAUjn6c</td>\n",
       "      <td>18.05.06</td>\n",
       "      <td>WE MADE OUR MOM CRY...HER DREAM CAME TRUE!</td>\n",
       "      <td>Lucas and Marcus</td>\n",
       "      <td>24</td>\n",
       "      <td>2018-05-13T18:03:56.000Z</td>\n",
       "      <td>Lucas and Marcus|\"Marcus and Lucas\"|\"Dobre\"|\"D...</td>\n",
       "      <td>9581434</td>\n",
       "      <td>152552</td>\n",
       "      <td>20232</td>\n",
       "      <td>24353</td>\n",
       "      <td>https://i.ytimg.com/vi/j4KvrAUjn6c/default.jpg</td>\n",
       "      <td>False</td>\n",
       "      <td>False</td>\n",
       "      <td>False</td>\n",
       "      <td>BEST MOM EVER! WANT TO SEE US IN NYC &amp; NJ?!BUY...</td>\n",
       "    </tr>\n",
       "    <tr>\n",
       "      <th>39326</th>\n",
       "      <td>j4KvrAUjn6c</td>\n",
       "      <td>18.06.06</td>\n",
       "      <td>WE MADE OUR MOM CRY...HER DREAM CAME TRUE!</td>\n",
       "      <td>Lucas and Marcus</td>\n",
       "      <td>24</td>\n",
       "      <td>2018-05-13T18:03:56.000Z</td>\n",
       "      <td>Lucas and Marcus|\"Marcus and Lucas\"|\"Dobre\"|\"D...</td>\n",
       "      <td>9741685</td>\n",
       "      <td>154861</td>\n",
       "      <td>20398</td>\n",
       "      <td>24504</td>\n",
       "      <td>https://i.ytimg.com/vi/j4KvrAUjn6c/default.jpg</td>\n",
       "      <td>False</td>\n",
       "      <td>False</td>\n",
       "      <td>False</td>\n",
       "      <td>BEST MOM EVER! WANT TO SEE US IN NYC &amp; NJ?!BUY...</td>\n",
       "    </tr>\n",
       "    <tr>\n",
       "      <th>39529</th>\n",
       "      <td>j4KvrAUjn6c</td>\n",
       "      <td>18.07.06</td>\n",
       "      <td>WE MADE OUR MOM CRY...HER DREAM CAME TRUE!</td>\n",
       "      <td>Lucas and Marcus</td>\n",
       "      <td>24</td>\n",
       "      <td>2018-05-13T18:03:56.000Z</td>\n",
       "      <td>Lucas and Marcus|\"Marcus and Lucas\"|\"Dobre\"|\"D...</td>\n",
       "      <td>9855179</td>\n",
       "      <td>156308</td>\n",
       "      <td>20494</td>\n",
       "      <td>24653</td>\n",
       "      <td>https://i.ytimg.com/vi/j4KvrAUjn6c/default.jpg</td>\n",
       "      <td>False</td>\n",
       "      <td>False</td>\n",
       "      <td>False</td>\n",
       "      <td>BEST MOM EVER! WANT TO SEE US IN NYC &amp; NJ?!BUY...</td>\n",
       "    </tr>\n",
       "    <tr>\n",
       "      <th>39731</th>\n",
       "      <td>j4KvrAUjn6c</td>\n",
       "      <td>18.08.06</td>\n",
       "      <td>WE MADE OUR MOM CRY...HER DREAM CAME TRUE!</td>\n",
       "      <td>Lucas and Marcus</td>\n",
       "      <td>24</td>\n",
       "      <td>2018-05-13T18:03:56.000Z</td>\n",
       "      <td>Lucas and Marcus|\"Marcus and Lucas\"|\"Dobre\"|\"D...</td>\n",
       "      <td>10000226</td>\n",
       "      <td>158478</td>\n",
       "      <td>20617</td>\n",
       "      <td>24850</td>\n",
       "      <td>https://i.ytimg.com/vi/j4KvrAUjn6c/default.jpg</td>\n",
       "      <td>False</td>\n",
       "      <td>False</td>\n",
       "      <td>False</td>\n",
       "      <td>BEST MOM EVER! WANT TO SEE US IN NYC &amp; NJ?!BUY...</td>\n",
       "    </tr>\n",
       "    <tr>\n",
       "      <th>39937</th>\n",
       "      <td>j4KvrAUjn6c</td>\n",
       "      <td>18.09.06</td>\n",
       "      <td>WE MADE OUR MOM CRY...HER DREAM CAME TRUE!</td>\n",
       "      <td>Lucas and Marcus</td>\n",
       "      <td>24</td>\n",
       "      <td>2018-05-13T18:03:56.000Z</td>\n",
       "      <td>Lucas and Marcus|\"Marcus and Lucas\"|\"Dobre\"|\"D...</td>\n",
       "      <td>10133947</td>\n",
       "      <td>160160</td>\n",
       "      <td>20717</td>\n",
       "      <td>24976</td>\n",
       "      <td>https://i.ytimg.com/vi/j4KvrAUjn6c/default.jpg</td>\n",
       "      <td>False</td>\n",
       "      <td>False</td>\n",
       "      <td>False</td>\n",
       "      <td>BEST MOM EVER! WANT TO SEE US IN NYC &amp; NJ?!BUY...</td>\n",
       "    </tr>\n",
       "    <tr>\n",
       "      <th>40146</th>\n",
       "      <td>j4KvrAUjn6c</td>\n",
       "      <td>18.10.06</td>\n",
       "      <td>WE MADE OUR MOM CRY...HER DREAM CAME TRUE!</td>\n",
       "      <td>Lucas and Marcus</td>\n",
       "      <td>24</td>\n",
       "      <td>2018-05-13T18:03:56.000Z</td>\n",
       "      <td>Lucas and Marcus|\"Marcus and Lucas\"|\"Dobre\"|\"D...</td>\n",
       "      <td>10330588</td>\n",
       "      <td>162696</td>\n",
       "      <td>20861</td>\n",
       "      <td>25212</td>\n",
       "      <td>https://i.ytimg.com/vi/j4KvrAUjn6c/default.jpg</td>\n",
       "      <td>False</td>\n",
       "      <td>False</td>\n",
       "      <td>False</td>\n",
       "      <td>BEST MOM EVER! WANT TO SEE US IN NYC &amp; NJ?!BUY...</td>\n",
       "    </tr>\n",
       "    <tr>\n",
       "      <th>40346</th>\n",
       "      <td>j4KvrAUjn6c</td>\n",
       "      <td>18.11.06</td>\n",
       "      <td>WE MADE OUR MOM CRY...HER DREAM CAME TRUE!</td>\n",
       "      <td>Lucas and Marcus</td>\n",
       "      <td>24</td>\n",
       "      <td>2018-05-13T18:03:56.000Z</td>\n",
       "      <td>Lucas and Marcus|\"Marcus and Lucas\"|\"Dobre\"|\"D...</td>\n",
       "      <td>10381263</td>\n",
       "      <td>163325</td>\n",
       "      <td>20892</td>\n",
       "      <td>25323</td>\n",
       "      <td>https://i.ytimg.com/vi/j4KvrAUjn6c/default.jpg</td>\n",
       "      <td>False</td>\n",
       "      <td>False</td>\n",
       "      <td>False</td>\n",
       "      <td>BEST MOM EVER! WANT TO SEE US IN NYC &amp; NJ?!BUY...</td>\n",
       "    </tr>\n",
       "  </tbody>\n",
       "</table>\n",
       "</div>"
      ],
      "text/plain": [
       "          video_id trending_date                                       title  \\\n",
       "34550  j4KvrAUjn6c      18.14.05  WE MADE OUR MOM CRY...HER DREAM CAME TRUE!   \n",
       "34752  j4KvrAUjn6c      18.15.05  WE MADE OUR MOM CRY...HER DREAM CAME TRUE!   \n",
       "34901  j4KvrAUjn6c      18.15.05  WE MADE OUR MOM CRY...HER DREAM CAME TRUE!   \n",
       "34966  j4KvrAUjn6c      18.16.05  WE MADE OUR MOM CRY...HER DREAM CAME TRUE!   \n",
       "35180  j4KvrAUjn6c      18.17.05  WE MADE OUR MOM CRY...HER DREAM CAME TRUE!   \n",
       "35396  j4KvrAUjn6c      18.18.05  WE MADE OUR MOM CRY...HER DREAM CAME TRUE!   \n",
       "35600  j4KvrAUjn6c      18.19.05  WE MADE OUR MOM CRY...HER DREAM CAME TRUE!   \n",
       "35804  j4KvrAUjn6c      18.20.05  WE MADE OUR MOM CRY...HER DREAM CAME TRUE!   \n",
       "36035  j4KvrAUjn6c      18.21.05  WE MADE OUR MOM CRY...HER DREAM CAME TRUE!   \n",
       "36245  j4KvrAUjn6c      18.22.05  WE MADE OUR MOM CRY...HER DREAM CAME TRUE!   \n",
       "36453  j4KvrAUjn6c      18.23.05  WE MADE OUR MOM CRY...HER DREAM CAME TRUE!   \n",
       "36661  j4KvrAUjn6c      18.24.05  WE MADE OUR MOM CRY...HER DREAM CAME TRUE!   \n",
       "36868  j4KvrAUjn6c      18.25.05  WE MADE OUR MOM CRY...HER DREAM CAME TRUE!   \n",
       "37080  j4KvrAUjn6c      18.26.05  WE MADE OUR MOM CRY...HER DREAM CAME TRUE!   \n",
       "37291  j4KvrAUjn6c      18.27.05  WE MADE OUR MOM CRY...HER DREAM CAME TRUE!   \n",
       "37493  j4KvrAUjn6c      18.28.05  WE MADE OUR MOM CRY...HER DREAM CAME TRUE!   \n",
       "37694  j4KvrAUjn6c      18.29.05  WE MADE OUR MOM CRY...HER DREAM CAME TRUE!   \n",
       "37899  j4KvrAUjn6c      18.30.05  WE MADE OUR MOM CRY...HER DREAM CAME TRUE!   \n",
       "38108  j4KvrAUjn6c      18.31.05  WE MADE OUR MOM CRY...HER DREAM CAME TRUE!   \n",
       "38307  j4KvrAUjn6c      18.01.06  WE MADE OUR MOM CRY...HER DREAM CAME TRUE!   \n",
       "38510  j4KvrAUjn6c      18.02.06  WE MADE OUR MOM CRY...HER DREAM CAME TRUE!   \n",
       "38715  j4KvrAUjn6c      18.03.06  WE MADE OUR MOM CRY...HER DREAM CAME TRUE!   \n",
       "38918  j4KvrAUjn6c      18.04.06  WE MADE OUR MOM CRY...HER DREAM CAME TRUE!   \n",
       "39122  j4KvrAUjn6c      18.05.06  WE MADE OUR MOM CRY...HER DREAM CAME TRUE!   \n",
       "39326  j4KvrAUjn6c      18.06.06  WE MADE OUR MOM CRY...HER DREAM CAME TRUE!   \n",
       "39529  j4KvrAUjn6c      18.07.06  WE MADE OUR MOM CRY...HER DREAM CAME TRUE!   \n",
       "39731  j4KvrAUjn6c      18.08.06  WE MADE OUR MOM CRY...HER DREAM CAME TRUE!   \n",
       "39937  j4KvrAUjn6c      18.09.06  WE MADE OUR MOM CRY...HER DREAM CAME TRUE!   \n",
       "40146  j4KvrAUjn6c      18.10.06  WE MADE OUR MOM CRY...HER DREAM CAME TRUE!   \n",
       "40346  j4KvrAUjn6c      18.11.06  WE MADE OUR MOM CRY...HER DREAM CAME TRUE!   \n",
       "\n",
       "          channel_title  category_id              publish_time  \\\n",
       "34550  Lucas and Marcus           24  2018-05-13T18:03:56.000Z   \n",
       "34752  Lucas and Marcus           24  2018-05-13T18:03:56.000Z   \n",
       "34901  Lucas and Marcus           24  2018-05-13T18:03:56.000Z   \n",
       "34966  Lucas and Marcus           24  2018-05-13T18:03:56.000Z   \n",
       "35180  Lucas and Marcus           24  2018-05-13T18:03:56.000Z   \n",
       "35396  Lucas and Marcus           24  2018-05-13T18:03:56.000Z   \n",
       "35600  Lucas and Marcus           24  2018-05-13T18:03:56.000Z   \n",
       "35804  Lucas and Marcus           24  2018-05-13T18:03:56.000Z   \n",
       "36035  Lucas and Marcus           24  2018-05-13T18:03:56.000Z   \n",
       "36245  Lucas and Marcus           24  2018-05-13T18:03:56.000Z   \n",
       "36453  Lucas and Marcus           24  2018-05-13T18:03:56.000Z   \n",
       "36661  Lucas and Marcus           24  2018-05-13T18:03:56.000Z   \n",
       "36868  Lucas and Marcus           24  2018-05-13T18:03:56.000Z   \n",
       "37080  Lucas and Marcus           24  2018-05-13T18:03:56.000Z   \n",
       "37291  Lucas and Marcus           24  2018-05-13T18:03:56.000Z   \n",
       "37493  Lucas and Marcus           24  2018-05-13T18:03:56.000Z   \n",
       "37694  Lucas and Marcus           24  2018-05-13T18:03:56.000Z   \n",
       "37899  Lucas and Marcus           24  2018-05-13T18:03:56.000Z   \n",
       "38108  Lucas and Marcus           24  2018-05-13T18:03:56.000Z   \n",
       "38307  Lucas and Marcus           24  2018-05-13T18:03:56.000Z   \n",
       "38510  Lucas and Marcus           24  2018-05-13T18:03:56.000Z   \n",
       "38715  Lucas and Marcus           24  2018-05-13T18:03:56.000Z   \n",
       "38918  Lucas and Marcus           24  2018-05-13T18:03:56.000Z   \n",
       "39122  Lucas and Marcus           24  2018-05-13T18:03:56.000Z   \n",
       "39326  Lucas and Marcus           24  2018-05-13T18:03:56.000Z   \n",
       "39529  Lucas and Marcus           24  2018-05-13T18:03:56.000Z   \n",
       "39731  Lucas and Marcus           24  2018-05-13T18:03:56.000Z   \n",
       "39937  Lucas and Marcus           24  2018-05-13T18:03:56.000Z   \n",
       "40146  Lucas and Marcus           24  2018-05-13T18:03:56.000Z   \n",
       "40346  Lucas and Marcus           24  2018-05-13T18:03:56.000Z   \n",
       "\n",
       "                                                    tags     views   likes  \\\n",
       "34550  Lucas and Marcus|\"Marcus and Lucas\"|\"Dobre\"|\"D...   2131702   54280   \n",
       "34752  Lucas and Marcus|\"Marcus and Lucas\"|\"Dobre\"|\"D...   3906727   77378   \n",
       "34901  Lucas and Marcus|\"Marcus and Lucas\"|\"Dobre\"|\"D...   3906727   77378   \n",
       "34966  Lucas and Marcus|\"Marcus and Lucas\"|\"Dobre\"|\"D...   4862649   90451   \n",
       "35180  Lucas and Marcus|\"Marcus and Lucas\"|\"Dobre\"|\"D...   5665445  101461   \n",
       "35396  Lucas and Marcus|\"Marcus and Lucas\"|\"Dobre\"|\"D...   6290796  110373   \n",
       "35600  Lucas and Marcus|\"Marcus and Lucas\"|\"Dobre\"|\"D...   6773604  116508   \n",
       "35804  Lucas and Marcus|\"Marcus and Lucas\"|\"Dobre\"|\"D...   7204004  121673   \n",
       "36035  Lucas and Marcus|\"Marcus and Lucas\"|\"Dobre\"|\"D...   7512530  125317   \n",
       "36245  Lucas and Marcus|\"Marcus and Lucas\"|\"Dobre\"|\"D...   7740671  128377   \n",
       "36453  Lucas and Marcus|\"Marcus and Lucas\"|\"Dobre\"|\"D...   7935926  130906   \n",
       "36661  Lucas and Marcus|\"Marcus and Lucas\"|\"Dobre\"|\"D...   8111785  133189   \n",
       "36868  Lucas and Marcus|\"Marcus and Lucas\"|\"Dobre\"|\"D...   8269671  135425   \n",
       "37080  Lucas and Marcus|\"Marcus and Lucas\"|\"Dobre\"|\"D...   8447036  137831   \n",
       "37291  Lucas and Marcus|\"Marcus and Lucas\"|\"Dobre\"|\"D...   8566954  139338   \n",
       "37493  Lucas and Marcus|\"Marcus and Lucas\"|\"Dobre\"|\"D...   8696486  140940   \n",
       "37694  Lucas and Marcus|\"Marcus and Lucas\"|\"Dobre\"|\"D...   8813246  142441   \n",
       "37899  Lucas and Marcus|\"Marcus and Lucas\"|\"Dobre\"|\"D...   8919607  143957   \n",
       "38108  Lucas and Marcus|\"Marcus and Lucas\"|\"Dobre\"|\"D...   9081270  146110   \n",
       "38307  Lucas and Marcus|\"Marcus and Lucas\"|\"Dobre\"|\"D...   9146279  146847   \n",
       "38510  Lucas and Marcus|\"Marcus and Lucas\"|\"Dobre\"|\"D...   9246304  148140   \n",
       "38715  Lucas and Marcus|\"Marcus and Lucas\"|\"Dobre\"|\"D...   9353414  149538   \n",
       "38918  Lucas and Marcus|\"Marcus and Lucas\"|\"Dobre\"|\"D...   9469242  151029   \n",
       "39122  Lucas and Marcus|\"Marcus and Lucas\"|\"Dobre\"|\"D...   9581434  152552   \n",
       "39326  Lucas and Marcus|\"Marcus and Lucas\"|\"Dobre\"|\"D...   9741685  154861   \n",
       "39529  Lucas and Marcus|\"Marcus and Lucas\"|\"Dobre\"|\"D...   9855179  156308   \n",
       "39731  Lucas and Marcus|\"Marcus and Lucas\"|\"Dobre\"|\"D...  10000226  158478   \n",
       "39937  Lucas and Marcus|\"Marcus and Lucas\"|\"Dobre\"|\"D...  10133947  160160   \n",
       "40146  Lucas and Marcus|\"Marcus and Lucas\"|\"Dobre\"|\"D...  10330588  162696   \n",
       "40346  Lucas and Marcus|\"Marcus and Lucas\"|\"Dobre\"|\"D...  10381263  163325   \n",
       "\n",
       "       dislikes  comment_count  \\\n",
       "34550      4696          10705   \n",
       "34752     12160          15874   \n",
       "34901     12160          15874   \n",
       "34966     14792          18035   \n",
       "35180     16170          19395   \n",
       "35396     17131          20365   \n",
       "35600     17787          20941   \n",
       "35804     18323          21459   \n",
       "36035     18633          21812   \n",
       "36245     18901          22052   \n",
       "36453     19082          22305   \n",
       "36661     19203          22499   \n",
       "36868     19324          22601   \n",
       "37080     19469          22788   \n",
       "37291     19559          22957   \n",
       "37493     19645          23104   \n",
       "37694     19706          23284   \n",
       "37899     19784          23431   \n",
       "38108     19887          23701   \n",
       "38307     19925          23760   \n",
       "38510     19980          23834   \n",
       "38715     20048          23982   \n",
       "38918     20123          24167   \n",
       "39122     20232          24353   \n",
       "39326     20398          24504   \n",
       "39529     20494          24653   \n",
       "39731     20617          24850   \n",
       "39937     20717          24976   \n",
       "40146     20861          25212   \n",
       "40346     20892          25323   \n",
       "\n",
       "                                       thumbnail_link  comments_disabled  \\\n",
       "34550  https://i.ytimg.com/vi/j4KvrAUjn6c/default.jpg              False   \n",
       "34752  https://i.ytimg.com/vi/j4KvrAUjn6c/default.jpg              False   \n",
       "34901  https://i.ytimg.com/vi/j4KvrAUjn6c/default.jpg              False   \n",
       "34966  https://i.ytimg.com/vi/j4KvrAUjn6c/default.jpg              False   \n",
       "35180  https://i.ytimg.com/vi/j4KvrAUjn6c/default.jpg              False   \n",
       "35396  https://i.ytimg.com/vi/j4KvrAUjn6c/default.jpg              False   \n",
       "35600  https://i.ytimg.com/vi/j4KvrAUjn6c/default.jpg              False   \n",
       "35804  https://i.ytimg.com/vi/j4KvrAUjn6c/default.jpg              False   \n",
       "36035  https://i.ytimg.com/vi/j4KvrAUjn6c/default.jpg              False   \n",
       "36245  https://i.ytimg.com/vi/j4KvrAUjn6c/default.jpg              False   \n",
       "36453  https://i.ytimg.com/vi/j4KvrAUjn6c/default.jpg              False   \n",
       "36661  https://i.ytimg.com/vi/j4KvrAUjn6c/default.jpg              False   \n",
       "36868  https://i.ytimg.com/vi/j4KvrAUjn6c/default.jpg              False   \n",
       "37080  https://i.ytimg.com/vi/j4KvrAUjn6c/default.jpg              False   \n",
       "37291  https://i.ytimg.com/vi/j4KvrAUjn6c/default.jpg              False   \n",
       "37493  https://i.ytimg.com/vi/j4KvrAUjn6c/default.jpg              False   \n",
       "37694  https://i.ytimg.com/vi/j4KvrAUjn6c/default.jpg              False   \n",
       "37899  https://i.ytimg.com/vi/j4KvrAUjn6c/default.jpg              False   \n",
       "38108  https://i.ytimg.com/vi/j4KvrAUjn6c/default.jpg              False   \n",
       "38307  https://i.ytimg.com/vi/j4KvrAUjn6c/default.jpg              False   \n",
       "38510  https://i.ytimg.com/vi/j4KvrAUjn6c/default.jpg              False   \n",
       "38715  https://i.ytimg.com/vi/j4KvrAUjn6c/default.jpg              False   \n",
       "38918  https://i.ytimg.com/vi/j4KvrAUjn6c/default.jpg              False   \n",
       "39122  https://i.ytimg.com/vi/j4KvrAUjn6c/default.jpg              False   \n",
       "39326  https://i.ytimg.com/vi/j4KvrAUjn6c/default.jpg              False   \n",
       "39529  https://i.ytimg.com/vi/j4KvrAUjn6c/default.jpg              False   \n",
       "39731  https://i.ytimg.com/vi/j4KvrAUjn6c/default.jpg              False   \n",
       "39937  https://i.ytimg.com/vi/j4KvrAUjn6c/default.jpg              False   \n",
       "40146  https://i.ytimg.com/vi/j4KvrAUjn6c/default.jpg              False   \n",
       "40346  https://i.ytimg.com/vi/j4KvrAUjn6c/default.jpg              False   \n",
       "\n",
       "       ratings_disabled  video_error_or_removed  \\\n",
       "34550             False                   False   \n",
       "34752             False                   False   \n",
       "34901             False                   False   \n",
       "34966             False                   False   \n",
       "35180             False                   False   \n",
       "35396             False                   False   \n",
       "35600             False                   False   \n",
       "35804             False                   False   \n",
       "36035             False                   False   \n",
       "36245             False                   False   \n",
       "36453             False                   False   \n",
       "36661             False                   False   \n",
       "36868             False                   False   \n",
       "37080             False                   False   \n",
       "37291             False                   False   \n",
       "37493             False                   False   \n",
       "37694             False                   False   \n",
       "37899             False                   False   \n",
       "38108             False                   False   \n",
       "38307             False                   False   \n",
       "38510             False                   False   \n",
       "38715             False                   False   \n",
       "38918             False                   False   \n",
       "39122             False                   False   \n",
       "39326             False                   False   \n",
       "39529             False                   False   \n",
       "39731             False                   False   \n",
       "39937             False                   False   \n",
       "40146             False                   False   \n",
       "40346             False                   False   \n",
       "\n",
       "                                             description  \n",
       "34550  BEST MOM EVER! TIX ON SALE NOW!! https://www.d...  \n",
       "34752  BEST MOM EVER! WANT TO SEE US IN NYC & NJ?!BUY...  \n",
       "34901  BEST MOM EVER! WANT TO SEE US IN NYC & NJ?!BUY...  \n",
       "34966  BEST MOM EVER! WANT TO SEE US IN NYC & NJ?!BUY...  \n",
       "35180  BEST MOM EVER! WANT TO SEE US IN NYC & NJ?!BUY...  \n",
       "35396  BEST MOM EVER! WANT TO SEE US IN NYC & NJ?!BUY...  \n",
       "35600  BEST MOM EVER! WANT TO SEE US IN NYC & NJ?!BUY...  \n",
       "35804  BEST MOM EVER! WANT TO SEE US IN NYC & NJ?!BUY...  \n",
       "36035  BEST MOM EVER! WANT TO SEE US IN NYC & NJ?!BUY...  \n",
       "36245  BEST MOM EVER! WANT TO SEE US IN NYC & NJ?!BUY...  \n",
       "36453  BEST MOM EVER! WANT TO SEE US IN NYC & NJ?!BUY...  \n",
       "36661  BEST MOM EVER! WANT TO SEE US IN NYC & NJ?!BUY...  \n",
       "36868  BEST MOM EVER! WANT TO SEE US IN NYC & NJ?!BUY...  \n",
       "37080  BEST MOM EVER! WANT TO SEE US IN NYC & NJ?!BUY...  \n",
       "37291  BEST MOM EVER! WANT TO SEE US IN NYC & NJ?!BUY...  \n",
       "37493  BEST MOM EVER! WANT TO SEE US IN NYC & NJ?!BUY...  \n",
       "37694  BEST MOM EVER! WANT TO SEE US IN NYC & NJ?!BUY...  \n",
       "37899  BEST MOM EVER! WANT TO SEE US IN NYC & NJ?!BUY...  \n",
       "38108  BEST MOM EVER! WANT TO SEE US IN NYC & NJ?!BUY...  \n",
       "38307  BEST MOM EVER! WANT TO SEE US IN NYC & NJ?!BUY...  \n",
       "38510  BEST MOM EVER! WANT TO SEE US IN NYC & NJ?!BUY...  \n",
       "38715  BEST MOM EVER! WANT TO SEE US IN NYC & NJ?!BUY...  \n",
       "38918  BEST MOM EVER! WANT TO SEE US IN NYC & NJ?!BUY...  \n",
       "39122  BEST MOM EVER! WANT TO SEE US IN NYC & NJ?!BUY...  \n",
       "39326  BEST MOM EVER! WANT TO SEE US IN NYC & NJ?!BUY...  \n",
       "39529  BEST MOM EVER! WANT TO SEE US IN NYC & NJ?!BUY...  \n",
       "39731  BEST MOM EVER! WANT TO SEE US IN NYC & NJ?!BUY...  \n",
       "39937  BEST MOM EVER! WANT TO SEE US IN NYC & NJ?!BUY...  \n",
       "40146  BEST MOM EVER! WANT TO SEE US IN NYC & NJ?!BUY...  \n",
       "40346  BEST MOM EVER! WANT TO SEE US IN NYC & NJ?!BUY...  "
      ]
     },
     "execution_count": 11,
     "metadata": {},
     "output_type": "execute_result"
    }
   ],
   "source": [
    "videos[videos['video_id'] == 'j4KvrAUjn6c']"
   ]
  },
  {
   "cell_type": "markdown",
   "metadata": {},
   "source": [
    "- The non-duplicate rows that are of the same video vary in trending date."
   ]
  },
  {
   "cell_type": "code",
   "execution_count": 12,
   "metadata": {},
   "outputs": [
    {
     "data": {
      "text/html": [
       "<div>\n",
       "<style scoped>\n",
       "    .dataframe tbody tr th:only-of-type {\n",
       "        vertical-align: middle;\n",
       "    }\n",
       "\n",
       "    .dataframe tbody tr th {\n",
       "        vertical-align: top;\n",
       "    }\n",
       "\n",
       "    .dataframe thead th {\n",
       "        text-align: right;\n",
       "    }\n",
       "</style>\n",
       "<table border=\"1\" class=\"dataframe\">\n",
       "  <thead>\n",
       "    <tr style=\"text-align: right;\">\n",
       "      <th></th>\n",
       "      <th>category_id</th>\n",
       "      <th>category</th>\n",
       "    </tr>\n",
       "  </thead>\n",
       "  <tbody>\n",
       "    <tr>\n",
       "      <th>0</th>\n",
       "      <td>1</td>\n",
       "      <td>Film &amp; Animation</td>\n",
       "    </tr>\n",
       "    <tr>\n",
       "      <th>1</th>\n",
       "      <td>2</td>\n",
       "      <td>Autos &amp; Vehicles</td>\n",
       "    </tr>\n",
       "    <tr>\n",
       "      <th>2</th>\n",
       "      <td>10</td>\n",
       "      <td>Music</td>\n",
       "    </tr>\n",
       "    <tr>\n",
       "      <th>3</th>\n",
       "      <td>15</td>\n",
       "      <td>Pets &amp; Animals</td>\n",
       "    </tr>\n",
       "    <tr>\n",
       "      <th>4</th>\n",
       "      <td>17</td>\n",
       "      <td>Sports</td>\n",
       "    </tr>\n",
       "  </tbody>\n",
       "</table>\n",
       "</div>"
      ],
      "text/plain": [
       "   category_id          category\n",
       "0            1  Film & Animation\n",
       "1            2  Autos & Vehicles\n",
       "2           10             Music\n",
       "3           15    Pets & Animals\n",
       "4           17            Sports"
      ]
     },
     "execution_count": 12,
     "metadata": {},
     "output_type": "execute_result"
    }
   ],
   "source": [
    "categories.head(5)"
   ]
  },
  {
   "cell_type": "markdown",
   "metadata": {},
   "source": [
    "- Some categories appear to be missing in the dataset"
   ]
  },
  {
   "cell_type": "code",
   "execution_count": 13,
   "metadata": {},
   "outputs": [
    {
     "data": {
      "text/plain": [
       "category_id     int64\n",
       "category       object\n",
       "dtype: object"
      ]
     },
     "execution_count": 13,
     "metadata": {},
     "output_type": "execute_result"
    }
   ],
   "source": [
    "categories.dtypes"
   ]
  },
  {
   "cell_type": "code",
   "execution_count": 14,
   "metadata": {},
   "outputs": [
    {
     "data": {
      "text/plain": [
       "Comedy                   2\n",
       "Foreign                  1\n",
       "Travel & Events          1\n",
       "Trailers                 1\n",
       "News & Politics          1\n",
       "Education                1\n",
       "People & Blogs           1\n",
       "Shows                    1\n",
       "Anime/Animation          1\n",
       "Entertainment            1\n",
       "Family                   1\n",
       "Shorts                   1\n",
       "Videoblogging            1\n",
       "Documentary              1\n",
       "Gaming                   1\n",
       "Music                    1\n",
       "Sci-Fi/Fantasy           1\n",
       "Science & Technology     1\n",
       "Classics                 1\n",
       "Movies                   1\n",
       "Sports                   1\n",
       "Film & Animation         1\n",
       "Autos & Vehicles         1\n",
       "Nonprofits & Activism    1\n",
       "Pets & Animals           1\n",
       "Short Movies             1\n",
       "Thriller                 1\n",
       "Drama                    1\n",
       "Horror                   1\n",
       "Action/Adventure         1\n",
       "Howto & Style            1\n",
       "Name: category, dtype: int64"
      ]
     },
     "execution_count": 14,
     "metadata": {},
     "output_type": "execute_result"
    }
   ],
   "source": [
    "categories.category.value_counts()"
   ]
  },
  {
   "cell_type": "code",
   "execution_count": 15,
   "metadata": {},
   "outputs": [
    {
     "data": {
      "text/html": [
       "<div>\n",
       "<style scoped>\n",
       "    .dataframe tbody tr th:only-of-type {\n",
       "        vertical-align: middle;\n",
       "    }\n",
       "\n",
       "    .dataframe tbody tr th {\n",
       "        vertical-align: top;\n",
       "    }\n",
       "\n",
       "    .dataframe thead th {\n",
       "        text-align: right;\n",
       "    }\n",
       "</style>\n",
       "<table border=\"1\" class=\"dataframe\">\n",
       "  <thead>\n",
       "    <tr style=\"text-align: right;\">\n",
       "      <th></th>\n",
       "      <th>category_id</th>\n",
       "      <th>category</th>\n",
       "    </tr>\n",
       "  </thead>\n",
       "  <tbody>\n",
       "    <tr>\n",
       "      <th>10</th>\n",
       "      <td>23</td>\n",
       "      <td>Comedy</td>\n",
       "    </tr>\n",
       "    <tr>\n",
       "      <th>21</th>\n",
       "      <td>34</td>\n",
       "      <td>Comedy</td>\n",
       "    </tr>\n",
       "  </tbody>\n",
       "</table>\n",
       "</div>"
      ],
      "text/plain": [
       "    category_id category\n",
       "10           23   Comedy\n",
       "21           34   Comedy"
      ]
     },
     "execution_count": 15,
     "metadata": {},
     "output_type": "execute_result"
    }
   ],
   "source": [
    "categories.query('category == \"Comedy\"')"
   ]
  },
  {
   "cell_type": "markdown",
   "metadata": {},
   "source": [
    "<a id='assess_sum'></a>\n",
    "**Assessment summary**\n",
    "1. The `trending_date` and `publish_time` columns are strings and will need to be converted to datetime objects.\n",
    "2. The `trending_date` column is in the wrong format to be read as a datetime object.\n",
    "3. The `publish_time` column includes both date and time. In order to provide more segmented time-based analysis, date and time will be split into separate columns.\n",
    "4. There are 48 duplicate rows in the dataset. These rows will be removed.\n",
    "5. Merge the two DataFrames on `category_id`.\n",
    "6. There are gaps between the category id numbers. Monitor this when merging dataframes to determine if any additional data needs to be collected.\n",
    "7. There are two \"Comedy\" categories. This will need to be assessed after merging the DataFrames to be sure that there is not mis-classification.\n",
    "8. Rename the `comment_count` column to `columns`, for consistency and ease of analysis.\n",
    "9. Of the 40K+ videos featured in the dataset, there are 6,351 unique videos. The other rows represent different dates in which the video was trending. A separate DataFrame will be created after merging the video categories in order to analyze individual videos based on the first date they were trending."
   ]
  },
  {
   "cell_type": "markdown",
   "metadata": {},
   "source": [
    "<a id='clean'></a>\n",
    "### Clean the data"
   ]
  },
  {
   "cell_type": "code",
   "execution_count": 16,
   "metadata": {},
   "outputs": [],
   "source": [
    "videos_clean = videos.copy()\n",
    "categories_clean = categories.copy()"
   ]
  },
  {
   "cell_type": "markdown",
   "metadata": {},
   "source": [
    "1. The `trending_date` and `publish_time` columns are strings and will need to be converted to datetime objects.   \n",
    "For the purposes of this analysis, I will only need to change the data types of the date and time columns.\n",
    "\n",
    "2. The `trending_date` column is in the wrong format to be read as a datetime object.   \n",
    "The `trending_date` column is currently in an unreadable date format, so I will need to get the data into a suitable format first."
   ]
  },
  {
   "cell_type": "code",
   "execution_count": 17,
   "metadata": {},
   "outputs": [
    {
     "data": {
      "text/plain": [
       "video_id                               object\n",
       "trending_date                          object\n",
       "title                                  object\n",
       "channel_title                          object\n",
       "category_id                             int64\n",
       "publish_time              datetime64[ns, UTC]\n",
       "tags                                   object\n",
       "views                                   int64\n",
       "likes                                   int64\n",
       "dislikes                                int64\n",
       "comment_count                           int64\n",
       "thumbnail_link                         object\n",
       "comments_disabled                        bool\n",
       "ratings_disabled                         bool\n",
       "video_error_or_removed                   bool\n",
       "description                            object\n",
       "dtype: object"
      ]
     },
     "execution_count": 17,
     "metadata": {},
     "output_type": "execute_result"
    }
   ],
   "source": [
    "videos_clean[\"publish_time\"] = pd.to_datetime(videos_clean[\"publish_time\"])\n",
    "videos_clean.dtypes"
   ]
  },
  {
   "cell_type": "code",
   "execution_count": 18,
   "metadata": {},
   "outputs": [
    {
     "data": {
      "text/plain": [
       "18.05.04    200\n",
       "17.25.11    200\n",
       "18.04.05    200\n",
       "17.17.12    200\n",
       "17.10.12    200\n",
       "           ... \n",
       "18.31.01    197\n",
       "18.01.02    197\n",
       "18.04.02    196\n",
       "18.03.02    196\n",
       "18.02.02    196\n",
       "Name: trending_date, Length: 205, dtype: int64"
      ]
     },
     "execution_count": 18,
     "metadata": {},
     "output_type": "execute_result"
    }
   ],
   "source": [
    "videos_clean.trending_date.value_counts()"
   ]
  },
  {
   "cell_type": "markdown",
   "metadata": {},
   "source": [
    "- By observation, all of the records are in the yy.dd.mm format, so I will parse the date this way across the entire column. "
   ]
  },
  {
   "cell_type": "code",
   "execution_count": 19,
   "metadata": {},
   "outputs": [
    {
     "data": {
      "text/plain": [
       "(Timestamp('2006-07-23 08:24:11+0000', tz='UTC'),\n",
       " Timestamp('2018-06-14 01:31:53+0000', tz='UTC'))"
      ]
     },
     "execution_count": 19,
     "metadata": {},
     "output_type": "execute_result"
    }
   ],
   "source": [
    "(videos_clean.publish_time.min(), videos_clean.publish_time.max())"
   ]
  },
  {
   "cell_type": "markdown",
   "metadata": {},
   "source": [
    "- The dataset ranges from the years 2006 to 2018, so I will concatenate \"20\" to the year of the cleaned trending date."
   ]
  },
  {
   "cell_type": "code",
   "execution_count": 20,
   "metadata": {},
   "outputs": [],
   "source": [
    "videos_clean[\"trending_date\"] = videos_clean.trending_date.str.split(\".\")"
   ]
  },
  {
   "cell_type": "code",
   "execution_count": 21,
   "metadata": {},
   "outputs": [],
   "source": [
    "date = []\n",
    "for x in videos_clean.trending_date:\n",
    "    year = \"20\" + x[0]\n",
    "    day = x[1]\n",
    "    month = x[2]\n",
    "    date.append(year + \"-\" + month + \"-\" + day)\n",
    "\n",
    "videos_clean[\"trending_date\"] = date"
   ]
  },
  {
   "cell_type": "code",
   "execution_count": 22,
   "metadata": {},
   "outputs": [],
   "source": [
    "videos_clean[\"trending_date\"] = pd.to_datetime(videos_clean[\"trending_date\"])"
   ]
  },
  {
   "cell_type": "code",
   "execution_count": 23,
   "metadata": {},
   "outputs": [
    {
     "data": {
      "text/plain": [
       "video_id                               object\n",
       "trending_date                  datetime64[ns]\n",
       "title                                  object\n",
       "channel_title                          object\n",
       "category_id                             int64\n",
       "publish_time              datetime64[ns, UTC]\n",
       "tags                                   object\n",
       "views                                   int64\n",
       "likes                                   int64\n",
       "dislikes                                int64\n",
       "comment_count                           int64\n",
       "thumbnail_link                         object\n",
       "comments_disabled                        bool\n",
       "ratings_disabled                         bool\n",
       "video_error_or_removed                   bool\n",
       "description                            object\n",
       "dtype: object"
      ]
     },
     "execution_count": 23,
     "metadata": {},
     "output_type": "execute_result"
    }
   ],
   "source": [
    "videos_clean.dtypes"
   ]
  },
  {
   "cell_type": "markdown",
   "metadata": {},
   "source": [
    "3. The `publish_time` column includes both date and time. In order to provide more segmented time-based analysis, date and time will be split into separate columns.   \n",
    "I will split the `publish_time` column to separate date and time to perform separate time series analyses."
   ]
  },
  {
   "cell_type": "code",
   "execution_count": 24,
   "metadata": {},
   "outputs": [
    {
     "data": {
      "text/html": [
       "<div>\n",
       "<style scoped>\n",
       "    .dataframe tbody tr th:only-of-type {\n",
       "        vertical-align: middle;\n",
       "    }\n",
       "\n",
       "    .dataframe tbody tr th {\n",
       "        vertical-align: top;\n",
       "    }\n",
       "\n",
       "    .dataframe thead th {\n",
       "        text-align: right;\n",
       "    }\n",
       "</style>\n",
       "<table border=\"1\" class=\"dataframe\">\n",
       "  <thead>\n",
       "    <tr style=\"text-align: right;\">\n",
       "      <th></th>\n",
       "      <th>video_id</th>\n",
       "      <th>trending_date</th>\n",
       "      <th>title</th>\n",
       "      <th>channel_title</th>\n",
       "      <th>category_id</th>\n",
       "      <th>publish_time</th>\n",
       "      <th>tags</th>\n",
       "      <th>views</th>\n",
       "      <th>likes</th>\n",
       "      <th>dislikes</th>\n",
       "      <th>comment_count</th>\n",
       "      <th>thumbnail_link</th>\n",
       "      <th>comments_disabled</th>\n",
       "      <th>ratings_disabled</th>\n",
       "      <th>video_error_or_removed</th>\n",
       "      <th>description</th>\n",
       "      <th>publish_date</th>\n",
       "      <th>publish_time_new</th>\n",
       "    </tr>\n",
       "  </thead>\n",
       "  <tbody>\n",
       "    <tr>\n",
       "      <th>0</th>\n",
       "      <td>2kyS6SvSYSE</td>\n",
       "      <td>2017-11-14</td>\n",
       "      <td>WE WANT TO TALK ABOUT OUR MARRIAGE</td>\n",
       "      <td>CaseyNeistat</td>\n",
       "      <td>22</td>\n",
       "      <td>2017-11-13 17:13:01+00:00</td>\n",
       "      <td>SHANtell martin</td>\n",
       "      <td>748374</td>\n",
       "      <td>57527</td>\n",
       "      <td>2966</td>\n",
       "      <td>15954</td>\n",
       "      <td>https://i.ytimg.com/vi/2kyS6SvSYSE/default.jpg</td>\n",
       "      <td>False</td>\n",
       "      <td>False</td>\n",
       "      <td>False</td>\n",
       "      <td>SHANTELL'S CHANNEL - https://www.youtube.com/s...</td>\n",
       "      <td>2017-11-13</td>\n",
       "      <td>17:13:01</td>\n",
       "    </tr>\n",
       "    <tr>\n",
       "      <th>1</th>\n",
       "      <td>1ZAPwfrtAFY</td>\n",
       "      <td>2017-11-14</td>\n",
       "      <td>The Trump Presidency: Last Week Tonight with J...</td>\n",
       "      <td>LastWeekTonight</td>\n",
       "      <td>24</td>\n",
       "      <td>2017-11-13 07:30:00+00:00</td>\n",
       "      <td>last week tonight trump presidency|\"last week ...</td>\n",
       "      <td>2418783</td>\n",
       "      <td>97185</td>\n",
       "      <td>6146</td>\n",
       "      <td>12703</td>\n",
       "      <td>https://i.ytimg.com/vi/1ZAPwfrtAFY/default.jpg</td>\n",
       "      <td>False</td>\n",
       "      <td>False</td>\n",
       "      <td>False</td>\n",
       "      <td>One year after the presidential election, John...</td>\n",
       "      <td>2017-11-13</td>\n",
       "      <td>07:30:00</td>\n",
       "    </tr>\n",
       "  </tbody>\n",
       "</table>\n",
       "</div>"
      ],
      "text/plain": [
       "      video_id trending_date  \\\n",
       "0  2kyS6SvSYSE    2017-11-14   \n",
       "1  1ZAPwfrtAFY    2017-11-14   \n",
       "\n",
       "                                               title    channel_title  \\\n",
       "0                 WE WANT TO TALK ABOUT OUR MARRIAGE     CaseyNeistat   \n",
       "1  The Trump Presidency: Last Week Tonight with J...  LastWeekTonight   \n",
       "\n",
       "   category_id              publish_time  \\\n",
       "0           22 2017-11-13 17:13:01+00:00   \n",
       "1           24 2017-11-13 07:30:00+00:00   \n",
       "\n",
       "                                                tags    views  likes  \\\n",
       "0                                    SHANtell martin   748374  57527   \n",
       "1  last week tonight trump presidency|\"last week ...  2418783  97185   \n",
       "\n",
       "   dislikes  comment_count                                  thumbnail_link  \\\n",
       "0      2966          15954  https://i.ytimg.com/vi/2kyS6SvSYSE/default.jpg   \n",
       "1      6146          12703  https://i.ytimg.com/vi/1ZAPwfrtAFY/default.jpg   \n",
       "\n",
       "   comments_disabled  ratings_disabled  video_error_or_removed  \\\n",
       "0              False             False                   False   \n",
       "1              False             False                   False   \n",
       "\n",
       "                                         description publish_date  \\\n",
       "0  SHANTELL'S CHANNEL - https://www.youtube.com/s...   2017-11-13   \n",
       "1  One year after the presidential election, John...   2017-11-13   \n",
       "\n",
       "  publish_time_new  \n",
       "0         17:13:01  \n",
       "1         07:30:00  "
      ]
     },
     "execution_count": 24,
     "metadata": {},
     "output_type": "execute_result"
    }
   ],
   "source": [
    "videos_clean['publish_date'] = videos_clean['publish_time'].dt.date\n",
    "videos_clean['publish_time_new'] = videos_clean['publish_time'].dt.time\n",
    "videos_clean.head(2)"
   ]
  },
  {
   "cell_type": "code",
   "execution_count": 25,
   "metadata": {},
   "outputs": [
    {
     "data": {
      "text/plain": [
       "video_id                               object\n",
       "trending_date                  datetime64[ns]\n",
       "title                                  object\n",
       "channel_title                          object\n",
       "category_id                             int64\n",
       "publish_time              datetime64[ns, UTC]\n",
       "tags                                   object\n",
       "views                                   int64\n",
       "likes                                   int64\n",
       "dislikes                                int64\n",
       "comment_count                           int64\n",
       "thumbnail_link                         object\n",
       "comments_disabled                        bool\n",
       "ratings_disabled                         bool\n",
       "video_error_or_removed                   bool\n",
       "description                            object\n",
       "publish_date                           object\n",
       "publish_time_new                       object\n",
       "dtype: object"
      ]
     },
     "execution_count": 25,
     "metadata": {},
     "output_type": "execute_result"
    }
   ],
   "source": [
    "videos_clean.dtypes"
   ]
  },
  {
   "cell_type": "markdown",
   "metadata": {},
   "source": [
    "- The `publish_date` and `publish_time_new` columns were created as strings and need to be converted back to datetime obejcts."
   ]
  },
  {
   "cell_type": "code",
   "execution_count": 26,
   "metadata": {},
   "outputs": [
    {
     "ename": "ValueError",
     "evalue": "Invalid type for timedelta scalar: <class 'datetime.time'>",
     "output_type": "error",
     "traceback": [
      "\u001b[0;31m---------------------------------------------------------------------------\u001b[0m",
      "\u001b[0;31mTypeError\u001b[0m                                 Traceback (most recent call last)",
      "\u001b[0;32mpandas/_libs/tslibs/timedeltas.pyx\u001b[0m in \u001b[0;36mpandas._libs.tslibs.timedeltas.array_to_timedelta64\u001b[0;34m()\u001b[0m\n",
      "\u001b[0;31mTypeError\u001b[0m: Expected unicode, got datetime.time",
      "\nDuring handling of the above exception, another exception occurred:\n",
      "\u001b[0;31mValueError\u001b[0m                                Traceback (most recent call last)",
      "\u001b[0;32m<ipython-input-26-aa9f00d93e89>\u001b[0m in \u001b[0;36m<module>\u001b[0;34m\u001b[0m\n\u001b[1;32m      1\u001b[0m \u001b[0mvideos_clean\u001b[0m\u001b[0;34m[\u001b[0m\u001b[0;34m'publish_date'\u001b[0m\u001b[0;34m]\u001b[0m \u001b[0;34m=\u001b[0m \u001b[0mpd\u001b[0m\u001b[0;34m.\u001b[0m\u001b[0mto_datetime\u001b[0m\u001b[0;34m(\u001b[0m\u001b[0mvideos_clean\u001b[0m\u001b[0;34m[\u001b[0m\u001b[0;34m'publish_date'\u001b[0m\u001b[0;34m]\u001b[0m\u001b[0;34m)\u001b[0m\u001b[0;34m\u001b[0m\u001b[0;34m\u001b[0m\u001b[0m\n\u001b[0;32m----> 2\u001b[0;31m \u001b[0mvideos_clean\u001b[0m\u001b[0;34m[\u001b[0m\u001b[0;34m'publish_time_new'\u001b[0m\u001b[0;34m]\u001b[0m \u001b[0;34m=\u001b[0m \u001b[0mpd\u001b[0m\u001b[0;34m.\u001b[0m\u001b[0mto_timedelta\u001b[0m\u001b[0;34m(\u001b[0m\u001b[0mvideos_clean\u001b[0m\u001b[0;34m[\u001b[0m\u001b[0;34m'publish_time_new'\u001b[0m\u001b[0;34m]\u001b[0m\u001b[0;34m)\u001b[0m\u001b[0;34m\u001b[0m\u001b[0;34m\u001b[0m\u001b[0m\n\u001b[0m\u001b[1;32m      3\u001b[0m \u001b[0mvideos_clean\u001b[0m\u001b[0;34m.\u001b[0m\u001b[0mdtypes\u001b[0m\u001b[0;34m\u001b[0m\u001b[0;34m\u001b[0m\u001b[0m\n",
      "\u001b[0;32m~/anaconda3/envs/metis/lib/python3.7/site-packages/pandas/core/tools/timedeltas.py\u001b[0m in \u001b[0;36mto_timedelta\u001b[0;34m(arg, unit, errors)\u001b[0m\n\u001b[1;32m     92\u001b[0m         \u001b[0;32mreturn\u001b[0m \u001b[0marg\u001b[0m\u001b[0;34m\u001b[0m\u001b[0;34m\u001b[0m\u001b[0m\n\u001b[1;32m     93\u001b[0m     \u001b[0;32melif\u001b[0m \u001b[0misinstance\u001b[0m\u001b[0;34m(\u001b[0m\u001b[0marg\u001b[0m\u001b[0;34m,\u001b[0m \u001b[0mABCSeries\u001b[0m\u001b[0;34m)\u001b[0m\u001b[0;34m:\u001b[0m\u001b[0;34m\u001b[0m\u001b[0;34m\u001b[0m\u001b[0m\n\u001b[0;32m---> 94\u001b[0;31m         \u001b[0mvalues\u001b[0m \u001b[0;34m=\u001b[0m \u001b[0m_convert_listlike\u001b[0m\u001b[0;34m(\u001b[0m\u001b[0marg\u001b[0m\u001b[0;34m.\u001b[0m\u001b[0m_values\u001b[0m\u001b[0;34m,\u001b[0m \u001b[0munit\u001b[0m\u001b[0;34m=\u001b[0m\u001b[0munit\u001b[0m\u001b[0;34m,\u001b[0m \u001b[0merrors\u001b[0m\u001b[0;34m=\u001b[0m\u001b[0merrors\u001b[0m\u001b[0;34m)\u001b[0m\u001b[0;34m\u001b[0m\u001b[0;34m\u001b[0m\u001b[0m\n\u001b[0m\u001b[1;32m     95\u001b[0m         \u001b[0;32mreturn\u001b[0m \u001b[0marg\u001b[0m\u001b[0;34m.\u001b[0m\u001b[0m_constructor\u001b[0m\u001b[0;34m(\u001b[0m\u001b[0mvalues\u001b[0m\u001b[0;34m,\u001b[0m \u001b[0mindex\u001b[0m\u001b[0;34m=\u001b[0m\u001b[0marg\u001b[0m\u001b[0;34m.\u001b[0m\u001b[0mindex\u001b[0m\u001b[0;34m,\u001b[0m \u001b[0mname\u001b[0m\u001b[0;34m=\u001b[0m\u001b[0marg\u001b[0m\u001b[0;34m.\u001b[0m\u001b[0mname\u001b[0m\u001b[0;34m)\u001b[0m\u001b[0;34m\u001b[0m\u001b[0;34m\u001b[0m\u001b[0m\n\u001b[1;32m     96\u001b[0m     \u001b[0;32melif\u001b[0m \u001b[0misinstance\u001b[0m\u001b[0;34m(\u001b[0m\u001b[0marg\u001b[0m\u001b[0;34m,\u001b[0m \u001b[0mABCIndexClass\u001b[0m\u001b[0;34m)\u001b[0m\u001b[0;34m:\u001b[0m\u001b[0;34m\u001b[0m\u001b[0;34m\u001b[0m\u001b[0m\n",
      "\u001b[0;32m~/anaconda3/envs/metis/lib/python3.7/site-packages/pandas/core/tools/timedeltas.py\u001b[0m in \u001b[0;36m_convert_listlike\u001b[0;34m(arg, unit, errors, name)\u001b[0m\n\u001b[1;32m    138\u001b[0m \u001b[0;34m\u001b[0m\u001b[0m\n\u001b[1;32m    139\u001b[0m     \u001b[0;32mtry\u001b[0m\u001b[0;34m:\u001b[0m\u001b[0;34m\u001b[0m\u001b[0;34m\u001b[0m\u001b[0m\n\u001b[0;32m--> 140\u001b[0;31m         \u001b[0mvalue\u001b[0m \u001b[0;34m=\u001b[0m \u001b[0msequence_to_td64ns\u001b[0m\u001b[0;34m(\u001b[0m\u001b[0marg\u001b[0m\u001b[0;34m,\u001b[0m \u001b[0munit\u001b[0m\u001b[0;34m=\u001b[0m\u001b[0munit\u001b[0m\u001b[0;34m,\u001b[0m \u001b[0merrors\u001b[0m\u001b[0;34m=\u001b[0m\u001b[0merrors\u001b[0m\u001b[0;34m,\u001b[0m \u001b[0mcopy\u001b[0m\u001b[0;34m=\u001b[0m\u001b[0;32mFalse\u001b[0m\u001b[0;34m)\u001b[0m\u001b[0;34m[\u001b[0m\u001b[0;36m0\u001b[0m\u001b[0;34m]\u001b[0m\u001b[0;34m\u001b[0m\u001b[0;34m\u001b[0m\u001b[0m\n\u001b[0m\u001b[1;32m    141\u001b[0m     \u001b[0;32mexcept\u001b[0m \u001b[0mValueError\u001b[0m\u001b[0;34m:\u001b[0m\u001b[0;34m\u001b[0m\u001b[0;34m\u001b[0m\u001b[0m\n\u001b[1;32m    142\u001b[0m         \u001b[0;32mif\u001b[0m \u001b[0merrors\u001b[0m \u001b[0;34m==\u001b[0m \u001b[0;34m\"ignore\"\u001b[0m\u001b[0;34m:\u001b[0m\u001b[0;34m\u001b[0m\u001b[0;34m\u001b[0m\u001b[0m\n",
      "\u001b[0;32m~/anaconda3/envs/metis/lib/python3.7/site-packages/pandas/core/arrays/timedeltas.py\u001b[0m in \u001b[0;36msequence_to_td64ns\u001b[0;34m(data, copy, unit, errors)\u001b[0m\n\u001b[1;32m    941\u001b[0m     \u001b[0;32mif\u001b[0m \u001b[0mis_object_dtype\u001b[0m\u001b[0;34m(\u001b[0m\u001b[0mdata\u001b[0m\u001b[0;34m.\u001b[0m\u001b[0mdtype\u001b[0m\u001b[0;34m)\u001b[0m \u001b[0;32mor\u001b[0m \u001b[0mis_string_dtype\u001b[0m\u001b[0;34m(\u001b[0m\u001b[0mdata\u001b[0m\u001b[0;34m.\u001b[0m\u001b[0mdtype\u001b[0m\u001b[0;34m)\u001b[0m\u001b[0;34m:\u001b[0m\u001b[0;34m\u001b[0m\u001b[0;34m\u001b[0m\u001b[0m\n\u001b[1;32m    942\u001b[0m         \u001b[0;31m# no need to make a copy, need to convert if string-dtyped\u001b[0m\u001b[0;34m\u001b[0m\u001b[0;34m\u001b[0m\u001b[0;34m\u001b[0m\u001b[0m\n\u001b[0;32m--> 943\u001b[0;31m         \u001b[0mdata\u001b[0m \u001b[0;34m=\u001b[0m \u001b[0mobjects_to_td64ns\u001b[0m\u001b[0;34m(\u001b[0m\u001b[0mdata\u001b[0m\u001b[0;34m,\u001b[0m \u001b[0munit\u001b[0m\u001b[0;34m=\u001b[0m\u001b[0munit\u001b[0m\u001b[0;34m,\u001b[0m \u001b[0merrors\u001b[0m\u001b[0;34m=\u001b[0m\u001b[0merrors\u001b[0m\u001b[0;34m)\u001b[0m\u001b[0;34m\u001b[0m\u001b[0;34m\u001b[0m\u001b[0m\n\u001b[0m\u001b[1;32m    944\u001b[0m         \u001b[0mcopy\u001b[0m \u001b[0;34m=\u001b[0m \u001b[0;32mFalse\u001b[0m\u001b[0;34m\u001b[0m\u001b[0;34m\u001b[0m\u001b[0m\n\u001b[1;32m    945\u001b[0m \u001b[0;34m\u001b[0m\u001b[0m\n",
      "\u001b[0;32m~/anaconda3/envs/metis/lib/python3.7/site-packages/pandas/core/arrays/timedeltas.py\u001b[0m in \u001b[0;36mobjects_to_td64ns\u001b[0;34m(data, unit, errors)\u001b[0m\n\u001b[1;32m   1050\u001b[0m     \u001b[0mvalues\u001b[0m \u001b[0;34m=\u001b[0m \u001b[0mnp\u001b[0m\u001b[0;34m.\u001b[0m\u001b[0marray\u001b[0m\u001b[0;34m(\u001b[0m\u001b[0mdata\u001b[0m\u001b[0;34m,\u001b[0m \u001b[0mdtype\u001b[0m\u001b[0;34m=\u001b[0m\u001b[0mnp\u001b[0m\u001b[0;34m.\u001b[0m\u001b[0mobject_\u001b[0m\u001b[0;34m,\u001b[0m \u001b[0mcopy\u001b[0m\u001b[0;34m=\u001b[0m\u001b[0;32mFalse\u001b[0m\u001b[0;34m)\u001b[0m\u001b[0;34m\u001b[0m\u001b[0;34m\u001b[0m\u001b[0m\n\u001b[1;32m   1051\u001b[0m \u001b[0;34m\u001b[0m\u001b[0m\n\u001b[0;32m-> 1052\u001b[0;31m     \u001b[0mresult\u001b[0m \u001b[0;34m=\u001b[0m \u001b[0marray_to_timedelta64\u001b[0m\u001b[0;34m(\u001b[0m\u001b[0mvalues\u001b[0m\u001b[0;34m,\u001b[0m \u001b[0munit\u001b[0m\u001b[0;34m=\u001b[0m\u001b[0munit\u001b[0m\u001b[0;34m,\u001b[0m \u001b[0merrors\u001b[0m\u001b[0;34m=\u001b[0m\u001b[0merrors\u001b[0m\u001b[0;34m)\u001b[0m\u001b[0;34m\u001b[0m\u001b[0;34m\u001b[0m\u001b[0m\n\u001b[0m\u001b[1;32m   1053\u001b[0m     \u001b[0;32mreturn\u001b[0m \u001b[0mresult\u001b[0m\u001b[0;34m.\u001b[0m\u001b[0mview\u001b[0m\u001b[0;34m(\u001b[0m\u001b[0;34m\"timedelta64[ns]\"\u001b[0m\u001b[0;34m)\u001b[0m\u001b[0;34m\u001b[0m\u001b[0;34m\u001b[0m\u001b[0m\n\u001b[1;32m   1054\u001b[0m \u001b[0;34m\u001b[0m\u001b[0m\n",
      "\u001b[0;32mpandas/_libs/tslibs/timedeltas.pyx\u001b[0m in \u001b[0;36mpandas._libs.tslibs.timedeltas.array_to_timedelta64\u001b[0;34m()\u001b[0m\n",
      "\u001b[0;32mpandas/_libs/tslibs/timedeltas.pyx\u001b[0m in \u001b[0;36mpandas._libs.tslibs.timedeltas.array_to_timedelta64\u001b[0;34m()\u001b[0m\n",
      "\u001b[0;32mpandas/_libs/tslibs/timedeltas.pyx\u001b[0m in \u001b[0;36mpandas._libs.tslibs.timedeltas.convert_to_timedelta64\u001b[0;34m()\u001b[0m\n",
      "\u001b[0;31mValueError\u001b[0m: Invalid type for timedelta scalar: <class 'datetime.time'>"
     ]
    }
   ],
   "source": [
    "videos_clean['publish_date'] = pd.to_datetime(videos_clean['publish_date'])\n",
    "videos_clean['publish_time_new'] = pd.to_timedelta(videos_clean['publish_time_new'])\n",
    "videos_clean.dtypes"
   ]
  },
  {
   "cell_type": "code",
   "execution_count": null,
   "metadata": {},
   "outputs": [],
   "source": [
    "videos_clean.publish_time_new.value_counts()"
   ]
  },
  {
   "cell_type": "markdown",
   "metadata": {},
   "source": [
    "- Drop the original `publish_time` column and rename the new time column"
   ]
  },
  {
   "cell_type": "code",
   "execution_count": null,
   "metadata": {},
   "outputs": [],
   "source": [
    "videos_clean = videos_clean.drop(columns='publish_time', axis=1)\n",
    "videos_clean = videos_clean.rename(columns={'publish_time_new': 'publish_time'})\n",
    "videos_clean.head(2)"
   ]
  },
  {
   "cell_type": "markdown",
   "metadata": {},
   "source": [
    "4. There are 48 duplicate rows in the dataset. These rows will be removed.   \n",
    "This will be done using the `.drop_duplicates()` method."
   ]
  },
  {
   "cell_type": "code",
   "execution_count": null,
   "metadata": {},
   "outputs": [],
   "source": [
    "videos_clean = videos_clean.drop_duplicates()\n",
    "videos_clean.shape"
   ]
  },
  {
   "cell_type": "code",
   "execution_count": null,
   "metadata": {},
   "outputs": [],
   "source": [
    "videos_clean.duplicated('video_id').sum()"
   ]
  },
  {
   "cell_type": "markdown",
   "metadata": {},
   "source": [
    "5. Merge the two DataFrames on `category_id`.\n",
    "6. There are gaps between the category id numbers. Monitor this when merging dataframes to determine if any additional data needs to be collected.\n",
    "7. There are two \"Comedy\" categories. This will need to be assessed after merging the DataFrames to be sure that there is not mis-classification. <br>\n",
    "Merge the DataFrames first, then assess effect on categorization and clean further if necessary."
   ]
  },
  {
   "cell_type": "code",
   "execution_count": null,
   "metadata": {},
   "outputs": [],
   "source": [
    "# Merge DataFrames\n",
    "df1 = videos_clean.merge(categories_clean, on='category_id', how='left')\n",
    "df1.head()"
   ]
  },
  {
   "cell_type": "code",
   "execution_count": null,
   "metadata": {},
   "outputs": [],
   "source": [
    "df1.groupby(['category_id', 'category'])['video_id'].count()"
   ]
  },
  {
   "cell_type": "markdown",
   "metadata": {},
   "source": [
    "- There were no NaN values created in the `category` column as a result of the left join, so all videos were classified appropriately. Only one 'Comedy' category was needed."
   ]
  },
  {
   "cell_type": "markdown",
   "metadata": {},
   "source": [
    "8. Rename the `comment_count` column to `columns`, for consistency and ease of analysis.\n",
    "I am also going to rename the \"comment_count\" column to \"comments\", just for my own sanity."
   ]
  },
  {
   "cell_type": "code",
   "execution_count": null,
   "metadata": {},
   "outputs": [],
   "source": [
    "df1 = df1.rename(columns={\"comment_count\": \"comments\"})\n",
    "df1.head()"
   ]
  },
  {
   "cell_type": "markdown",
   "metadata": {},
   "source": [
    "9. Of the 40K+ videos featured in the dataset, there are 6,351 unique videos. The other rows represent different dates in which the video was trending. A separate DataFrame will be created after merging the video categories in order to analyze individual videos based on the first date they were trending. <br>\n",
    "I will need to find the `video_id` of all videos that trended on multiple days, find the day they were first trending, and create a DataFrame comprised of individual videos with the `trending_date` and associated stats of the day they first appeared in the trending section."
   ]
  },
  {
   "cell_type": "code",
   "execution_count": null,
   "metadata": {},
   "outputs": [],
   "source": [
    "df1.video_id.value_counts()"
   ]
  },
  {
   "cell_type": "markdown",
   "metadata": {},
   "source": [
    "- The new DataFrame must filter out the duplicate videos, leaving only the row of the first trending date."
   ]
  },
  {
   "cell_type": "code",
   "execution_count": null,
   "metadata": {},
   "outputs": [],
   "source": [
    "df2 = df1.sort_values('trending_date').drop_duplicates('video_id', keep='last')\n",
    "df2.shape"
   ]
  },
  {
   "cell_type": "code",
   "execution_count": null,
   "metadata": {},
   "outputs": [],
   "source": [
    "df2.sort_values('video_id')"
   ]
  },
  {
   "cell_type": "code",
   "execution_count": null,
   "metadata": {},
   "outputs": [],
   "source": [
    "df2.video_id.nunique()"
   ]
  },
  {
   "cell_type": "markdown",
   "metadata": {},
   "source": [
    "- Now I will do a final check of data to be sure cleaning is complete."
   ]
  },
  {
   "cell_type": "code",
   "execution_count": null,
   "metadata": {},
   "outputs": [],
   "source": [
    "df1.dtypes"
   ]
  },
  {
   "cell_type": "code",
   "execution_count": null,
   "metadata": {},
   "outputs": [],
   "source": [
    "df2.dtypes"
   ]
  },
  {
   "cell_type": "markdown",
   "metadata": {},
   "source": [
    "- `publish_date` and `publish_time` need to be converted to datetime objects again in both dataframes"
   ]
  },
  {
   "cell_type": "code",
   "execution_count": null,
   "metadata": {},
   "outputs": [],
   "source": [
    "df2['publish_date'] = pd.to_datetime(df2['publish_date'])\n",
    "df2.dtypes"
   ]
  },
  {
   "cell_type": "markdown",
   "metadata": {},
   "source": [
    "<a id='clean_sum'></a>\n",
    "**Cleaning summary**\n",
    "1. The date/time based columns were converted to datetime objects from strings using `pd.to_datetime()`.\n",
    "2. The `trending_date` column was not in 'YYYY-MM-DD' format and needed to be split on '.' and concatenated in order to be converted to datetime.\n",
    "3. The `publish_time` column includes both date and time and was split into two separate columns, `publish_date` and `publish_time` using pandas datetime methods.\n",
    "4. 48 duplicate rows were dropped using `.drop_duplicates()`   \n",
    "5. The `categories` DataFrame was left joined onto `videos` on `category_id`.\n",
    "6. No NaN values were created in the `category` columns as a result of the left join, so no further cleaning needed to be done as a result of the join.\n",
    "7. Only one `category_id` of the 'Comedy' category lived in the DataFrame, so there was no need to determine misclassification.\n",
    "8. The `comment_count` column was renamed to `columns`, for consistent naming convention across other numeric columns.\n",
    "9. The 6,351 unique videos were isolated into a separate DataFrame using their first trending date for categorical analysis."
   ]
  },
  {
   "cell_type": "markdown",
   "metadata": {},
   "source": [
    "<a id='eda'></a>\n",
    "## Exploratory Data Analysis\n",
    "Data types have been corrected, so now I can visually explore the data."
   ]
  },
  {
   "cell_type": "code",
   "execution_count": null,
   "metadata": {},
   "outputs": [],
   "source": [
    "df1.head(1)"
   ]
  },
  {
   "cell_type": "code",
   "execution_count": null,
   "metadata": {},
   "outputs": [],
   "source": [
    "sns.pairplot(df1, vars=['likes', 'comments', 'dislikes']);"
   ]
  },
  {
   "cell_type": "code",
   "execution_count": null,
   "metadata": {},
   "outputs": [],
   "source": [
    "category_order = df2.category.value_counts().index\n",
    "fig, ax = plt.subplots()\n",
    "plot = sns.countplot(data=df2, y='category', color='orange', order=category_order)\n",
    "plt.xticks(rotation=90);"
   ]
  },
  {
   "cell_type": "code",
   "execution_count": null,
   "metadata": {},
   "outputs": [],
   "source": [
    "# Calculate the number of days each video was trending into a separate column\n",
    "\n",
    "# Create separate DataFrames containing the unique videos by minimum and maximum trending date\n",
    "min_date = df1.loc[df1.groupby('video_id')['trending_date'].idxmin()]\n",
    "max_date = df1.loc[df1.groupby('video_id')['trending_date'].idxmax()]"
   ]
  },
  {
   "cell_type": "code",
   "execution_count": null,
   "metadata": {},
   "outputs": [],
   "source": []
  },
  {
   "cell_type": "code",
   "execution_count": null,
   "metadata": {},
   "outputs": [],
   "source": [
    "# Converting the quantitative columns to logs to view distributions\n",
    "log_views = np.log(df1[\"views\"])\n",
    "log_likes = np.log(df1[\"likes\"])\n",
    "log_dislikes = np.log(df1[\"dislikes\"])\n",
    "log_comments = np.log(df1[\"comments\"])\n",
    "\n",
    "plt.figure(figsize=(12,6))\n",
    "\n",
    "plt.subplot(2,2,1)\n",
    "ax1 = sns.distplot(log_views)\n",
    "\n",
    "plt.subplot(2,2,2)\n",
    "ax2 = sns.distplot(log_likes)\n",
    "\n",
    "plt.subplot(2,2,3)\n",
    "# ax3 = sns.distplot(log_dislikes)\n",
    "\n",
    "plt.subplot(2,2,4)\n",
    "# ax4 = sns.distplot(log_comments)\n",
    "\n",
    "plt.subplots_adjust(wspace=0.2, hspace=0.4, top=0.9);"
   ]
  },
  {
   "cell_type": "markdown",
   "metadata": {},
   "source": [
    "<a id='conclusions'></a>\n",
    "## Conclusions\n",
    "1. \n",
    "2. \n",
    "3. \n",
    "4. \n",
    "\n",
    "### Limitations\n",
    "..."
   ]
  }
 ],
 "metadata": {
  "kernelspec": {
   "display_name": "Python 3",
   "language": "python",
   "name": "python3"
  },
  "language_info": {
   "codemirror_mode": {
    "name": "ipython",
    "version": 3
   },
   "file_extension": ".py",
   "mimetype": "text/x-python",
   "name": "python",
   "nbconvert_exporter": "python",
   "pygments_lexer": "ipython3",
   "version": "3.7.7"
  }
 },
 "nbformat": 4,
 "nbformat_minor": 4
}
