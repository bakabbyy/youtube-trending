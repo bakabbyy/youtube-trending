{
 "cells": [
  {
   "cell_type": "markdown",
   "metadata": {},
   "source": [
    "# Trending YouTube Content Analysis\n",
    "\n",
    "## Table of Contents\n",
    "<ul>\n",
    "<li><a href=\"#intro\">Introduction</a></li>\n",
    "<li><a href=\"#assess\">Assess the data</a></li>\n",
    "    <ul>\n",
    "        <li><a href=\"#assess_sum\">Assessment summary</a></li>\n",
    "    </ul>\n",
    "<li><a href=\"#clean\">Clean the data</a></li>\n",
    "    <ul>\n",
    "        <li><a href=\"clean_sum\">Cleaning summary</a></li>"
   ]
  },
  {
   "cell_type": "markdown",
   "metadata": {},
   "source": [
    "<a id='intro'></a>\n",
    "## Introduction\n",
    "The purpose of this analysis is to analyze the stats of YouTube trending videos to derive insights into what it takes for a video to trend. The dataset consists of 40,901 records representing a video's stats on a day it was considered trending. There are 6,351 unique videos in this dataset, which spans the trending date range from November 2017 to June 2018. "
   ]
  },
  {
   "cell_type": "code",
   "execution_count": 1,
   "metadata": {},
   "outputs": [
    {
     "name": "stderr",
     "output_type": "stream",
     "text": [
      "/Users/baka_brooks/anaconda3/envs/metis/lib/python3.7/site-packages/statsmodels/tools/_testing.py:19: FutureWarning: pandas.util.testing is deprecated. Use the functions in the public API at pandas.testing instead.\n",
      "  import pandas.util.testing as tm\n"
     ]
    }
   ],
   "source": [
    "import numpy as np\n",
    "import pandas as pd\n",
    "from tabulate import tabulate\n",
    "\n",
    "import matplotlib.pyplot as plt\n",
    "import seaborn as sns\n",
    "import plotly.io as pio\n",
    "import plotly.express as px\n",
    "import plotly.graph_objects as go\n",
    "\n",
    "# pio.templates.default = \"plotly_white\"\n",
    "%matplotlib inline"
   ]
  },
  {
   "cell_type": "code",
   "execution_count": 2,
   "metadata": {},
   "outputs": [],
   "source": [
    "# Read csv file of trending YouTube video data\n",
    "videos = pd.read_csv(r'/Users/baka_brooks/Documents/my-projects/youtube/datasets/USvideos.csv')"
   ]
  },
  {
   "cell_type": "code",
   "execution_count": 3,
   "metadata": {},
   "outputs": [],
   "source": [
    "# Read json file of US video categories\n",
    "import json\n",
    "from pandas.io.json import json_normalize\n",
    "\n",
    "data = pd.read_json(r\"/Users/baka_brooks/Documents/my-projects/youtube/datasets/US_category_id.json\")\n",
    "\n",
    "category_id = []\n",
    "category = []\n",
    "for item in data['items']:\n",
    "    category_id.append(item['id'])\n",
    "    category.append(item['snippet']['title'])\n",
    "    \n",
    "categories = pd.DataFrame(list(zip(category_id, category)), columns=['category_id', 'category'])\n",
    "categories['category_id'] = categories['category_id'].astype('int64')\n",
    "categories = categories.sort_values('category_id')"
   ]
  },
  {
   "cell_type": "markdown",
   "metadata": {},
   "source": [
    "<a id='assess'></a>\n",
    "## Assess the data"
   ]
  },
  {
   "cell_type": "code",
   "execution_count": 4,
   "metadata": {},
   "outputs": [
    {
     "data": {
      "text/html": [
       "<div>\n",
       "<style scoped>\n",
       "    .dataframe tbody tr th:only-of-type {\n",
       "        vertical-align: middle;\n",
       "    }\n",
       "\n",
       "    .dataframe tbody tr th {\n",
       "        vertical-align: top;\n",
       "    }\n",
       "\n",
       "    .dataframe thead th {\n",
       "        text-align: right;\n",
       "    }\n",
       "</style>\n",
       "<table border=\"1\" class=\"dataframe\">\n",
       "  <thead>\n",
       "    <tr style=\"text-align: right;\">\n",
       "      <th></th>\n",
       "      <th>video_id</th>\n",
       "      <th>trending_date</th>\n",
       "      <th>title</th>\n",
       "      <th>channel_title</th>\n",
       "      <th>category_id</th>\n",
       "      <th>publish_time</th>\n",
       "      <th>tags</th>\n",
       "      <th>views</th>\n",
       "      <th>likes</th>\n",
       "      <th>dislikes</th>\n",
       "      <th>comment_count</th>\n",
       "      <th>thumbnail_link</th>\n",
       "      <th>comments_disabled</th>\n",
       "      <th>ratings_disabled</th>\n",
       "      <th>video_error_or_removed</th>\n",
       "      <th>description</th>\n",
       "    </tr>\n",
       "  </thead>\n",
       "  <tbody>\n",
       "    <tr>\n",
       "      <th>0</th>\n",
       "      <td>2kyS6SvSYSE</td>\n",
       "      <td>17.14.11</td>\n",
       "      <td>WE WANT TO TALK ABOUT OUR MARRIAGE</td>\n",
       "      <td>CaseyNeistat</td>\n",
       "      <td>22</td>\n",
       "      <td>2017-11-13T17:13:01.000Z</td>\n",
       "      <td>SHANtell martin</td>\n",
       "      <td>748374</td>\n",
       "      <td>57527</td>\n",
       "      <td>2966</td>\n",
       "      <td>15954</td>\n",
       "      <td>https://i.ytimg.com/vi/2kyS6SvSYSE/default.jpg</td>\n",
       "      <td>False</td>\n",
       "      <td>False</td>\n",
       "      <td>False</td>\n",
       "      <td>SHANTELL'S CHANNEL - https://www.youtube.com/s...</td>\n",
       "    </tr>\n",
       "    <tr>\n",
       "      <th>1</th>\n",
       "      <td>1ZAPwfrtAFY</td>\n",
       "      <td>17.14.11</td>\n",
       "      <td>The Trump Presidency: Last Week Tonight with J...</td>\n",
       "      <td>LastWeekTonight</td>\n",
       "      <td>24</td>\n",
       "      <td>2017-11-13T07:30:00.000Z</td>\n",
       "      <td>last week tonight trump presidency|\"last week ...</td>\n",
       "      <td>2418783</td>\n",
       "      <td>97185</td>\n",
       "      <td>6146</td>\n",
       "      <td>12703</td>\n",
       "      <td>https://i.ytimg.com/vi/1ZAPwfrtAFY/default.jpg</td>\n",
       "      <td>False</td>\n",
       "      <td>False</td>\n",
       "      <td>False</td>\n",
       "      <td>One year after the presidential election, John...</td>\n",
       "    </tr>\n",
       "    <tr>\n",
       "      <th>2</th>\n",
       "      <td>5qpjK5DgCt4</td>\n",
       "      <td>17.14.11</td>\n",
       "      <td>Racist Superman | Rudy Mancuso, King Bach &amp; Le...</td>\n",
       "      <td>Rudy Mancuso</td>\n",
       "      <td>23</td>\n",
       "      <td>2017-11-12T19:05:24.000Z</td>\n",
       "      <td>racist superman|\"rudy\"|\"mancuso\"|\"king\"|\"bach\"...</td>\n",
       "      <td>3191434</td>\n",
       "      <td>146033</td>\n",
       "      <td>5339</td>\n",
       "      <td>8181</td>\n",
       "      <td>https://i.ytimg.com/vi/5qpjK5DgCt4/default.jpg</td>\n",
       "      <td>False</td>\n",
       "      <td>False</td>\n",
       "      <td>False</td>\n",
       "      <td>WATCH MY PREVIOUS VIDEO ▶ \\n\\nSUBSCRIBE ► http...</td>\n",
       "    </tr>\n",
       "    <tr>\n",
       "      <th>3</th>\n",
       "      <td>puqaWrEC7tY</td>\n",
       "      <td>17.14.11</td>\n",
       "      <td>Nickelback Lyrics: Real or Fake?</td>\n",
       "      <td>Good Mythical Morning</td>\n",
       "      <td>24</td>\n",
       "      <td>2017-11-13T11:00:04.000Z</td>\n",
       "      <td>rhett and link|\"gmm\"|\"good mythical morning\"|\"...</td>\n",
       "      <td>343168</td>\n",
       "      <td>10172</td>\n",
       "      <td>666</td>\n",
       "      <td>2146</td>\n",
       "      <td>https://i.ytimg.com/vi/puqaWrEC7tY/default.jpg</td>\n",
       "      <td>False</td>\n",
       "      <td>False</td>\n",
       "      <td>False</td>\n",
       "      <td>Today we find out if Link is a Nickelback amat...</td>\n",
       "    </tr>\n",
       "    <tr>\n",
       "      <th>4</th>\n",
       "      <td>d380meD0W0M</td>\n",
       "      <td>17.14.11</td>\n",
       "      <td>I Dare You: GOING BALD!?</td>\n",
       "      <td>nigahiga</td>\n",
       "      <td>24</td>\n",
       "      <td>2017-11-12T18:01:41.000Z</td>\n",
       "      <td>ryan|\"higa\"|\"higatv\"|\"nigahiga\"|\"i dare you\"|\"...</td>\n",
       "      <td>2095731</td>\n",
       "      <td>132235</td>\n",
       "      <td>1989</td>\n",
       "      <td>17518</td>\n",
       "      <td>https://i.ytimg.com/vi/d380meD0W0M/default.jpg</td>\n",
       "      <td>False</td>\n",
       "      <td>False</td>\n",
       "      <td>False</td>\n",
       "      <td>I know it's been a while since we did this sho...</td>\n",
       "    </tr>\n",
       "  </tbody>\n",
       "</table>\n",
       "</div>"
      ],
      "text/plain": [
       "      video_id trending_date  \\\n",
       "0  2kyS6SvSYSE      17.14.11   \n",
       "1  1ZAPwfrtAFY      17.14.11   \n",
       "2  5qpjK5DgCt4      17.14.11   \n",
       "3  puqaWrEC7tY      17.14.11   \n",
       "4  d380meD0W0M      17.14.11   \n",
       "\n",
       "                                               title          channel_title  \\\n",
       "0                 WE WANT TO TALK ABOUT OUR MARRIAGE           CaseyNeistat   \n",
       "1  The Trump Presidency: Last Week Tonight with J...        LastWeekTonight   \n",
       "2  Racist Superman | Rudy Mancuso, King Bach & Le...           Rudy Mancuso   \n",
       "3                   Nickelback Lyrics: Real or Fake?  Good Mythical Morning   \n",
       "4                           I Dare You: GOING BALD!?               nigahiga   \n",
       "\n",
       "   category_id              publish_time  \\\n",
       "0           22  2017-11-13T17:13:01.000Z   \n",
       "1           24  2017-11-13T07:30:00.000Z   \n",
       "2           23  2017-11-12T19:05:24.000Z   \n",
       "3           24  2017-11-13T11:00:04.000Z   \n",
       "4           24  2017-11-12T18:01:41.000Z   \n",
       "\n",
       "                                                tags    views   likes  \\\n",
       "0                                    SHANtell martin   748374   57527   \n",
       "1  last week tonight trump presidency|\"last week ...  2418783   97185   \n",
       "2  racist superman|\"rudy\"|\"mancuso\"|\"king\"|\"bach\"...  3191434  146033   \n",
       "3  rhett and link|\"gmm\"|\"good mythical morning\"|\"...   343168   10172   \n",
       "4  ryan|\"higa\"|\"higatv\"|\"nigahiga\"|\"i dare you\"|\"...  2095731  132235   \n",
       "\n",
       "   dislikes  comment_count                                  thumbnail_link  \\\n",
       "0      2966          15954  https://i.ytimg.com/vi/2kyS6SvSYSE/default.jpg   \n",
       "1      6146          12703  https://i.ytimg.com/vi/1ZAPwfrtAFY/default.jpg   \n",
       "2      5339           8181  https://i.ytimg.com/vi/5qpjK5DgCt4/default.jpg   \n",
       "3       666           2146  https://i.ytimg.com/vi/puqaWrEC7tY/default.jpg   \n",
       "4      1989          17518  https://i.ytimg.com/vi/d380meD0W0M/default.jpg   \n",
       "\n",
       "   comments_disabled  ratings_disabled  video_error_or_removed  \\\n",
       "0              False             False                   False   \n",
       "1              False             False                   False   \n",
       "2              False             False                   False   \n",
       "3              False             False                   False   \n",
       "4              False             False                   False   \n",
       "\n",
       "                                         description  \n",
       "0  SHANTELL'S CHANNEL - https://www.youtube.com/s...  \n",
       "1  One year after the presidential election, John...  \n",
       "2  WATCH MY PREVIOUS VIDEO ▶ \\n\\nSUBSCRIBE ► http...  \n",
       "3  Today we find out if Link is a Nickelback amat...  \n",
       "4  I know it's been a while since we did this sho...  "
      ]
     },
     "execution_count": 4,
     "metadata": {},
     "output_type": "execute_result"
    }
   ],
   "source": [
    "videos.head(5)"
   ]
  },
  {
   "cell_type": "markdown",
   "metadata": {},
   "source": [
    "- Tags separated by \"|\" character\n",
    "- Description also contains special characters\n",
    "- Trending date and published time columns are in different formats, and both are not the standard datetime format"
   ]
  },
  {
   "cell_type": "code",
   "execution_count": 5,
   "metadata": {},
   "outputs": [
    {
     "data": {
      "text/plain": [
       "(40949, 16)"
      ]
     },
     "execution_count": 5,
     "metadata": {},
     "output_type": "execute_result"
    }
   ],
   "source": [
    "videos.shape"
   ]
  },
  {
   "cell_type": "markdown",
   "metadata": {},
   "source": [
    "- There are 40,949 videos included in this dataset and 16 columns"
   ]
  },
  {
   "cell_type": "code",
   "execution_count": 6,
   "metadata": {},
   "outputs": [
    {
     "name": "stdout",
     "output_type": "stream",
     "text": [
      "<class 'pandas.core.frame.DataFrame'>\n",
      "RangeIndex: 40949 entries, 0 to 40948\n",
      "Data columns (total 16 columns):\n",
      " #   Column                  Non-Null Count  Dtype \n",
      "---  ------                  --------------  ----- \n",
      " 0   video_id                40949 non-null  object\n",
      " 1   trending_date           40949 non-null  object\n",
      " 2   title                   40949 non-null  object\n",
      " 3   channel_title           40949 non-null  object\n",
      " 4   category_id             40949 non-null  int64 \n",
      " 5   publish_time            40949 non-null  object\n",
      " 6   tags                    40949 non-null  object\n",
      " 7   views                   40949 non-null  int64 \n",
      " 8   likes                   40949 non-null  int64 \n",
      " 9   dislikes                40949 non-null  int64 \n",
      " 10  comment_count           40949 non-null  int64 \n",
      " 11  thumbnail_link          40949 non-null  object\n",
      " 12  comments_disabled       40949 non-null  bool  \n",
      " 13  ratings_disabled        40949 non-null  bool  \n",
      " 14  video_error_or_removed  40949 non-null  bool  \n",
      " 15  description             40379 non-null  object\n",
      "dtypes: bool(3), int64(5), object(8)\n",
      "memory usage: 4.2+ MB\n"
     ]
    }
   ],
   "source": [
    "videos.info()"
   ]
  },
  {
   "cell_type": "markdown",
   "metadata": {},
   "source": [
    "- There are some null descriptions"
   ]
  },
  {
   "cell_type": "code",
   "execution_count": 7,
   "metadata": {},
   "outputs": [
    {
     "data": {
      "text/plain": [
       "video_id                  object\n",
       "trending_date             object\n",
       "title                     object\n",
       "channel_title             object\n",
       "category_id                int64\n",
       "publish_time              object\n",
       "tags                      object\n",
       "views                      int64\n",
       "likes                      int64\n",
       "dislikes                   int64\n",
       "comment_count              int64\n",
       "thumbnail_link            object\n",
       "comments_disabled           bool\n",
       "ratings_disabled            bool\n",
       "video_error_or_removed      bool\n",
       "description               object\n",
       "dtype: object"
      ]
     },
     "execution_count": 7,
     "metadata": {},
     "output_type": "execute_result"
    }
   ],
   "source": [
    "videos.dtypes"
   ]
  },
  {
   "cell_type": "markdown",
   "metadata": {},
   "source": [
    "- Dates and times are read as strings"
   ]
  },
  {
   "cell_type": "code",
   "execution_count": 8,
   "metadata": {},
   "outputs": [
    {
     "data": {
      "text/plain": [
       "48"
      ]
     },
     "execution_count": 8,
     "metadata": {},
     "output_type": "execute_result"
    }
   ],
   "source": [
    "videos.duplicated().sum()"
   ]
  },
  {
   "cell_type": "markdown",
   "metadata": {},
   "source": [
    "- There are 48 duplicate rows in the dataset."
   ]
  },
  {
   "cell_type": "code",
   "execution_count": 9,
   "metadata": {},
   "outputs": [
    {
     "data": {
      "text/plain": [
       "6351"
      ]
     },
     "execution_count": 9,
     "metadata": {},
     "output_type": "execute_result"
    }
   ],
   "source": [
    "videos.video_id.nunique()"
   ]
  },
  {
   "cell_type": "markdown",
   "metadata": {},
   "source": [
    "- There are 40K+ rows in the dataset, but there are 6,351 unique videos featured."
   ]
  },
  {
   "cell_type": "code",
   "execution_count": 10,
   "metadata": {},
   "outputs": [
    {
     "data": {
      "text/plain": [
       "j4KvrAUjn6c    30\n",
       "t4pRQ0jn23Q    29\n",
       "NBSAQenU2Bk    29\n",
       "QBL8IRJ5yHU    29\n",
       "r-3iathMo7o    29\n",
       "Name: video_id, dtype: int64"
      ]
     },
     "execution_count": 10,
     "metadata": {},
     "output_type": "execute_result"
    }
   ],
   "source": [
    "videos.video_id.value_counts().head()"
   ]
  },
  {
   "cell_type": "markdown",
   "metadata": {},
   "source": [
    "- The most common `video_id` is \"j4KvrAUjn6c\". Let's examine these rows to see the differences between these rows."
   ]
  },
  {
   "cell_type": "code",
   "execution_count": 11,
   "metadata": {},
   "outputs": [
    {
     "data": {
      "text/html": [
       "<div>\n",
       "<style scoped>\n",
       "    .dataframe tbody tr th:only-of-type {\n",
       "        vertical-align: middle;\n",
       "    }\n",
       "\n",
       "    .dataframe tbody tr th {\n",
       "        vertical-align: top;\n",
       "    }\n",
       "\n",
       "    .dataframe thead th {\n",
       "        text-align: right;\n",
       "    }\n",
       "</style>\n",
       "<table border=\"1\" class=\"dataframe\">\n",
       "  <thead>\n",
       "    <tr style=\"text-align: right;\">\n",
       "      <th></th>\n",
       "      <th>video_id</th>\n",
       "      <th>trending_date</th>\n",
       "      <th>title</th>\n",
       "      <th>channel_title</th>\n",
       "      <th>category_id</th>\n",
       "      <th>publish_time</th>\n",
       "      <th>tags</th>\n",
       "      <th>views</th>\n",
       "      <th>likes</th>\n",
       "      <th>dislikes</th>\n",
       "      <th>comment_count</th>\n",
       "      <th>thumbnail_link</th>\n",
       "      <th>comments_disabled</th>\n",
       "      <th>ratings_disabled</th>\n",
       "      <th>video_error_or_removed</th>\n",
       "      <th>description</th>\n",
       "    </tr>\n",
       "  </thead>\n",
       "  <tbody>\n",
       "    <tr>\n",
       "      <th>0</th>\n",
       "      <td>2kyS6SvSYSE</td>\n",
       "      <td>17.14.11</td>\n",
       "      <td>WE WANT TO TALK ABOUT OUR MARRIAGE</td>\n",
       "      <td>CaseyNeistat</td>\n",
       "      <td>22</td>\n",
       "      <td>2017-11-13T17:13:01.000Z</td>\n",
       "      <td>SHANtell martin</td>\n",
       "      <td>748374</td>\n",
       "      <td>57527</td>\n",
       "      <td>2966</td>\n",
       "      <td>15954</td>\n",
       "      <td>https://i.ytimg.com/vi/2kyS6SvSYSE/default.jpg</td>\n",
       "      <td>False</td>\n",
       "      <td>False</td>\n",
       "      <td>False</td>\n",
       "      <td>SHANTELL'S CHANNEL - https://www.youtube.com/s...</td>\n",
       "    </tr>\n",
       "    <tr>\n",
       "      <th>217</th>\n",
       "      <td>2kyS6SvSYSE</td>\n",
       "      <td>17.15.11</td>\n",
       "      <td>WE WANT TO TALK ABOUT OUR MARRIAGE</td>\n",
       "      <td>CaseyNeistat</td>\n",
       "      <td>22</td>\n",
       "      <td>2017-11-13T17:13:01.000Z</td>\n",
       "      <td>SHANtell martin</td>\n",
       "      <td>2188590</td>\n",
       "      <td>88099</td>\n",
       "      <td>7150</td>\n",
       "      <td>24225</td>\n",
       "      <td>https://i.ytimg.com/vi/2kyS6SvSYSE/default.jpg</td>\n",
       "      <td>False</td>\n",
       "      <td>False</td>\n",
       "      <td>False</td>\n",
       "      <td>SHANTELL'S CHANNEL - https://www.youtube.com/s...</td>\n",
       "    </tr>\n",
       "    <tr>\n",
       "      <th>448</th>\n",
       "      <td>2kyS6SvSYSE</td>\n",
       "      <td>17.16.11</td>\n",
       "      <td>WE WANT TO TALK ABOUT OUR MARRIAGE</td>\n",
       "      <td>CaseyNeistat</td>\n",
       "      <td>22</td>\n",
       "      <td>2017-11-13T17:13:01.000Z</td>\n",
       "      <td>SHANtell martin</td>\n",
       "      <td>2325233</td>\n",
       "      <td>91111</td>\n",
       "      <td>7543</td>\n",
       "      <td>21450</td>\n",
       "      <td>https://i.ytimg.com/vi/2kyS6SvSYSE/default.jpg</td>\n",
       "      <td>False</td>\n",
       "      <td>False</td>\n",
       "      <td>False</td>\n",
       "      <td>SHANTELL'S CHANNEL - https://www.youtube.com/s...</td>\n",
       "    </tr>\n",
       "    <tr>\n",
       "      <th>689</th>\n",
       "      <td>2kyS6SvSYSE</td>\n",
       "      <td>17.17.11</td>\n",
       "      <td>WE WANT TO TALK ABOUT OUR MARRIAGE</td>\n",
       "      <td>CaseyNeistat</td>\n",
       "      <td>22</td>\n",
       "      <td>2017-11-13T17:13:01.000Z</td>\n",
       "      <td>SHANtell martin</td>\n",
       "      <td>2400741</td>\n",
       "      <td>92831</td>\n",
       "      <td>7687</td>\n",
       "      <td>21714</td>\n",
       "      <td>https://i.ytimg.com/vi/2kyS6SvSYSE/default.jpg</td>\n",
       "      <td>False</td>\n",
       "      <td>False</td>\n",
       "      <td>False</td>\n",
       "      <td>SHANTELL'S CHANNEL - https://www.youtube.com/s...</td>\n",
       "    </tr>\n",
       "    <tr>\n",
       "      <th>924</th>\n",
       "      <td>2kyS6SvSYSE</td>\n",
       "      <td>17.18.11</td>\n",
       "      <td>WE WANT TO TALK ABOUT OUR MARRIAGE</td>\n",
       "      <td>CaseyNeistat</td>\n",
       "      <td>22</td>\n",
       "      <td>2017-11-13T17:13:01.000Z</td>\n",
       "      <td>SHANtell martin</td>\n",
       "      <td>2468267</td>\n",
       "      <td>94303</td>\n",
       "      <td>7802</td>\n",
       "      <td>21866</td>\n",
       "      <td>https://i.ytimg.com/vi/2kyS6SvSYSE/default.jpg</td>\n",
       "      <td>False</td>\n",
       "      <td>False</td>\n",
       "      <td>False</td>\n",
       "      <td>SHANTELL'S CHANNEL - https://www.youtube.com/s...</td>\n",
       "    </tr>\n",
       "    <tr>\n",
       "      <th>1159</th>\n",
       "      <td>2kyS6SvSYSE</td>\n",
       "      <td>17.19.11</td>\n",
       "      <td>WE WANT TO TALK ABOUT OUR MARRIAGE</td>\n",
       "      <td>CaseyNeistat</td>\n",
       "      <td>22</td>\n",
       "      <td>2017-11-13T17:13:01.000Z</td>\n",
       "      <td>SHANtell martin</td>\n",
       "      <td>2524854</td>\n",
       "      <td>95587</td>\n",
       "      <td>7892</td>\n",
       "      <td>22038</td>\n",
       "      <td>https://i.ytimg.com/vi/2kyS6SvSYSE/default.jpg</td>\n",
       "      <td>False</td>\n",
       "      <td>False</td>\n",
       "      <td>False</td>\n",
       "      <td>SHANTELL'S CHANNEL - https://www.youtube.com/s...</td>\n",
       "    </tr>\n",
       "    <tr>\n",
       "      <th>1383</th>\n",
       "      <td>2kyS6SvSYSE</td>\n",
       "      <td>17.20.11</td>\n",
       "      <td>WE WANT TO TALK ABOUT OUR MARRIAGE</td>\n",
       "      <td>CaseyNeistat</td>\n",
       "      <td>22</td>\n",
       "      <td>2017-11-13T17:13:01.000Z</td>\n",
       "      <td>SHANtell martin</td>\n",
       "      <td>2564903</td>\n",
       "      <td>96321</td>\n",
       "      <td>7972</td>\n",
       "      <td>22149</td>\n",
       "      <td>https://i.ytimg.com/vi/2kyS6SvSYSE/default.jpg</td>\n",
       "      <td>False</td>\n",
       "      <td>False</td>\n",
       "      <td>False</td>\n",
       "      <td>SHANTELL'S CHANNEL - https://www.youtube.com/s...</td>\n",
       "    </tr>\n",
       "  </tbody>\n",
       "</table>\n",
       "</div>"
      ],
      "text/plain": [
       "         video_id trending_date                               title  \\\n",
       "0     2kyS6SvSYSE      17.14.11  WE WANT TO TALK ABOUT OUR MARRIAGE   \n",
       "217   2kyS6SvSYSE      17.15.11  WE WANT TO TALK ABOUT OUR MARRIAGE   \n",
       "448   2kyS6SvSYSE      17.16.11  WE WANT TO TALK ABOUT OUR MARRIAGE   \n",
       "689   2kyS6SvSYSE      17.17.11  WE WANT TO TALK ABOUT OUR MARRIAGE   \n",
       "924   2kyS6SvSYSE      17.18.11  WE WANT TO TALK ABOUT OUR MARRIAGE   \n",
       "1159  2kyS6SvSYSE      17.19.11  WE WANT TO TALK ABOUT OUR MARRIAGE   \n",
       "1383  2kyS6SvSYSE      17.20.11  WE WANT TO TALK ABOUT OUR MARRIAGE   \n",
       "\n",
       "     channel_title  category_id              publish_time             tags  \\\n",
       "0     CaseyNeistat           22  2017-11-13T17:13:01.000Z  SHANtell martin   \n",
       "217   CaseyNeistat           22  2017-11-13T17:13:01.000Z  SHANtell martin   \n",
       "448   CaseyNeistat           22  2017-11-13T17:13:01.000Z  SHANtell martin   \n",
       "689   CaseyNeistat           22  2017-11-13T17:13:01.000Z  SHANtell martin   \n",
       "924   CaseyNeistat           22  2017-11-13T17:13:01.000Z  SHANtell martin   \n",
       "1159  CaseyNeistat           22  2017-11-13T17:13:01.000Z  SHANtell martin   \n",
       "1383  CaseyNeistat           22  2017-11-13T17:13:01.000Z  SHANtell martin   \n",
       "\n",
       "        views  likes  dislikes  comment_count  \\\n",
       "0      748374  57527      2966          15954   \n",
       "217   2188590  88099      7150          24225   \n",
       "448   2325233  91111      7543          21450   \n",
       "689   2400741  92831      7687          21714   \n",
       "924   2468267  94303      7802          21866   \n",
       "1159  2524854  95587      7892          22038   \n",
       "1383  2564903  96321      7972          22149   \n",
       "\n",
       "                                      thumbnail_link  comments_disabled  \\\n",
       "0     https://i.ytimg.com/vi/2kyS6SvSYSE/default.jpg              False   \n",
       "217   https://i.ytimg.com/vi/2kyS6SvSYSE/default.jpg              False   \n",
       "448   https://i.ytimg.com/vi/2kyS6SvSYSE/default.jpg              False   \n",
       "689   https://i.ytimg.com/vi/2kyS6SvSYSE/default.jpg              False   \n",
       "924   https://i.ytimg.com/vi/2kyS6SvSYSE/default.jpg              False   \n",
       "1159  https://i.ytimg.com/vi/2kyS6SvSYSE/default.jpg              False   \n",
       "1383  https://i.ytimg.com/vi/2kyS6SvSYSE/default.jpg              False   \n",
       "\n",
       "      ratings_disabled  video_error_or_removed  \\\n",
       "0                False                   False   \n",
       "217              False                   False   \n",
       "448              False                   False   \n",
       "689              False                   False   \n",
       "924              False                   False   \n",
       "1159             False                   False   \n",
       "1383             False                   False   \n",
       "\n",
       "                                            description  \n",
       "0     SHANTELL'S CHANNEL - https://www.youtube.com/s...  \n",
       "217   SHANTELL'S CHANNEL - https://www.youtube.com/s...  \n",
       "448   SHANTELL'S CHANNEL - https://www.youtube.com/s...  \n",
       "689   SHANTELL'S CHANNEL - https://www.youtube.com/s...  \n",
       "924   SHANTELL'S CHANNEL - https://www.youtube.com/s...  \n",
       "1159  SHANTELL'S CHANNEL - https://www.youtube.com/s...  \n",
       "1383  SHANTELL'S CHANNEL - https://www.youtube.com/s...  "
      ]
     },
     "execution_count": 11,
     "metadata": {},
     "output_type": "execute_result"
    }
   ],
   "source": [
    "videos[videos['video_id'] == '2kyS6SvSYSE']"
   ]
  },
  {
   "cell_type": "markdown",
   "metadata": {},
   "source": [
    "- The non-duplicate rows that are of the same video vary in trending date."
   ]
  },
  {
   "cell_type": "code",
   "execution_count": 12,
   "metadata": {},
   "outputs": [
    {
     "data": {
      "text/html": [
       "<div>\n",
       "<style scoped>\n",
       "    .dataframe tbody tr th:only-of-type {\n",
       "        vertical-align: middle;\n",
       "    }\n",
       "\n",
       "    .dataframe tbody tr th {\n",
       "        vertical-align: top;\n",
       "    }\n",
       "\n",
       "    .dataframe thead th {\n",
       "        text-align: right;\n",
       "    }\n",
       "</style>\n",
       "<table border=\"1\" class=\"dataframe\">\n",
       "  <thead>\n",
       "    <tr style=\"text-align: right;\">\n",
       "      <th></th>\n",
       "      <th>category_id</th>\n",
       "      <th>category</th>\n",
       "    </tr>\n",
       "  </thead>\n",
       "  <tbody>\n",
       "    <tr>\n",
       "      <th>10</th>\n",
       "      <td>23</td>\n",
       "      <td>Comedy</td>\n",
       "    </tr>\n",
       "    <tr>\n",
       "      <th>21</th>\n",
       "      <td>34</td>\n",
       "      <td>Comedy</td>\n",
       "    </tr>\n",
       "  </tbody>\n",
       "</table>\n",
       "</div>"
      ],
      "text/plain": [
       "    category_id category\n",
       "10           23   Comedy\n",
       "21           34   Comedy"
      ]
     },
     "execution_count": 12,
     "metadata": {},
     "output_type": "execute_result"
    }
   ],
   "source": [
    "categories[categories['category'] == 'Comedy']"
   ]
  },
  {
   "cell_type": "markdown",
   "metadata": {},
   "source": [
    "<a id='assess_sum'></a>\n",
    "**Assessment summary**\n",
    "1. The `trending_date` and `publish_time` columns are strings and will need to be converted to datetime objects.\n",
    "2. The `trending_date` column is in the wrong format to be read as a datetime object.\n",
    "3. The `publish_time` column includes both date and time. In order to provide more segmented time-based analysis, date and time will be split into separate columns.\n",
    "4. There are 48 duplicate rows in the dataset. These rows will be removed.\n",
    "5. Merge the two DataFrames on `category_id`.\n",
    "6. Rename the `comment_count` column to `comments`, for consistency and ease of analysis.\n",
    "7. Tags appear as a single string in each record separated by the \"|\" character. Split each string and create an array in each cell.\n",
    "8. Of the 40K+ videos featured in the dataset, there are 6,351 unique videos. The other rows represent different dates in which the video was trending. A separate DataFrame will be created after merging the video categories in order to analyze individual videos based on the first date they were trending."
   ]
  },
  {
   "cell_type": "markdown",
   "metadata": {},
   "source": [
    "<a id='clean'></a>\n",
    "## Clean the data"
   ]
  },
  {
   "cell_type": "code",
   "execution_count": 13,
   "metadata": {},
   "outputs": [],
   "source": [
    "videos_clean = videos.copy()\n",
    "categories_clean = categories.copy()"
   ]
  },
  {
   "cell_type": "markdown",
   "metadata": {},
   "source": [
    "1. The `trending_date` and `publish_time` columns are strings and will need to be converted to datetime objects.   \n",
    "For the purposes of this analysis, I will only need to change the data types of the date and time columns.\n",
    "\n",
    "2. The `trending_date` column is in the wrong format to be read as a datetime object.   \n",
    "The `trending_date` column is currently in an unreadable date format, so I will need to get the data into a suitable format first."
   ]
  },
  {
   "cell_type": "code",
   "execution_count": 14,
   "metadata": {},
   "outputs": [
    {
     "data": {
      "text/plain": [
       "video_id                               object\n",
       "trending_date                          object\n",
       "title                                  object\n",
       "channel_title                          object\n",
       "category_id                             int64\n",
       "publish_time              datetime64[ns, UTC]\n",
       "tags                                   object\n",
       "views                                   int64\n",
       "likes                                   int64\n",
       "dislikes                                int64\n",
       "comment_count                           int64\n",
       "thumbnail_link                         object\n",
       "comments_disabled                        bool\n",
       "ratings_disabled                         bool\n",
       "video_error_or_removed                   bool\n",
       "description                            object\n",
       "dtype: object"
      ]
     },
     "execution_count": 14,
     "metadata": {},
     "output_type": "execute_result"
    }
   ],
   "source": [
    "videos_clean[\"publish_time\"] = pd.to_datetime(videos_clean[\"publish_time\"])\n",
    "videos_clean.dtypes"
   ]
  },
  {
   "cell_type": "code",
   "execution_count": 15,
   "metadata": {},
   "outputs": [
    {
     "data": {
      "text/plain": [
       "18.21.05    200\n",
       "17.28.12    200\n",
       "17.26.11    200\n",
       "18.23.05    200\n",
       "18.19.04    200\n",
       "           ... \n",
       "18.01.02    197\n",
       "18.31.01    197\n",
       "18.04.02    196\n",
       "18.02.02    196\n",
       "18.03.02    196\n",
       "Name: trending_date, Length: 205, dtype: int64"
      ]
     },
     "execution_count": 15,
     "metadata": {},
     "output_type": "execute_result"
    }
   ],
   "source": [
    "videos_clean.trending_date.value_counts()"
   ]
  },
  {
   "cell_type": "markdown",
   "metadata": {},
   "source": [
    "- By observation, all of the records are in the yy.dd.mm format, so I will parse the date this way across the entire column. "
   ]
  },
  {
   "cell_type": "code",
   "execution_count": 16,
   "metadata": {},
   "outputs": [
    {
     "data": {
      "text/plain": [
       "(Timestamp('2006-07-23 08:24:11+0000', tz='UTC'),\n",
       " Timestamp('2018-06-14 01:31:53+0000', tz='UTC'))"
      ]
     },
     "execution_count": 16,
     "metadata": {},
     "output_type": "execute_result"
    }
   ],
   "source": [
    "(videos_clean.publish_time.min(), videos_clean.publish_time.max())"
   ]
  },
  {
   "cell_type": "markdown",
   "metadata": {},
   "source": [
    "- The dataset ranges from the years 2006 to 2018, so I will concatenate \"20\" to the year of the cleaned trending date."
   ]
  },
  {
   "cell_type": "code",
   "execution_count": 17,
   "metadata": {},
   "outputs": [],
   "source": [
    "videos_clean[\"trending_date\"] = videos_clean.trending_date.str.split(\".\")"
   ]
  },
  {
   "cell_type": "code",
   "execution_count": 18,
   "metadata": {},
   "outputs": [],
   "source": [
    "date = []\n",
    "for x in videos_clean.trending_date:\n",
    "    year = \"20\" + x[0]\n",
    "    day = x[1]\n",
    "    month = x[2]\n",
    "    date.append(year + \"-\" + month + \"-\" + day)\n",
    "\n",
    "videos_clean[\"trending_date\"] = date"
   ]
  },
  {
   "cell_type": "code",
   "execution_count": 19,
   "metadata": {},
   "outputs": [],
   "source": [
    "videos_clean[\"trending_date\"] = pd.to_datetime(videos_clean[\"trending_date\"])"
   ]
  },
  {
   "cell_type": "code",
   "execution_count": 20,
   "metadata": {},
   "outputs": [
    {
     "data": {
      "text/plain": [
       "video_id                               object\n",
       "trending_date                  datetime64[ns]\n",
       "title                                  object\n",
       "channel_title                          object\n",
       "category_id                             int64\n",
       "publish_time              datetime64[ns, UTC]\n",
       "tags                                   object\n",
       "views                                   int64\n",
       "likes                                   int64\n",
       "dislikes                                int64\n",
       "comment_count                           int64\n",
       "thumbnail_link                         object\n",
       "comments_disabled                        bool\n",
       "ratings_disabled                         bool\n",
       "video_error_or_removed                   bool\n",
       "description                            object\n",
       "dtype: object"
      ]
     },
     "execution_count": 20,
     "metadata": {},
     "output_type": "execute_result"
    }
   ],
   "source": [
    "videos_clean.dtypes"
   ]
  },
  {
   "cell_type": "markdown",
   "metadata": {},
   "source": [
    "3. The `publish_time` column includes both date and time. In order to provide more segmented time-based analysis, date and time will be split into separate columns.   \n",
    "I will split the `publish_time` column to separate date and time to perform separate time series analyses."
   ]
  },
  {
   "cell_type": "code",
   "execution_count": 21,
   "metadata": {},
   "outputs": [
    {
     "data": {
      "text/html": [
       "<div>\n",
       "<style scoped>\n",
       "    .dataframe tbody tr th:only-of-type {\n",
       "        vertical-align: middle;\n",
       "    }\n",
       "\n",
       "    .dataframe tbody tr th {\n",
       "        vertical-align: top;\n",
       "    }\n",
       "\n",
       "    .dataframe thead th {\n",
       "        text-align: right;\n",
       "    }\n",
       "</style>\n",
       "<table border=\"1\" class=\"dataframe\">\n",
       "  <thead>\n",
       "    <tr style=\"text-align: right;\">\n",
       "      <th></th>\n",
       "      <th>video_id</th>\n",
       "      <th>trending_date</th>\n",
       "      <th>title</th>\n",
       "      <th>channel_title</th>\n",
       "      <th>category_id</th>\n",
       "      <th>publish_time</th>\n",
       "      <th>tags</th>\n",
       "      <th>views</th>\n",
       "      <th>likes</th>\n",
       "      <th>dislikes</th>\n",
       "      <th>comment_count</th>\n",
       "      <th>thumbnail_link</th>\n",
       "      <th>comments_disabled</th>\n",
       "      <th>ratings_disabled</th>\n",
       "      <th>video_error_or_removed</th>\n",
       "      <th>description</th>\n",
       "      <th>publish_date</th>\n",
       "      <th>publish_time_new</th>\n",
       "    </tr>\n",
       "  </thead>\n",
       "  <tbody>\n",
       "    <tr>\n",
       "      <th>0</th>\n",
       "      <td>2kyS6SvSYSE</td>\n",
       "      <td>2017-11-14</td>\n",
       "      <td>WE WANT TO TALK ABOUT OUR MARRIAGE</td>\n",
       "      <td>CaseyNeistat</td>\n",
       "      <td>22</td>\n",
       "      <td>2017-11-13 17:13:01+00:00</td>\n",
       "      <td>SHANtell martin</td>\n",
       "      <td>748374</td>\n",
       "      <td>57527</td>\n",
       "      <td>2966</td>\n",
       "      <td>15954</td>\n",
       "      <td>https://i.ytimg.com/vi/2kyS6SvSYSE/default.jpg</td>\n",
       "      <td>False</td>\n",
       "      <td>False</td>\n",
       "      <td>False</td>\n",
       "      <td>SHANTELL'S CHANNEL - https://www.youtube.com/s...</td>\n",
       "      <td>2017-11-13</td>\n",
       "      <td>17:13:01</td>\n",
       "    </tr>\n",
       "    <tr>\n",
       "      <th>1</th>\n",
       "      <td>1ZAPwfrtAFY</td>\n",
       "      <td>2017-11-14</td>\n",
       "      <td>The Trump Presidency: Last Week Tonight with J...</td>\n",
       "      <td>LastWeekTonight</td>\n",
       "      <td>24</td>\n",
       "      <td>2017-11-13 07:30:00+00:00</td>\n",
       "      <td>last week tonight trump presidency|\"last week ...</td>\n",
       "      <td>2418783</td>\n",
       "      <td>97185</td>\n",
       "      <td>6146</td>\n",
       "      <td>12703</td>\n",
       "      <td>https://i.ytimg.com/vi/1ZAPwfrtAFY/default.jpg</td>\n",
       "      <td>False</td>\n",
       "      <td>False</td>\n",
       "      <td>False</td>\n",
       "      <td>One year after the presidential election, John...</td>\n",
       "      <td>2017-11-13</td>\n",
       "      <td>07:30:00</td>\n",
       "    </tr>\n",
       "  </tbody>\n",
       "</table>\n",
       "</div>"
      ],
      "text/plain": [
       "      video_id trending_date  \\\n",
       "0  2kyS6SvSYSE    2017-11-14   \n",
       "1  1ZAPwfrtAFY    2017-11-14   \n",
       "\n",
       "                                               title    channel_title  \\\n",
       "0                 WE WANT TO TALK ABOUT OUR MARRIAGE     CaseyNeistat   \n",
       "1  The Trump Presidency: Last Week Tonight with J...  LastWeekTonight   \n",
       "\n",
       "   category_id              publish_time  \\\n",
       "0           22 2017-11-13 17:13:01+00:00   \n",
       "1           24 2017-11-13 07:30:00+00:00   \n",
       "\n",
       "                                                tags    views  likes  \\\n",
       "0                                    SHANtell martin   748374  57527   \n",
       "1  last week tonight trump presidency|\"last week ...  2418783  97185   \n",
       "\n",
       "   dislikes  comment_count                                  thumbnail_link  \\\n",
       "0      2966          15954  https://i.ytimg.com/vi/2kyS6SvSYSE/default.jpg   \n",
       "1      6146          12703  https://i.ytimg.com/vi/1ZAPwfrtAFY/default.jpg   \n",
       "\n",
       "   comments_disabled  ratings_disabled  video_error_or_removed  \\\n",
       "0              False             False                   False   \n",
       "1              False             False                   False   \n",
       "\n",
       "                                         description publish_date  \\\n",
       "0  SHANTELL'S CHANNEL - https://www.youtube.com/s...   2017-11-13   \n",
       "1  One year after the presidential election, John...   2017-11-13   \n",
       "\n",
       "  publish_time_new  \n",
       "0         17:13:01  \n",
       "1         07:30:00  "
      ]
     },
     "execution_count": 21,
     "metadata": {},
     "output_type": "execute_result"
    }
   ],
   "source": [
    "videos_clean['publish_date'] = videos_clean['publish_time'].dt.date\n",
    "videos_clean['publish_time_new'] = videos_clean['publish_time'].dt.time\n",
    "videos_clean.head(2)"
   ]
  },
  {
   "cell_type": "code",
   "execution_count": 22,
   "metadata": {},
   "outputs": [
    {
     "data": {
      "text/plain": [
       "video_id                               object\n",
       "trending_date                  datetime64[ns]\n",
       "title                                  object\n",
       "channel_title                          object\n",
       "category_id                             int64\n",
       "publish_time              datetime64[ns, UTC]\n",
       "tags                                   object\n",
       "views                                   int64\n",
       "likes                                   int64\n",
       "dislikes                                int64\n",
       "comment_count                           int64\n",
       "thumbnail_link                         object\n",
       "comments_disabled                        bool\n",
       "ratings_disabled                         bool\n",
       "video_error_or_removed                   bool\n",
       "description                            object\n",
       "publish_date                           object\n",
       "publish_time_new                       object\n",
       "dtype: object"
      ]
     },
     "execution_count": 22,
     "metadata": {},
     "output_type": "execute_result"
    }
   ],
   "source": [
    "videos_clean.dtypes"
   ]
  },
  {
   "cell_type": "code",
   "execution_count": 23,
   "metadata": {},
   "outputs": [
    {
     "data": {
      "text/plain": [
       "14:00:03    250\n",
       "16:00:03    224\n",
       "14:00:04    215\n",
       "14:00:01    213\n",
       "05:00:01    210\n",
       "           ... \n",
       "14:02:05      1\n",
       "12:55:39      1\n",
       "20:33:38      1\n",
       "18:46:37      1\n",
       "03:56:23      1\n",
       "Name: publish_time_new, Length: 4478, dtype: int64"
      ]
     },
     "execution_count": 23,
     "metadata": {},
     "output_type": "execute_result"
    }
   ],
   "source": [
    "videos_clean.publish_time_new.value_counts()"
   ]
  },
  {
   "cell_type": "markdown",
   "metadata": {},
   "source": [
    "- Drop the original `publish_time` column and rename the new time column"
   ]
  },
  {
   "cell_type": "code",
   "execution_count": 24,
   "metadata": {},
   "outputs": [
    {
     "data": {
      "text/html": [
       "<div>\n",
       "<style scoped>\n",
       "    .dataframe tbody tr th:only-of-type {\n",
       "        vertical-align: middle;\n",
       "    }\n",
       "\n",
       "    .dataframe tbody tr th {\n",
       "        vertical-align: top;\n",
       "    }\n",
       "\n",
       "    .dataframe thead th {\n",
       "        text-align: right;\n",
       "    }\n",
       "</style>\n",
       "<table border=\"1\" class=\"dataframe\">\n",
       "  <thead>\n",
       "    <tr style=\"text-align: right;\">\n",
       "      <th></th>\n",
       "      <th>video_id</th>\n",
       "      <th>trending_date</th>\n",
       "      <th>title</th>\n",
       "      <th>channel_title</th>\n",
       "      <th>category_id</th>\n",
       "      <th>tags</th>\n",
       "      <th>views</th>\n",
       "      <th>likes</th>\n",
       "      <th>dislikes</th>\n",
       "      <th>comment_count</th>\n",
       "      <th>thumbnail_link</th>\n",
       "      <th>comments_disabled</th>\n",
       "      <th>ratings_disabled</th>\n",
       "      <th>video_error_or_removed</th>\n",
       "      <th>description</th>\n",
       "      <th>publish_date</th>\n",
       "      <th>publish_time</th>\n",
       "    </tr>\n",
       "  </thead>\n",
       "  <tbody>\n",
       "    <tr>\n",
       "      <th>0</th>\n",
       "      <td>2kyS6SvSYSE</td>\n",
       "      <td>2017-11-14</td>\n",
       "      <td>WE WANT TO TALK ABOUT OUR MARRIAGE</td>\n",
       "      <td>CaseyNeistat</td>\n",
       "      <td>22</td>\n",
       "      <td>SHANtell martin</td>\n",
       "      <td>748374</td>\n",
       "      <td>57527</td>\n",
       "      <td>2966</td>\n",
       "      <td>15954</td>\n",
       "      <td>https://i.ytimg.com/vi/2kyS6SvSYSE/default.jpg</td>\n",
       "      <td>False</td>\n",
       "      <td>False</td>\n",
       "      <td>False</td>\n",
       "      <td>SHANTELL'S CHANNEL - https://www.youtube.com/s...</td>\n",
       "      <td>2017-11-13</td>\n",
       "      <td>17:13:01</td>\n",
       "    </tr>\n",
       "    <tr>\n",
       "      <th>1</th>\n",
       "      <td>1ZAPwfrtAFY</td>\n",
       "      <td>2017-11-14</td>\n",
       "      <td>The Trump Presidency: Last Week Tonight with J...</td>\n",
       "      <td>LastWeekTonight</td>\n",
       "      <td>24</td>\n",
       "      <td>last week tonight trump presidency|\"last week ...</td>\n",
       "      <td>2418783</td>\n",
       "      <td>97185</td>\n",
       "      <td>6146</td>\n",
       "      <td>12703</td>\n",
       "      <td>https://i.ytimg.com/vi/1ZAPwfrtAFY/default.jpg</td>\n",
       "      <td>False</td>\n",
       "      <td>False</td>\n",
       "      <td>False</td>\n",
       "      <td>One year after the presidential election, John...</td>\n",
       "      <td>2017-11-13</td>\n",
       "      <td>07:30:00</td>\n",
       "    </tr>\n",
       "  </tbody>\n",
       "</table>\n",
       "</div>"
      ],
      "text/plain": [
       "      video_id trending_date  \\\n",
       "0  2kyS6SvSYSE    2017-11-14   \n",
       "1  1ZAPwfrtAFY    2017-11-14   \n",
       "\n",
       "                                               title    channel_title  \\\n",
       "0                 WE WANT TO TALK ABOUT OUR MARRIAGE     CaseyNeistat   \n",
       "1  The Trump Presidency: Last Week Tonight with J...  LastWeekTonight   \n",
       "\n",
       "   category_id                                               tags    views  \\\n",
       "0           22                                    SHANtell martin   748374   \n",
       "1           24  last week tonight trump presidency|\"last week ...  2418783   \n",
       "\n",
       "   likes  dislikes  comment_count  \\\n",
       "0  57527      2966          15954   \n",
       "1  97185      6146          12703   \n",
       "\n",
       "                                   thumbnail_link  comments_disabled  \\\n",
       "0  https://i.ytimg.com/vi/2kyS6SvSYSE/default.jpg              False   \n",
       "1  https://i.ytimg.com/vi/1ZAPwfrtAFY/default.jpg              False   \n",
       "\n",
       "   ratings_disabled  video_error_or_removed  \\\n",
       "0             False                   False   \n",
       "1             False                   False   \n",
       "\n",
       "                                         description publish_date publish_time  \n",
       "0  SHANTELL'S CHANNEL - https://www.youtube.com/s...   2017-11-13     17:13:01  \n",
       "1  One year after the presidential election, John...   2017-11-13     07:30:00  "
      ]
     },
     "execution_count": 24,
     "metadata": {},
     "output_type": "execute_result"
    }
   ],
   "source": [
    "videos_clean = videos_clean.drop(columns='publish_time', axis=1)\n",
    "videos_clean = videos_clean.rename(columns={'publish_time_new': 'publish_time'})\n",
    "videos_clean.head(2)"
   ]
  },
  {
   "cell_type": "markdown",
   "metadata": {},
   "source": [
    "4. There are 48 duplicate rows in the dataset. These rows will be removed.   \n",
    "This will be done using the `.drop_duplicates()` method."
   ]
  },
  {
   "cell_type": "code",
   "execution_count": 25,
   "metadata": {},
   "outputs": [
    {
     "data": {
      "text/plain": [
       "(40901, 17)"
      ]
     },
     "execution_count": 25,
     "metadata": {},
     "output_type": "execute_result"
    }
   ],
   "source": [
    "videos_clean = videos_clean.drop_duplicates()\n",
    "videos_clean.shape"
   ]
  },
  {
   "cell_type": "code",
   "execution_count": 26,
   "metadata": {},
   "outputs": [
    {
     "data": {
      "text/plain": [
       "0"
      ]
     },
     "execution_count": 26,
     "metadata": {},
     "output_type": "execute_result"
    }
   ],
   "source": [
    "videos_clean.duplicated().sum()"
   ]
  },
  {
   "cell_type": "markdown",
   "metadata": {},
   "source": [
    "5. Merge the two DataFrames on `category_id`."
   ]
  },
  {
   "cell_type": "code",
   "execution_count": 27,
   "metadata": {},
   "outputs": [
    {
     "data": {
      "text/html": [
       "<div>\n",
       "<style scoped>\n",
       "    .dataframe tbody tr th:only-of-type {\n",
       "        vertical-align: middle;\n",
       "    }\n",
       "\n",
       "    .dataframe tbody tr th {\n",
       "        vertical-align: top;\n",
       "    }\n",
       "\n",
       "    .dataframe thead th {\n",
       "        text-align: right;\n",
       "    }\n",
       "</style>\n",
       "<table border=\"1\" class=\"dataframe\">\n",
       "  <thead>\n",
       "    <tr style=\"text-align: right;\">\n",
       "      <th></th>\n",
       "      <th>video_id</th>\n",
       "      <th>trending_date</th>\n",
       "      <th>title</th>\n",
       "      <th>channel_title</th>\n",
       "      <th>category_id</th>\n",
       "      <th>tags</th>\n",
       "      <th>views</th>\n",
       "      <th>likes</th>\n",
       "      <th>dislikes</th>\n",
       "      <th>comment_count</th>\n",
       "      <th>thumbnail_link</th>\n",
       "      <th>comments_disabled</th>\n",
       "      <th>ratings_disabled</th>\n",
       "      <th>video_error_or_removed</th>\n",
       "      <th>description</th>\n",
       "      <th>publish_date</th>\n",
       "      <th>publish_time</th>\n",
       "      <th>category</th>\n",
       "    </tr>\n",
       "  </thead>\n",
       "  <tbody>\n",
       "    <tr>\n",
       "      <th>0</th>\n",
       "      <td>2kyS6SvSYSE</td>\n",
       "      <td>2017-11-14</td>\n",
       "      <td>WE WANT TO TALK ABOUT OUR MARRIAGE</td>\n",
       "      <td>CaseyNeistat</td>\n",
       "      <td>22</td>\n",
       "      <td>SHANtell martin</td>\n",
       "      <td>748374</td>\n",
       "      <td>57527</td>\n",
       "      <td>2966</td>\n",
       "      <td>15954</td>\n",
       "      <td>https://i.ytimg.com/vi/2kyS6SvSYSE/default.jpg</td>\n",
       "      <td>False</td>\n",
       "      <td>False</td>\n",
       "      <td>False</td>\n",
       "      <td>SHANTELL'S CHANNEL - https://www.youtube.com/s...</td>\n",
       "      <td>2017-11-13</td>\n",
       "      <td>17:13:01</td>\n",
       "      <td>People &amp; Blogs</td>\n",
       "    </tr>\n",
       "    <tr>\n",
       "      <th>1</th>\n",
       "      <td>1ZAPwfrtAFY</td>\n",
       "      <td>2017-11-14</td>\n",
       "      <td>The Trump Presidency: Last Week Tonight with J...</td>\n",
       "      <td>LastWeekTonight</td>\n",
       "      <td>24</td>\n",
       "      <td>last week tonight trump presidency|\"last week ...</td>\n",
       "      <td>2418783</td>\n",
       "      <td>97185</td>\n",
       "      <td>6146</td>\n",
       "      <td>12703</td>\n",
       "      <td>https://i.ytimg.com/vi/1ZAPwfrtAFY/default.jpg</td>\n",
       "      <td>False</td>\n",
       "      <td>False</td>\n",
       "      <td>False</td>\n",
       "      <td>One year after the presidential election, John...</td>\n",
       "      <td>2017-11-13</td>\n",
       "      <td>07:30:00</td>\n",
       "      <td>Entertainment</td>\n",
       "    </tr>\n",
       "    <tr>\n",
       "      <th>2</th>\n",
       "      <td>5qpjK5DgCt4</td>\n",
       "      <td>2017-11-14</td>\n",
       "      <td>Racist Superman | Rudy Mancuso, King Bach &amp; Le...</td>\n",
       "      <td>Rudy Mancuso</td>\n",
       "      <td>23</td>\n",
       "      <td>racist superman|\"rudy\"|\"mancuso\"|\"king\"|\"bach\"...</td>\n",
       "      <td>3191434</td>\n",
       "      <td>146033</td>\n",
       "      <td>5339</td>\n",
       "      <td>8181</td>\n",
       "      <td>https://i.ytimg.com/vi/5qpjK5DgCt4/default.jpg</td>\n",
       "      <td>False</td>\n",
       "      <td>False</td>\n",
       "      <td>False</td>\n",
       "      <td>WATCH MY PREVIOUS VIDEO ▶ \\n\\nSUBSCRIBE ► http...</td>\n",
       "      <td>2017-11-12</td>\n",
       "      <td>19:05:24</td>\n",
       "      <td>Comedy</td>\n",
       "    </tr>\n",
       "    <tr>\n",
       "      <th>3</th>\n",
       "      <td>puqaWrEC7tY</td>\n",
       "      <td>2017-11-14</td>\n",
       "      <td>Nickelback Lyrics: Real or Fake?</td>\n",
       "      <td>Good Mythical Morning</td>\n",
       "      <td>24</td>\n",
       "      <td>rhett and link|\"gmm\"|\"good mythical morning\"|\"...</td>\n",
       "      <td>343168</td>\n",
       "      <td>10172</td>\n",
       "      <td>666</td>\n",
       "      <td>2146</td>\n",
       "      <td>https://i.ytimg.com/vi/puqaWrEC7tY/default.jpg</td>\n",
       "      <td>False</td>\n",
       "      <td>False</td>\n",
       "      <td>False</td>\n",
       "      <td>Today we find out if Link is a Nickelback amat...</td>\n",
       "      <td>2017-11-13</td>\n",
       "      <td>11:00:04</td>\n",
       "      <td>Entertainment</td>\n",
       "    </tr>\n",
       "    <tr>\n",
       "      <th>4</th>\n",
       "      <td>d380meD0W0M</td>\n",
       "      <td>2017-11-14</td>\n",
       "      <td>I Dare You: GOING BALD!?</td>\n",
       "      <td>nigahiga</td>\n",
       "      <td>24</td>\n",
       "      <td>ryan|\"higa\"|\"higatv\"|\"nigahiga\"|\"i dare you\"|\"...</td>\n",
       "      <td>2095731</td>\n",
       "      <td>132235</td>\n",
       "      <td>1989</td>\n",
       "      <td>17518</td>\n",
       "      <td>https://i.ytimg.com/vi/d380meD0W0M/default.jpg</td>\n",
       "      <td>False</td>\n",
       "      <td>False</td>\n",
       "      <td>False</td>\n",
       "      <td>I know it's been a while since we did this sho...</td>\n",
       "      <td>2017-11-12</td>\n",
       "      <td>18:01:41</td>\n",
       "      <td>Entertainment</td>\n",
       "    </tr>\n",
       "  </tbody>\n",
       "</table>\n",
       "</div>"
      ],
      "text/plain": [
       "      video_id trending_date  \\\n",
       "0  2kyS6SvSYSE    2017-11-14   \n",
       "1  1ZAPwfrtAFY    2017-11-14   \n",
       "2  5qpjK5DgCt4    2017-11-14   \n",
       "3  puqaWrEC7tY    2017-11-14   \n",
       "4  d380meD0W0M    2017-11-14   \n",
       "\n",
       "                                               title          channel_title  \\\n",
       "0                 WE WANT TO TALK ABOUT OUR MARRIAGE           CaseyNeistat   \n",
       "1  The Trump Presidency: Last Week Tonight with J...        LastWeekTonight   \n",
       "2  Racist Superman | Rudy Mancuso, King Bach & Le...           Rudy Mancuso   \n",
       "3                   Nickelback Lyrics: Real or Fake?  Good Mythical Morning   \n",
       "4                           I Dare You: GOING BALD!?               nigahiga   \n",
       "\n",
       "   category_id                                               tags    views  \\\n",
       "0           22                                    SHANtell martin   748374   \n",
       "1           24  last week tonight trump presidency|\"last week ...  2418783   \n",
       "2           23  racist superman|\"rudy\"|\"mancuso\"|\"king\"|\"bach\"...  3191434   \n",
       "3           24  rhett and link|\"gmm\"|\"good mythical morning\"|\"...   343168   \n",
       "4           24  ryan|\"higa\"|\"higatv\"|\"nigahiga\"|\"i dare you\"|\"...  2095731   \n",
       "\n",
       "    likes  dislikes  comment_count  \\\n",
       "0   57527      2966          15954   \n",
       "1   97185      6146          12703   \n",
       "2  146033      5339           8181   \n",
       "3   10172       666           2146   \n",
       "4  132235      1989          17518   \n",
       "\n",
       "                                   thumbnail_link  comments_disabled  \\\n",
       "0  https://i.ytimg.com/vi/2kyS6SvSYSE/default.jpg              False   \n",
       "1  https://i.ytimg.com/vi/1ZAPwfrtAFY/default.jpg              False   \n",
       "2  https://i.ytimg.com/vi/5qpjK5DgCt4/default.jpg              False   \n",
       "3  https://i.ytimg.com/vi/puqaWrEC7tY/default.jpg              False   \n",
       "4  https://i.ytimg.com/vi/d380meD0W0M/default.jpg              False   \n",
       "\n",
       "   ratings_disabled  video_error_or_removed  \\\n",
       "0             False                   False   \n",
       "1             False                   False   \n",
       "2             False                   False   \n",
       "3             False                   False   \n",
       "4             False                   False   \n",
       "\n",
       "                                         description publish_date  \\\n",
       "0  SHANTELL'S CHANNEL - https://www.youtube.com/s...   2017-11-13   \n",
       "1  One year after the presidential election, John...   2017-11-13   \n",
       "2  WATCH MY PREVIOUS VIDEO ▶ \\n\\nSUBSCRIBE ► http...   2017-11-12   \n",
       "3  Today we find out if Link is a Nickelback amat...   2017-11-13   \n",
       "4  I know it's been a while since we did this sho...   2017-11-12   \n",
       "\n",
       "  publish_time        category  \n",
       "0     17:13:01  People & Blogs  \n",
       "1     07:30:00   Entertainment  \n",
       "2     19:05:24          Comedy  \n",
       "3     11:00:04   Entertainment  \n",
       "4     18:01:41   Entertainment  "
      ]
     },
     "execution_count": 27,
     "metadata": {},
     "output_type": "execute_result"
    }
   ],
   "source": [
    "# Merge DataFrames\n",
    "df = videos_clean.merge(categories_clean, on='category_id', how='left')\n",
    "df.head()"
   ]
  },
  {
   "cell_type": "code",
   "execution_count": 28,
   "metadata": {},
   "outputs": [
    {
     "data": {
      "text/plain": [
       "(40901, 18)"
      ]
     },
     "execution_count": 28,
     "metadata": {},
     "output_type": "execute_result"
    }
   ],
   "source": [
    "df.shape"
   ]
  },
  {
   "cell_type": "code",
   "execution_count": 29,
   "metadata": {},
   "outputs": [
    {
     "data": {
      "text/plain": [
       "video_id                    0\n",
       "trending_date               0\n",
       "title                       0\n",
       "channel_title               0\n",
       "category_id                 0\n",
       "tags                        0\n",
       "views                       0\n",
       "likes                       0\n",
       "dislikes                    0\n",
       "comment_count               0\n",
       "thumbnail_link              0\n",
       "comments_disabled           0\n",
       "ratings_disabled            0\n",
       "video_error_or_removed      0\n",
       "description               569\n",
       "publish_date                0\n",
       "publish_time                0\n",
       "category                    0\n",
       "dtype: int64"
      ]
     },
     "execution_count": 29,
     "metadata": {},
     "output_type": "execute_result"
    }
   ],
   "source": [
    "df.isna().sum()"
   ]
  },
  {
   "cell_type": "markdown",
   "metadata": {},
   "source": [
    "- There were no NaN values created in the `category` column as a result of the left join, so all videos were classified appropriately. Only one 'Comedy' category was needed."
   ]
  },
  {
   "cell_type": "markdown",
   "metadata": {},
   "source": [
    "6. Rename the `comment_count` column to `columns`, for consistency and ease of analysis.\n",
    "I am also going to rename the \"comment_count\" column to \"comments\", just for my own sanity."
   ]
  },
  {
   "cell_type": "code",
   "execution_count": 30,
   "metadata": {},
   "outputs": [
    {
     "data": {
      "text/html": [
       "<div>\n",
       "<style scoped>\n",
       "    .dataframe tbody tr th:only-of-type {\n",
       "        vertical-align: middle;\n",
       "    }\n",
       "\n",
       "    .dataframe tbody tr th {\n",
       "        vertical-align: top;\n",
       "    }\n",
       "\n",
       "    .dataframe thead th {\n",
       "        text-align: right;\n",
       "    }\n",
       "</style>\n",
       "<table border=\"1\" class=\"dataframe\">\n",
       "  <thead>\n",
       "    <tr style=\"text-align: right;\">\n",
       "      <th></th>\n",
       "      <th>video_id</th>\n",
       "      <th>trending_date</th>\n",
       "      <th>title</th>\n",
       "      <th>channel_title</th>\n",
       "      <th>category_id</th>\n",
       "      <th>tags</th>\n",
       "      <th>views</th>\n",
       "      <th>likes</th>\n",
       "      <th>dislikes</th>\n",
       "      <th>comments</th>\n",
       "      <th>thumbnail_link</th>\n",
       "      <th>comments_disabled</th>\n",
       "      <th>ratings_disabled</th>\n",
       "      <th>video_error_or_removed</th>\n",
       "      <th>description</th>\n",
       "      <th>publish_date</th>\n",
       "      <th>publish_time</th>\n",
       "      <th>category</th>\n",
       "    </tr>\n",
       "  </thead>\n",
       "  <tbody>\n",
       "    <tr>\n",
       "      <th>0</th>\n",
       "      <td>2kyS6SvSYSE</td>\n",
       "      <td>2017-11-14</td>\n",
       "      <td>WE WANT TO TALK ABOUT OUR MARRIAGE</td>\n",
       "      <td>CaseyNeistat</td>\n",
       "      <td>22</td>\n",
       "      <td>SHANtell martin</td>\n",
       "      <td>748374</td>\n",
       "      <td>57527</td>\n",
       "      <td>2966</td>\n",
       "      <td>15954</td>\n",
       "      <td>https://i.ytimg.com/vi/2kyS6SvSYSE/default.jpg</td>\n",
       "      <td>False</td>\n",
       "      <td>False</td>\n",
       "      <td>False</td>\n",
       "      <td>SHANTELL'S CHANNEL - https://www.youtube.com/s...</td>\n",
       "      <td>2017-11-13</td>\n",
       "      <td>17:13:01</td>\n",
       "      <td>People &amp; Blogs</td>\n",
       "    </tr>\n",
       "    <tr>\n",
       "      <th>1</th>\n",
       "      <td>1ZAPwfrtAFY</td>\n",
       "      <td>2017-11-14</td>\n",
       "      <td>The Trump Presidency: Last Week Tonight with J...</td>\n",
       "      <td>LastWeekTonight</td>\n",
       "      <td>24</td>\n",
       "      <td>last week tonight trump presidency|\"last week ...</td>\n",
       "      <td>2418783</td>\n",
       "      <td>97185</td>\n",
       "      <td>6146</td>\n",
       "      <td>12703</td>\n",
       "      <td>https://i.ytimg.com/vi/1ZAPwfrtAFY/default.jpg</td>\n",
       "      <td>False</td>\n",
       "      <td>False</td>\n",
       "      <td>False</td>\n",
       "      <td>One year after the presidential election, John...</td>\n",
       "      <td>2017-11-13</td>\n",
       "      <td>07:30:00</td>\n",
       "      <td>Entertainment</td>\n",
       "    </tr>\n",
       "    <tr>\n",
       "      <th>2</th>\n",
       "      <td>5qpjK5DgCt4</td>\n",
       "      <td>2017-11-14</td>\n",
       "      <td>Racist Superman | Rudy Mancuso, King Bach &amp; Le...</td>\n",
       "      <td>Rudy Mancuso</td>\n",
       "      <td>23</td>\n",
       "      <td>racist superman|\"rudy\"|\"mancuso\"|\"king\"|\"bach\"...</td>\n",
       "      <td>3191434</td>\n",
       "      <td>146033</td>\n",
       "      <td>5339</td>\n",
       "      <td>8181</td>\n",
       "      <td>https://i.ytimg.com/vi/5qpjK5DgCt4/default.jpg</td>\n",
       "      <td>False</td>\n",
       "      <td>False</td>\n",
       "      <td>False</td>\n",
       "      <td>WATCH MY PREVIOUS VIDEO ▶ \\n\\nSUBSCRIBE ► http...</td>\n",
       "      <td>2017-11-12</td>\n",
       "      <td>19:05:24</td>\n",
       "      <td>Comedy</td>\n",
       "    </tr>\n",
       "    <tr>\n",
       "      <th>3</th>\n",
       "      <td>puqaWrEC7tY</td>\n",
       "      <td>2017-11-14</td>\n",
       "      <td>Nickelback Lyrics: Real or Fake?</td>\n",
       "      <td>Good Mythical Morning</td>\n",
       "      <td>24</td>\n",
       "      <td>rhett and link|\"gmm\"|\"good mythical morning\"|\"...</td>\n",
       "      <td>343168</td>\n",
       "      <td>10172</td>\n",
       "      <td>666</td>\n",
       "      <td>2146</td>\n",
       "      <td>https://i.ytimg.com/vi/puqaWrEC7tY/default.jpg</td>\n",
       "      <td>False</td>\n",
       "      <td>False</td>\n",
       "      <td>False</td>\n",
       "      <td>Today we find out if Link is a Nickelback amat...</td>\n",
       "      <td>2017-11-13</td>\n",
       "      <td>11:00:04</td>\n",
       "      <td>Entertainment</td>\n",
       "    </tr>\n",
       "    <tr>\n",
       "      <th>4</th>\n",
       "      <td>d380meD0W0M</td>\n",
       "      <td>2017-11-14</td>\n",
       "      <td>I Dare You: GOING BALD!?</td>\n",
       "      <td>nigahiga</td>\n",
       "      <td>24</td>\n",
       "      <td>ryan|\"higa\"|\"higatv\"|\"nigahiga\"|\"i dare you\"|\"...</td>\n",
       "      <td>2095731</td>\n",
       "      <td>132235</td>\n",
       "      <td>1989</td>\n",
       "      <td>17518</td>\n",
       "      <td>https://i.ytimg.com/vi/d380meD0W0M/default.jpg</td>\n",
       "      <td>False</td>\n",
       "      <td>False</td>\n",
       "      <td>False</td>\n",
       "      <td>I know it's been a while since we did this sho...</td>\n",
       "      <td>2017-11-12</td>\n",
       "      <td>18:01:41</td>\n",
       "      <td>Entertainment</td>\n",
       "    </tr>\n",
       "  </tbody>\n",
       "</table>\n",
       "</div>"
      ],
      "text/plain": [
       "      video_id trending_date  \\\n",
       "0  2kyS6SvSYSE    2017-11-14   \n",
       "1  1ZAPwfrtAFY    2017-11-14   \n",
       "2  5qpjK5DgCt4    2017-11-14   \n",
       "3  puqaWrEC7tY    2017-11-14   \n",
       "4  d380meD0W0M    2017-11-14   \n",
       "\n",
       "                                               title          channel_title  \\\n",
       "0                 WE WANT TO TALK ABOUT OUR MARRIAGE           CaseyNeistat   \n",
       "1  The Trump Presidency: Last Week Tonight with J...        LastWeekTonight   \n",
       "2  Racist Superman | Rudy Mancuso, King Bach & Le...           Rudy Mancuso   \n",
       "3                   Nickelback Lyrics: Real or Fake?  Good Mythical Morning   \n",
       "4                           I Dare You: GOING BALD!?               nigahiga   \n",
       "\n",
       "   category_id                                               tags    views  \\\n",
       "0           22                                    SHANtell martin   748374   \n",
       "1           24  last week tonight trump presidency|\"last week ...  2418783   \n",
       "2           23  racist superman|\"rudy\"|\"mancuso\"|\"king\"|\"bach\"...  3191434   \n",
       "3           24  rhett and link|\"gmm\"|\"good mythical morning\"|\"...   343168   \n",
       "4           24  ryan|\"higa\"|\"higatv\"|\"nigahiga\"|\"i dare you\"|\"...  2095731   \n",
       "\n",
       "    likes  dislikes  comments                                  thumbnail_link  \\\n",
       "0   57527      2966     15954  https://i.ytimg.com/vi/2kyS6SvSYSE/default.jpg   \n",
       "1   97185      6146     12703  https://i.ytimg.com/vi/1ZAPwfrtAFY/default.jpg   \n",
       "2  146033      5339      8181  https://i.ytimg.com/vi/5qpjK5DgCt4/default.jpg   \n",
       "3   10172       666      2146  https://i.ytimg.com/vi/puqaWrEC7tY/default.jpg   \n",
       "4  132235      1989     17518  https://i.ytimg.com/vi/d380meD0W0M/default.jpg   \n",
       "\n",
       "   comments_disabled  ratings_disabled  video_error_or_removed  \\\n",
       "0              False             False                   False   \n",
       "1              False             False                   False   \n",
       "2              False             False                   False   \n",
       "3              False             False                   False   \n",
       "4              False             False                   False   \n",
       "\n",
       "                                         description publish_date  \\\n",
       "0  SHANTELL'S CHANNEL - https://www.youtube.com/s...   2017-11-13   \n",
       "1  One year after the presidential election, John...   2017-11-13   \n",
       "2  WATCH MY PREVIOUS VIDEO ▶ \\n\\nSUBSCRIBE ► http...   2017-11-12   \n",
       "3  Today we find out if Link is a Nickelback amat...   2017-11-13   \n",
       "4  I know it's been a while since we did this sho...   2017-11-12   \n",
       "\n",
       "  publish_time        category  \n",
       "0     17:13:01  People & Blogs  \n",
       "1     07:30:00   Entertainment  \n",
       "2     19:05:24          Comedy  \n",
       "3     11:00:04   Entertainment  \n",
       "4     18:01:41   Entertainment  "
      ]
     },
     "execution_count": 30,
     "metadata": {},
     "output_type": "execute_result"
    }
   ],
   "source": [
    "df = df.rename(columns={\"comment_count\": \"comments\"})\n",
    "df.head()"
   ]
  },
  {
   "cell_type": "markdown",
   "metadata": {},
   "source": [
    "7. Tags appear as a single string in each record separated by the \"|\" character. Split each string and create an array in each cell.\n",
    "\n",
    "Steps:\n",
    "- Remove quotation marks from tags that have it.\n",
    "- Strip beginning and trailing whitespace.\n",
    "- Split each tag using the delimiter '|'."
   ]
  },
  {
   "cell_type": "code",
   "execution_count": 31,
   "metadata": {},
   "outputs": [],
   "source": [
    "df['tags'] = df['tags'].str.replace('\"', '').str.strip().str.split('|')"
   ]
  },
  {
   "cell_type": "code",
   "execution_count": 32,
   "metadata": {},
   "outputs": [
    {
     "data": {
      "text/plain": [
       "0                                        [SHANtell martin]\n",
       "1        [last week tonight trump presidency, last week...\n",
       "2        [racist superman, rudy, mancuso, king, bach, r...\n",
       "3        [rhett and link, gmm, good mythical morning, r...\n",
       "4        [ryan, higa, higatv, nigahiga, i dare you, idy...\n",
       "                               ...                        \n",
       "40896    [aarons animals, aarons, animals, cat, cats, k...\n",
       "40897                                             [[none]]\n",
       "40898    [I gave safiya nygaard a perfect hair makeover...\n",
       "40899    [Black Panther, HISHE, Marvel, Infinity War, H...\n",
       "40900         [call of duty, cod, activision, Black Ops 4]\n",
       "Name: tags, Length: 40901, dtype: object"
      ]
     },
     "execution_count": 32,
     "metadata": {},
     "output_type": "execute_result"
    }
   ],
   "source": [
    "df.tags"
   ]
  },
  {
   "cell_type": "markdown",
   "metadata": {},
   "source": [
    "8. Of the 40K+ videos featured in the dataset, there are 6,351 unique videos. The other rows represent different dates in which the video was trending. A separate DataFrame will be created after merging the video categories in order to analyze individual videos based on the first date they were trending. <br>\n",
    "I will need to find the `video_id` of all videos that trended on multiple days, find the day they were first trending, and create a DataFrame comprised of individual videos with the `trending_date` and associated stats of the day they first appeared in the trending section."
   ]
  },
  {
   "cell_type": "code",
   "execution_count": 33,
   "metadata": {},
   "outputs": [
    {
     "data": {
      "text/plain": [
       "j4KvrAUjn6c    29\n",
       "8h--kFui1JA    29\n",
       "6S9c5nnDd_s    28\n",
       "QBL8IRJ5yHU    28\n",
       "MAjY8mCTXWk    28\n",
       "               ..\n",
       "pi0ePRY7TSc     1\n",
       "qgTtyfgzGc0     1\n",
       "s7JiyWfGIh8     1\n",
       "0-_h-qFt_zs     1\n",
       "BSHh0MmJM1U     1\n",
       "Name: video_id, Length: 6351, dtype: int64"
      ]
     },
     "execution_count": 33,
     "metadata": {},
     "output_type": "execute_result"
    }
   ],
   "source": [
    "df.video_id.value_counts()"
   ]
  },
  {
   "cell_type": "markdown",
   "metadata": {},
   "source": [
    "- The new DataFrame must filter out the duplicate videos, leaving only the row of the first trending date."
   ]
  },
  {
   "cell_type": "code",
   "execution_count": 34,
   "metadata": {},
   "outputs": [
    {
     "data": {
      "text/plain": [
       "(6351, 18)"
      ]
     },
     "execution_count": 34,
     "metadata": {},
     "output_type": "execute_result"
    }
   ],
   "source": [
    "first = df.sort_values('trending_date').drop_duplicates('video_id', keep='first')\n",
    "first.shape"
   ]
  },
  {
   "cell_type": "code",
   "execution_count": 35,
   "metadata": {},
   "outputs": [
    {
     "data": {
      "text/html": [
       "<div>\n",
       "<style scoped>\n",
       "    .dataframe tbody tr th:only-of-type {\n",
       "        vertical-align: middle;\n",
       "    }\n",
       "\n",
       "    .dataframe tbody tr th {\n",
       "        vertical-align: top;\n",
       "    }\n",
       "\n",
       "    .dataframe thead th {\n",
       "        text-align: right;\n",
       "    }\n",
       "</style>\n",
       "<table border=\"1\" class=\"dataframe\">\n",
       "  <thead>\n",
       "    <tr style=\"text-align: right;\">\n",
       "      <th></th>\n",
       "      <th>video_id</th>\n",
       "      <th>trending_date</th>\n",
       "      <th>title</th>\n",
       "      <th>channel_title</th>\n",
       "      <th>category_id</th>\n",
       "      <th>tags</th>\n",
       "      <th>views</th>\n",
       "      <th>likes</th>\n",
       "      <th>dislikes</th>\n",
       "      <th>comments</th>\n",
       "      <th>thumbnail_link</th>\n",
       "      <th>comments_disabled</th>\n",
       "      <th>ratings_disabled</th>\n",
       "      <th>video_error_or_removed</th>\n",
       "      <th>description</th>\n",
       "      <th>publish_date</th>\n",
       "      <th>publish_time</th>\n",
       "      <th>category</th>\n",
       "    </tr>\n",
       "  </thead>\n",
       "  <tbody>\n",
       "    <tr>\n",
       "      <th>39121</th>\n",
       "      <td>-0CMnp02rNY</td>\n",
       "      <td>2018-06-06</td>\n",
       "      <td>Mindy Kaling's Daughter Had the Perfect Reacti...</td>\n",
       "      <td>TheEllenShow</td>\n",
       "      <td>24</td>\n",
       "      <td>[ellen, ellen degeneres, the ellen show, ellen...</td>\n",
       "      <td>475965</td>\n",
       "      <td>6531</td>\n",
       "      <td>172</td>\n",
       "      <td>271</td>\n",
       "      <td>https://i.ytimg.com/vi/-0CMnp02rNY/default.jpg</td>\n",
       "      <td>False</td>\n",
       "      <td>False</td>\n",
       "      <td>False</td>\n",
       "      <td>Ocean's 8 star Mindy Kaling dished on bringing...</td>\n",
       "      <td>2018-06-04</td>\n",
       "      <td>13:00:00</td>\n",
       "      <td>Entertainment</td>\n",
       "    </tr>\n",
       "    <tr>\n",
       "      <th>15457</th>\n",
       "      <td>-0NYY8cqdiQ</td>\n",
       "      <td>2018-02-01</td>\n",
       "      <td>Megan Mullally Didn't Notice the Interesting P...</td>\n",
       "      <td>TheEllenShow</td>\n",
       "      <td>24</td>\n",
       "      <td>[megan mullally, megan, mullally, will and gra...</td>\n",
       "      <td>563746</td>\n",
       "      <td>4429</td>\n",
       "      <td>54</td>\n",
       "      <td>94</td>\n",
       "      <td>https://i.ytimg.com/vi/-0NYY8cqdiQ/default.jpg</td>\n",
       "      <td>False</td>\n",
       "      <td>False</td>\n",
       "      <td>False</td>\n",
       "      <td>Ellen and Megan Mullally have known each other...</td>\n",
       "      <td>2018-01-29</td>\n",
       "      <td>14:00:39</td>\n",
       "      <td>Entertainment</td>\n",
       "    </tr>\n",
       "    <tr>\n",
       "      <th>31553</th>\n",
       "      <td>-1Hm41N0dUs</td>\n",
       "      <td>2018-04-29</td>\n",
       "      <td>Cast of Avengers: Infinity War Draws Their Cha...</td>\n",
       "      <td>Jimmy Kimmel Live</td>\n",
       "      <td>23</td>\n",
       "      <td>[jimmy, jimmy kimmel, jimmy kimmel live, late ...</td>\n",
       "      <td>1566807</td>\n",
       "      <td>32752</td>\n",
       "      <td>393</td>\n",
       "      <td>1490</td>\n",
       "      <td>https://i.ytimg.com/vi/-1Hm41N0dUs/default.jpg</td>\n",
       "      <td>False</td>\n",
       "      <td>False</td>\n",
       "      <td>False</td>\n",
       "      <td>Benedict Cumberbatch, Don Cheadle, Elizabeth O...</td>\n",
       "      <td>2018-04-27</td>\n",
       "      <td>07:30:02</td>\n",
       "      <td>Comedy</td>\n",
       "    </tr>\n",
       "    <tr>\n",
       "      <th>3019</th>\n",
       "      <td>-1yT-K3c6YI</td>\n",
       "      <td>2017-11-29</td>\n",
       "      <td>YOUTUBER QUIZ + TRUTH OR DARE W/ THE MERRELL T...</td>\n",
       "      <td>Molly Burke</td>\n",
       "      <td>22</td>\n",
       "      <td>[youtube quiz, youtuber quiz, truth or dare, e...</td>\n",
       "      <td>129360</td>\n",
       "      <td>5214</td>\n",
       "      <td>108</td>\n",
       "      <td>516</td>\n",
       "      <td>https://i.ytimg.com/vi/-1yT-K3c6YI/default.jpg</td>\n",
       "      <td>False</td>\n",
       "      <td>False</td>\n",
       "      <td>False</td>\n",
       "      <td>Check out the video we did on the Merrell Twin...</td>\n",
       "      <td>2017-11-28</td>\n",
       "      <td>18:30:43</td>\n",
       "      <td>People &amp; Blogs</td>\n",
       "    </tr>\n",
       "    <tr>\n",
       "      <th>90</th>\n",
       "      <td>-2RVw2_QyxQ</td>\n",
       "      <td>2017-11-14</td>\n",
       "      <td>2017 Champions Showdown: Day 3</td>\n",
       "      <td>Saint Louis Chess Club</td>\n",
       "      <td>27</td>\n",
       "      <td>[Chess, Saint Louis, Club]</td>\n",
       "      <td>67429</td>\n",
       "      <td>438</td>\n",
       "      <td>23</td>\n",
       "      <td>23</td>\n",
       "      <td>https://i.ytimg.com/vi/-2RVw2_QyxQ/default.jpg</td>\n",
       "      <td>False</td>\n",
       "      <td>False</td>\n",
       "      <td>False</td>\n",
       "      <td>The Saint Louis Chess Club hosts a series of f...</td>\n",
       "      <td>2017-11-12</td>\n",
       "      <td>02:39:01</td>\n",
       "      <td>Education</td>\n",
       "    </tr>\n",
       "    <tr>\n",
       "      <th>...</th>\n",
       "      <td>...</td>\n",
       "      <td>...</td>\n",
       "      <td>...</td>\n",
       "      <td>...</td>\n",
       "      <td>...</td>\n",
       "      <td>...</td>\n",
       "      <td>...</td>\n",
       "      <td>...</td>\n",
       "      <td>...</td>\n",
       "      <td>...</td>\n",
       "      <td>...</td>\n",
       "      <td>...</td>\n",
       "      <td>...</td>\n",
       "      <td>...</td>\n",
       "      <td>...</td>\n",
       "      <td>...</td>\n",
       "      <td>...</td>\n",
       "      <td>...</td>\n",
       "    </tr>\n",
       "    <tr>\n",
       "      <th>26002</th>\n",
       "      <td>zwEn-ambXLw</td>\n",
       "      <td>2018-03-26</td>\n",
       "      <td>This Is Me - Cover by Shoshana Bean Featuring ...</td>\n",
       "      <td>Shoshana Bean</td>\n",
       "      <td>10</td>\n",
       "      <td>[travis wall, shoshana bean, greatest showman,...</td>\n",
       "      <td>114133</td>\n",
       "      <td>4979</td>\n",
       "      <td>66</td>\n",
       "      <td>198</td>\n",
       "      <td>https://i.ytimg.com/vi/zwEn-ambXLw/default.jpg</td>\n",
       "      <td>False</td>\n",
       "      <td>False</td>\n",
       "      <td>False</td>\n",
       "      <td>I was lucky enough to lay the original demo fo...</td>\n",
       "      <td>2018-03-22</td>\n",
       "      <td>08:30:07</td>\n",
       "      <td>Music</td>\n",
       "    </tr>\n",
       "    <tr>\n",
       "      <th>246</th>\n",
       "      <td>zxUwbflE1SY</td>\n",
       "      <td>2017-11-15</td>\n",
       "      <td>100 People Hold Their Breath for as Long as Th...</td>\n",
       "      <td>Cut</td>\n",
       "      <td>24</td>\n",
       "      <td>[breath, hold, funny, holding breath, breathin...</td>\n",
       "      <td>190669</td>\n",
       "      <td>5162</td>\n",
       "      <td>131</td>\n",
       "      <td>1151</td>\n",
       "      <td>https://i.ytimg.com/vi/zxUwbflE1SY/default.jpg</td>\n",
       "      <td>False</td>\n",
       "      <td>False</td>\n",
       "      <td>False</td>\n",
       "      <td>Get Cut swag here: http://cut.com/shop\\n\\nDon’...</td>\n",
       "      <td>2017-11-13</td>\n",
       "      <td>13:00:10</td>\n",
       "      <td>Entertainment</td>\n",
       "    </tr>\n",
       "    <tr>\n",
       "      <th>32150</th>\n",
       "      <td>zxwfDlhJIpw</td>\n",
       "      <td>2018-05-02</td>\n",
       "      <td>kanye west / charlamagne interview</td>\n",
       "      <td>Kanye West</td>\n",
       "      <td>22</td>\n",
       "      <td>[Kanye West, YEEZY, Kanye, Charlamagne, The Br...</td>\n",
       "      <td>3134765</td>\n",
       "      <td>88905</td>\n",
       "      <td>7526</td>\n",
       "      <td>26692</td>\n",
       "      <td>https://i.ytimg.com/vi/zxwfDlhJIpw/default.jpg</td>\n",
       "      <td>False</td>\n",
       "      <td>False</td>\n",
       "      <td>False</td>\n",
       "      <td>NaN</td>\n",
       "      <td>2018-05-01</td>\n",
       "      <td>15:57:06</td>\n",
       "      <td>People &amp; Blogs</td>\n",
       "    </tr>\n",
       "    <tr>\n",
       "      <th>144</th>\n",
       "      <td>zy0b9e40tK8</td>\n",
       "      <td>2017-11-14</td>\n",
       "      <td>Dark | Official Trailer [HD] | Netflix</td>\n",
       "      <td>Netflix</td>\n",
       "      <td>24</td>\n",
       "      <td>[Netflix, Baran Bo Odar, Jantje Friese, DARK, ...</td>\n",
       "      <td>378750</td>\n",
       "      <td>5642</td>\n",
       "      <td>146</td>\n",
       "      <td>675</td>\n",
       "      <td>https://i.ytimg.com/vi/zy0b9e40tK8/default.jpg</td>\n",
       "      <td>False</td>\n",
       "      <td>False</td>\n",
       "      <td>False</td>\n",
       "      <td>The disappearance of two kids in the German sm...</td>\n",
       "      <td>2017-11-09</td>\n",
       "      <td>09:00:07</td>\n",
       "      <td>Entertainment</td>\n",
       "    </tr>\n",
       "    <tr>\n",
       "      <th>16360</th>\n",
       "      <td>zzQsGL_F9_c</td>\n",
       "      <td>2018-02-05</td>\n",
       "      <td>Budweiser | Beer Country | :60</td>\n",
       "      <td>Budweiser</td>\n",
       "      <td>24</td>\n",
       "      <td>[Budweiser, Super Bowl, Clydesdales, Bud, This...</td>\n",
       "      <td>154206</td>\n",
       "      <td>1180</td>\n",
       "      <td>107</td>\n",
       "      <td>55</td>\n",
       "      <td>https://i.ytimg.com/vi/zzQsGL_F9_c/default.jpg</td>\n",
       "      <td>False</td>\n",
       "      <td>False</td>\n",
       "      <td>False</td>\n",
       "      <td>This is a story bigger than beer. It’s a story...</td>\n",
       "      <td>2018-01-30</td>\n",
       "      <td>18:30:04</td>\n",
       "      <td>Entertainment</td>\n",
       "    </tr>\n",
       "  </tbody>\n",
       "</table>\n",
       "<p>6351 rows × 18 columns</p>\n",
       "</div>"
      ],
      "text/plain": [
       "          video_id trending_date  \\\n",
       "39121  -0CMnp02rNY    2018-06-06   \n",
       "15457  -0NYY8cqdiQ    2018-02-01   \n",
       "31553  -1Hm41N0dUs    2018-04-29   \n",
       "3019   -1yT-K3c6YI    2017-11-29   \n",
       "90     -2RVw2_QyxQ    2017-11-14   \n",
       "...            ...           ...   \n",
       "26002  zwEn-ambXLw    2018-03-26   \n",
       "246    zxUwbflE1SY    2017-11-15   \n",
       "32150  zxwfDlhJIpw    2018-05-02   \n",
       "144    zy0b9e40tK8    2017-11-14   \n",
       "16360  zzQsGL_F9_c    2018-02-05   \n",
       "\n",
       "                                                   title  \\\n",
       "39121  Mindy Kaling's Daughter Had the Perfect Reacti...   \n",
       "15457  Megan Mullally Didn't Notice the Interesting P...   \n",
       "31553  Cast of Avengers: Infinity War Draws Their Cha...   \n",
       "3019   YOUTUBER QUIZ + TRUTH OR DARE W/ THE MERRELL T...   \n",
       "90                        2017 Champions Showdown: Day 3   \n",
       "...                                                  ...   \n",
       "26002  This Is Me - Cover by Shoshana Bean Featuring ...   \n",
       "246    100 People Hold Their Breath for as Long as Th...   \n",
       "32150                 kanye west / charlamagne interview   \n",
       "144               Dark | Official Trailer [HD] | Netflix   \n",
       "16360                     Budweiser | Beer Country | :60   \n",
       "\n",
       "                channel_title  category_id  \\\n",
       "39121            TheEllenShow           24   \n",
       "15457            TheEllenShow           24   \n",
       "31553       Jimmy Kimmel Live           23   \n",
       "3019              Molly Burke           22   \n",
       "90     Saint Louis Chess Club           27   \n",
       "...                       ...          ...   \n",
       "26002           Shoshana Bean           10   \n",
       "246                       Cut           24   \n",
       "32150              Kanye West           22   \n",
       "144                   Netflix           24   \n",
       "16360               Budweiser           24   \n",
       "\n",
       "                                                    tags    views  likes  \\\n",
       "39121  [ellen, ellen degeneres, the ellen show, ellen...   475965   6531   \n",
       "15457  [megan mullally, megan, mullally, will and gra...   563746   4429   \n",
       "31553  [jimmy, jimmy kimmel, jimmy kimmel live, late ...  1566807  32752   \n",
       "3019   [youtube quiz, youtuber quiz, truth or dare, e...   129360   5214   \n",
       "90                            [Chess, Saint Louis, Club]    67429    438   \n",
       "...                                                  ...      ...    ...   \n",
       "26002  [travis wall, shoshana bean, greatest showman,...   114133   4979   \n",
       "246    [breath, hold, funny, holding breath, breathin...   190669   5162   \n",
       "32150  [Kanye West, YEEZY, Kanye, Charlamagne, The Br...  3134765  88905   \n",
       "144    [Netflix, Baran Bo Odar, Jantje Friese, DARK, ...   378750   5642   \n",
       "16360  [Budweiser, Super Bowl, Clydesdales, Bud, This...   154206   1180   \n",
       "\n",
       "       dislikes  comments                                  thumbnail_link  \\\n",
       "39121       172       271  https://i.ytimg.com/vi/-0CMnp02rNY/default.jpg   \n",
       "15457        54        94  https://i.ytimg.com/vi/-0NYY8cqdiQ/default.jpg   \n",
       "31553       393      1490  https://i.ytimg.com/vi/-1Hm41N0dUs/default.jpg   \n",
       "3019        108       516  https://i.ytimg.com/vi/-1yT-K3c6YI/default.jpg   \n",
       "90           23        23  https://i.ytimg.com/vi/-2RVw2_QyxQ/default.jpg   \n",
       "...         ...       ...                                             ...   \n",
       "26002        66       198  https://i.ytimg.com/vi/zwEn-ambXLw/default.jpg   \n",
       "246         131      1151  https://i.ytimg.com/vi/zxUwbflE1SY/default.jpg   \n",
       "32150      7526     26692  https://i.ytimg.com/vi/zxwfDlhJIpw/default.jpg   \n",
       "144         146       675  https://i.ytimg.com/vi/zy0b9e40tK8/default.jpg   \n",
       "16360       107        55  https://i.ytimg.com/vi/zzQsGL_F9_c/default.jpg   \n",
       "\n",
       "       comments_disabled  ratings_disabled  video_error_or_removed  \\\n",
       "39121              False             False                   False   \n",
       "15457              False             False                   False   \n",
       "31553              False             False                   False   \n",
       "3019               False             False                   False   \n",
       "90                 False             False                   False   \n",
       "...                  ...               ...                     ...   \n",
       "26002              False             False                   False   \n",
       "246                False             False                   False   \n",
       "32150              False             False                   False   \n",
       "144                False             False                   False   \n",
       "16360              False             False                   False   \n",
       "\n",
       "                                             description publish_date  \\\n",
       "39121  Ocean's 8 star Mindy Kaling dished on bringing...   2018-06-04   \n",
       "15457  Ellen and Megan Mullally have known each other...   2018-01-29   \n",
       "31553  Benedict Cumberbatch, Don Cheadle, Elizabeth O...   2018-04-27   \n",
       "3019   Check out the video we did on the Merrell Twin...   2017-11-28   \n",
       "90     The Saint Louis Chess Club hosts a series of f...   2017-11-12   \n",
       "...                                                  ...          ...   \n",
       "26002  I was lucky enough to lay the original demo fo...   2018-03-22   \n",
       "246    Get Cut swag here: http://cut.com/shop\\n\\nDon’...   2017-11-13   \n",
       "32150                                                NaN   2018-05-01   \n",
       "144    The disappearance of two kids in the German sm...   2017-11-09   \n",
       "16360  This is a story bigger than beer. It’s a story...   2018-01-30   \n",
       "\n",
       "      publish_time        category  \n",
       "39121     13:00:00   Entertainment  \n",
       "15457     14:00:39   Entertainment  \n",
       "31553     07:30:02          Comedy  \n",
       "3019      18:30:43  People & Blogs  \n",
       "90        02:39:01       Education  \n",
       "...            ...             ...  \n",
       "26002     08:30:07           Music  \n",
       "246       13:00:10   Entertainment  \n",
       "32150     15:57:06  People & Blogs  \n",
       "144       09:00:07   Entertainment  \n",
       "16360     18:30:04   Entertainment  \n",
       "\n",
       "[6351 rows x 18 columns]"
      ]
     },
     "execution_count": 35,
     "metadata": {},
     "output_type": "execute_result"
    }
   ],
   "source": [
    "first.sort_values('video_id')"
   ]
  },
  {
   "cell_type": "code",
   "execution_count": 36,
   "metadata": {},
   "outputs": [
    {
     "data": {
      "text/plain": [
       "6351"
      ]
     },
     "execution_count": 36,
     "metadata": {},
     "output_type": "execute_result"
    }
   ],
   "source": [
    "first.video_id.nunique()"
   ]
  },
  {
   "cell_type": "code",
   "execution_count": 37,
   "metadata": {},
   "outputs": [
    {
     "data": {
      "text/plain": [
       "video_id                          object\n",
       "trending_date             datetime64[ns]\n",
       "title                             object\n",
       "channel_title                     object\n",
       "category_id                        int64\n",
       "tags                              object\n",
       "views                              int64\n",
       "likes                              int64\n",
       "dislikes                           int64\n",
       "comments                           int64\n",
       "thumbnail_link                    object\n",
       "comments_disabled                   bool\n",
       "ratings_disabled                    bool\n",
       "video_error_or_removed              bool\n",
       "description                       object\n",
       "publish_date                      object\n",
       "publish_time                      object\n",
       "category                          object\n",
       "dtype: object"
      ]
     },
     "execution_count": 37,
     "metadata": {},
     "output_type": "execute_result"
    }
   ],
   "source": [
    "df.dtypes"
   ]
  },
  {
   "cell_type": "code",
   "execution_count": 38,
   "metadata": {},
   "outputs": [
    {
     "data": {
      "text/plain": [
       "video_id                          object\n",
       "trending_date             datetime64[ns]\n",
       "title                             object\n",
       "channel_title                     object\n",
       "category_id                        int64\n",
       "tags                              object\n",
       "views                              int64\n",
       "likes                              int64\n",
       "dislikes                           int64\n",
       "comments                           int64\n",
       "thumbnail_link                    object\n",
       "comments_disabled                   bool\n",
       "ratings_disabled                    bool\n",
       "video_error_or_removed              bool\n",
       "description                       object\n",
       "publish_date                      object\n",
       "publish_time                      object\n",
       "category                          object\n",
       "dtype: object"
      ]
     },
     "execution_count": 38,
     "metadata": {},
     "output_type": "execute_result"
    }
   ],
   "source": [
    "first.dtypes"
   ]
  },
  {
   "cell_type": "markdown",
   "metadata": {},
   "source": [
    "<a id='clean_sum'></a>\n",
    "**Cleaning summary**\n",
    "1. The date/time based columns were converted to datetime objects from strings using `pd.to_datetime()`.\n",
    "2. The `trending_date` column was not in 'YYYY-MM-DD' format and needed to be split on '.' and concatenated in order to be converted to datetime.\n",
    "3. The `publish_time` column includes both date and time and was split into two separate columns, `publish_date` and `publish_time` using pandas datetime methods.\n",
    "4. 48 duplicate rows were dropped using `.drop_duplicates()`   \n",
    "5. Only one `category_id` of the 'Comedy' category lived in the DataFrame, so there was no need to determine misclassification.\n",
    "6. The `comment_count` column was renamed to `columns`, for consistent naming convention across other numeric columns.\n",
    "7. The tags in the `tags` column were transformed into an array of tags for each video.\n",
    "8. The 6,351 unique videos were isolated into a separate DataFrame using their first trending date for categorical analysis."
   ]
  },
  {
   "cell_type": "markdown",
   "metadata": {},
   "source": [
    "### Export Dataframes"
   ]
  },
  {
   "cell_type": "code",
   "execution_count": 39,
   "metadata": {},
   "outputs": [],
   "source": [
    "df.to_pickle('src/full_data_cleaned.pkl')"
   ]
  },
  {
   "cell_type": "code",
   "execution_count": 40,
   "metadata": {},
   "outputs": [],
   "source": [
    "first.to_pickle('src/individual_videos.pkl')"
   ]
  }
 ],
 "metadata": {
  "kernelspec": {
   "display_name": "Python 3",
   "language": "python",
   "name": "python3"
  },
  "language_info": {
   "codemirror_mode": {
    "name": "ipython",
    "version": 3
   },
   "file_extension": ".py",
   "mimetype": "text/x-python",
   "name": "python",
   "nbconvert_exporter": "python",
   "pygments_lexer": "ipython3",
   "version": "3.7.7"
  }
 },
 "nbformat": 4,
 "nbformat_minor": 4
}
